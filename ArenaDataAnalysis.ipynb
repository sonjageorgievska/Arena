{
 "cells": [
  {
   "cell_type": "code",
   "execution_count": 1,
   "metadata": {
    "collapsed": false
   },
   "outputs": [],
   "source": [
    "# defining functions\n",
    "import json \n",
    "import math\n",
    "\n",
    "def getmeasurementTimestamp(item):\n",
    "    return int(item['measurementTimestamp'])\n",
    "\n",
    "def getProcessingTimestamp(item):\n",
    "    return int(item['processingTimestamp'])\n",
    "\n",
    "def get_x_error(item): #the error in the data is the stdev of the sample, we compute the error of the estimation (the sample mean)\n",
    "    return item['value']['averagecoordinate']['error']['coordinates'][0]/math.sqrt(item['value']['trackeeHistory']['nMeasurements'])\n",
    "\n",
    "def get_y_error(item):\n",
    "    return item['value']['averagecoordinate']['error']['coordinates'][1]/math.sqrt(item['value']['trackeeHistory']['nMeasurements'])\n",
    "\n",
    "def get_fitted(item):\n",
    "     return item['value']['trackeeHistory']['fitStatus']\n",
    "    \n",
    "def get_x_sample_error(item): \n",
    "    return item['value']['averagecoordinate']['error']['coordinates'][0]\n",
    "def get_y_sample_error(item):\n",
    "    return item['value']['averagecoordinate']['error']['coordinates'][1]\n",
    "\n",
    "def get_probChi2(item):\n",
    "    return item['value']['trackeeHistory']['probChi2'] \n",
    "def get_Chi2PerDof(item):\n",
    "    return item['value']['trackeeHistory']['chi2PerDof'] \n",
    "\n",
    "def plotHistogramOfDictionary(dictionary, xlabel, ylabel, nbins):\n",
    "    dictionaryList = []\n",
    "    for address in dictionary.keys():\n",
    "        dictionaryList.append(dictionary[address])\n",
    "    dictArray = np.array(dictionaryList)\n",
    "    plt.hist(dictArray, bins = nbins)\n",
    "    plt.ylabel(ylabel)\n",
    "    plt.xlabel(xlabel)\n",
    "    axes = plt.gca()\n",
    "    plt.show()\n"
   ]
  },
  {
   "cell_type": "code",
   "execution_count": 2,
   "metadata": {
    "collapsed": false
   },
   "outputs": [],
   "source": [
    "#reading fitted data from the concert day\n",
    "for i in [0]:\n",
    "    data = []\n",
    "    with open(\"arena/2015-07-05.json\") as f:\n",
    "    #with open(\"arena/2015-07-05_raw.json\") as f:\n",
    "        data = f.readlines()\n",
    "\n",
    "    json_lines = []\n",
    "    mac_adresses = []\n",
    "    \n",
    "    for line in data:\n",
    "        jsline = json.loads(line)\n",
    "        json_lines.append(jsline)#now json_lines contains all lines of data\n",
    "        mac_adresses.append(jsline[\"value\"][\"sourceMac\"]) # mac_addresses is a list of address per line\n",
    "        \n",
    "#sorting by time\n",
    "json_lines.sort(key = getmeasurementTimestamp) # now json_lines is sorted by time"
   ]
  },
  {
   "cell_type": "code",
   "execution_count": 4,
   "metadata": {
    "collapsed": false,
    "scrolled": true
   },
   "outputs": [
    {
     "name": "stdout",
     "output_type": "stream",
     "text": [
      "minTime=1436047367297\n",
      "maxTime=1436133804311\n",
      "time in minutes:1440.6169\n",
      "number of lines: 772867\n",
      "average x error: 3342.886813949892\n",
      "average y error: 3697.2146526257307\n",
      "number of addresses the whole day:30344\n",
      "average delay in ms:10034.32547644032\n",
      "number of fitted:772867\n"
     ]
    }
   ],
   "source": [
    "#computation of error etc (not so important any more)\n",
    "minTime = getmeasurementTimestamp(json_lines[0])\n",
    "maxTime = getmeasurementTimestamp(json_lines[len(json_lines) - 1])\n",
    "print(\"minTime=\"+ str(minTime))\n",
    "print(\"maxTime=\"+ str(maxTime))\n",
    "\n",
    "timeMinutes = (maxTime - minTime)/1000/60\n",
    "\n",
    "for i in [0]:\n",
    "    average_x_error = 0\n",
    "    average_y_error = 0\n",
    "    count = 0 \n",
    "    good_lines = []\n",
    "    number_of_addresses =  len(set(mac_adresses)) #number of mac adresses detected. Not people, because of MAC randomization\n",
    "    mc_good = []\n",
    "    delay = 0\n",
    "    number_of_fitted = 0\n",
    "    for jsline in json_lines:\n",
    "        average_x_error += get_x_error(jsline)\n",
    "        average_y_error += get_y_error(jsline)\n",
    "        thisdelay = getProcessingTimestamp(jsline) - getmeasurementTimestamp(jsline)\n",
    "        delay += thisdelay\n",
    "        if (get_fitted(jsline) == 'FITTED'):\n",
    "            number_of_fitted +=1\n",
    "        if get_x_error(jsline) <= 2 and get_y_error(jsline) <= 2:             \n",
    "            good_lines.append(jsline)\n",
    "            mc_good.append(jsline[\"value\"][\"sourceMac\"])\n",
    "\n",
    "    number_of_lines = len(json_lines)\n",
    "    number_of_addresses_good = len(set(mc_good)) # number of addresses where error < 2m \n",
    "    average_x_error /= number_of_lines\n",
    "    average_y_error /= number_of_lines\n",
    "    delay /= number_of_lines\n",
    "    \n",
    "    print ('time in minutes:' + str(timeMinutes)) \n",
    "    print ('number of lines: ' + str(number_of_lines))\n",
    "    print ('average x error: ' + str(average_x_error))\n",
    "    print ('average y error: ' + str(average_y_error))    \n",
    "    print('number of addresses the whole day:' + str(number_of_addresses))     \n",
    "    #print('number of estimations with stdev < 2m:' + str(number_of_addresses_good))    #this is not correct \n",
    "    print('average delay in ms:' + str(delay))\n",
    "    print('number of fitted:' + str(number_of_fitted)) "
   ]
  },
  {
   "cell_type": "code",
   "execution_count": 5,
   "metadata": {
    "collapsed": false
   },
   "outputs": [],
   "source": [
    "#computing FirstTimeSeen and LastTimeSeen for every address\n",
    "concertFinishedTimestamp=minTime+1000*60*60*8#timestamp until 8 am\n",
    "FirstTimeSeen=dict()\n",
    "LastTimeSeen=dict()\n",
    "\n",
    "for jsline in json_lines:\n",
    "    address = jsline[\"value\"][\"sourceMac\"]\n",
    "    time =  getmeasurementTimestamp(jsline)\n",
    "    if address in FirstTimeSeen:        \n",
    "        if time < FirstTimeSeen[address]:\n",
    "            FirstTimeSeen[address] = time\n",
    "    else:\n",
    "        FirstTimeSeen[address] = time\n",
    "        \n",
    "    if address in LastTimeSeen:         \n",
    "        if time > LastTimeSeen[address]:\n",
    "            LastTimeSeen[address] = time\n",
    "    else:\n",
    "        LastTimeSeen[address] = time "
   ]
  },
  {
   "cell_type": "code",
   "execution_count": 6,
   "metadata": {
    "collapsed": false,
    "scrolled": true
   },
   "outputs": [
    {
     "name": "stdout",
     "output_type": "stream",
     "text": [
      "number of addresses detected during concert hours:\n",
      "28847\n",
      "Long term persistent addresses (>10 min)= 10589\n",
      "averageNumberOfAddressesPerSecondAtConcert 4.615643582683542\n",
      "36\n"
     ]
    }
   ],
   "source": [
    "#Computing dwell time, number of persistent addresses, and number of addresses visible in every second\n",
    "DwellTime = dict()\n",
    "DwellTimeDuringConcert = dict()\n",
    "numberOfAdressesAtConcert=0\n",
    "for address in LastTimeSeen.keys():    \n",
    "    DwellTime[address] = int((LastTimeSeen[address] - FirstTimeSeen[address]) /1000/60) # in minutes\n",
    "    if LastTimeSeen[address] < concertFinishedTimestamp:\n",
    "        numberOfAdressesAtConcert += 1\n",
    "        DwellTimeDuringConcert[address] = DwellTime[address]  \n",
    "print('number of addresses detected during concert hours:')\n",
    "print(numberOfAdressesAtConcert)\n",
    "longTermAddresses=[]\n",
    "numberOfAddresses = []\n",
    "AddressesInSec = []\n",
    "for jsline in json_lines:\n",
    "    sec = int(math.floor((getmeasurementTimestamp(jsline)- minTime)/1000))\n",
    "    #print(str(sec))\n",
    "    address = jsline[\"value\"][\"sourceMac\"]\n",
    "    if DwellTime[address] > 10:#  i.e. >10 minutes \n",
    "        longTermAddresses.append(address)\n",
    "        if len(AddressesInSec) <= sec:\n",
    "            while len(AddressesInSec) <= sec:\n",
    "                AddressesInSec.append([])                \n",
    "            AddressesInSec[sec].append(address)                       \n",
    "        else:\n",
    "            if address not in AddressesInSec[sec]:                                \n",
    "                AddressesInSec[sec].append(address)\n",
    "for setje in AddressesInSec:\n",
    "    numberOfAddresses.append(len(setje)) \n",
    "longTermCount = len(set(longTermAddresses))                \n",
    "print(\"Long term persistent addresses (>10 min)= \" + str(longTermCount))\n",
    "average = 0            \n",
    "maxN = 0\n",
    "for addresses in AddressesInSec:            \n",
    "    average += len(addresses) \n",
    "    maxN = max(len(addresses), maxN)\n",
    "average /= len(AddressesInSec)   \n",
    "print(\"averageNumberOfAddressesPerSecondAtConcert \" + str(average))\n",
    "print(maxN)\n"
   ]
  },
  {
   "cell_type": "code",
   "execution_count": 37,
   "metadata": {
    "collapsed": false
   },
   "outputs": [],
   "source": [
    "plotHistogramOfDictionary(DwellTimeDuringConcert, \"dwell time(minutes)\", \"number of addresses\", 50)"
   ]
  },
  {
   "cell_type": "code",
   "execution_count": 23,
   "metadata": {
    "collapsed": false
   },
   "outputs": [],
   "source": [
    "#drawing how many addresses per second are visible (later there is another way to compute this)\n",
    "import matplotlib.pyplot as plt\n",
    "plt.plot(numberOfAddresses)\n",
    "plt.ylabel('addresses present')\n",
    "plt.xlabel('sec')\n",
    "axes = plt.gca()\n",
    "axes.set_xlim([0,33000])\n",
    "axes.set_ylim([0,max(numberOfAddresses)])\n",
    "plt.show()"
   ]
  },
  {
   "cell_type": "code",
   "execution_count": 31,
   "metadata": {
    "collapsed": false
   },
   "outputs": [
    {
     "name": "stdout",
     "output_type": "stream",
     "text": [
      "maxDwellTime during the whole day=470 minutes\n",
      "number of addresses staying less than 10 min during concert hours  = 18438\n",
      "number of addresses staying more than 10 min during concert hours  = 10409\n"
     ]
    }
   ],
   "source": [
    "#unnecessary computations, same as histogram\n",
    "n_addresses_staying_this_much = []\n",
    "maxDwellTime = max(DwellTimeDuringConcert.values())\n",
    "print(\"maxDwellTime during the whole day=\" + str(maxDwellTime) + \" minutes\")\n",
    "for i in range(maxDwellTime + 1):   \n",
    "    n_addresses_staying_this_much.append(0)\n",
    "    \n",
    "for address in DwellTimeDuringConcert.keys():  \n",
    "        n_addresses_staying_this_much[DwellTime[address]] +=1\n",
    "#for i in range(0,470):\n",
    "   # print(str(n_addresses_staying_this_much[i]))    \n",
    "n_addresses_staying_less_than_10min =  sum(n_addresses_staying_this_much[:10])\n",
    "\n",
    "n_addresses_staying_more_than_10min = numberOfAdressesAtConcert - n_addresses_staying_less_than_10min\n",
    "\n",
    "\n",
    "print(\"number of addresses staying less than 10 min during concert hours  = \" + str(n_addresses_staying_less_than_10min))\n",
    "print(\"number of addresses staying more than 10 min during concert hours  = \" + str(n_addresses_staying_more_than_10min))\n",
    " "
   ]
  },
  {
   "cell_type": "code",
   "execution_count": 34,
   "metadata": {
    "collapsed": false
   },
   "outputs": [],
   "source": [
    "#plotting dwell time distribution, unnecessary\n",
    "import matplotlib.pyplot as plt\n",
    "plt.plot(n_addresses_staying_this_much)\n",
    "plt.ylabel('number of addresses 05 july')\n",
    "plt.xlabel('dwell time in minutes')\n",
    "axes = plt.gca()\n",
    "#axes.set_xlim([0,470])\n",
    "#axes.set_ylim([0,200])\n",
    "#axes.set_ylim([0,max(n_addresses_staying_this_much)])\n",
    "plt.show()"
   ]
  },
  {
   "cell_type": "code",
   "execution_count": null,
   "metadata": {
    "collapsed": false
   },
   "outputs": [],
   "source": [
    "106/8"
   ]
  },
  {
   "cell_type": "code",
   "execution_count": 7,
   "metadata": {
    "collapsed": false
   },
   "outputs": [
    {
     "name": "stdout",
     "output_type": "stream",
     "text": [
      "total number of lines with localMac == 1: 60024\n",
      "total number of lines with localMac == 0: 712843\n",
      "total number of addresses with localMac == 1: 15554\n",
      "total number of addresses with localMac == 0: 14790\n",
      "total number of persistent addresses with localMac == 1: 483\n",
      "total number of persistent addresses with localMac == 0: 9769\n"
     ]
    }
   ],
   "source": [
    "Randomized = dict()\n",
    "PersistentRandomized = dict()\n",
    "count0 = 0\n",
    "count1 = 0\n",
    "for line in json_lines:\n",
    "    address = line[\"value\"][\"sourceMac\"]\n",
    "    if line[\"value\"][\"trackeeHistory\"][\"localMac\"] == 1 :\n",
    "        count1 +=1\n",
    "        Randomized[address] = 1\n",
    "        if DwellTime[address] > 10: \n",
    "            if LastTimeSeen[address] < concertFinishedTimestamp:\n",
    "                PersistentRandomized[address] = 1 \n",
    "    else:\n",
    "        count0 +=1\n",
    "        Randomized[address] = 0\n",
    "        if DwellTime[address] > 10: \n",
    "            if LastTimeSeen[address] < concertFinishedTimestamp:\n",
    "                PersistentRandomized[address] = 0 \n",
    "\n",
    "zeros=0\n",
    "ones=0\n",
    "zerosPersistent = 0\n",
    "onesPersistent = 0\n",
    "for key in Randomized.keys():\n",
    "    if Randomized[key]==0:\n",
    "        zeros +=1\n",
    "    else:\n",
    "        ones +=1\n",
    "for key in PersistentRandomized.keys():\n",
    "    if PersistentRandomized[key]==0:\n",
    "        zerosPersistent +=1\n",
    "    else:\n",
    "        onesPersistent +=1        \n",
    "print(\"total number of lines with localMac == 1: \" + str(count1))\n",
    "print(\"total number of lines with localMac == 0: \" + str(count0))\n",
    "print(\"total number of addresses with localMac == 1: \" + str(ones))\n",
    "print(\"total number of addresses with localMac == 0: \" + str(zeros))\n",
    "print(\"total number of persistent addresses with localMac == 1: \" + str(onesPersistent))\n",
    "print(\"total number of persistent addresses with localMac == 0: \" + str(zerosPersistent))\n",
    "      \n"
   ]
  },
  {
   "cell_type": "code",
   "execution_count": 8,
   "metadata": {
    "collapsed": false
   },
   "outputs": [],
   "source": [
    "DwellTimeConcertRandomized = dict()\n",
    "DwellTimeConcertNonRandomized = dict()\n",
    "for key in DwellTimeDuringConcert.keys():\n",
    "    if Randomized[key] == 0:\n",
    "        DwellTimeConcertNonRandomized[key] = DwellTimeDuringConcert[key]\n",
    "    else:\n",
    "        DwellTimeConcertRandomized[key] = DwellTimeDuringConcert[key]\n",
    "\n",
    "    "
   ]
  },
  {
   "cell_type": "code",
   "execution_count": 47,
   "metadata": {
    "collapsed": true
   },
   "outputs": [],
   "source": [
    "plotHistogramOfDictionary(DwellTimeConcertNonRandomized, \"dwell time(minutes) of non-randomized addresses\", \"number of addresses\", 50)"
   ]
  },
  {
   "cell_type": "code",
   "execution_count": 49,
   "metadata": {
    "collapsed": true
   },
   "outputs": [],
   "source": [
    "plotHistogramOfDictionary(DwellTimeConcertRandomized, \"dwell time(minutes) of randomized addresses\", \"number of addresses\",200)"
   ]
  },
  {
   "cell_type": "code",
   "execution_count": 9,
   "metadata": {
    "collapsed": false
   },
   "outputs": [
    {
     "name": "stdout",
     "output_type": "stream",
     "text": [
      "86437\n"
     ]
    }
   ],
   "source": [
    "#double-check:another approach to computing visible addresses per second\n",
    "Visible = dict()\n",
    "for line in json_lines:\n",
    "    address = line[\"value\"][\"sourceMac\"]\n",
    "    timeSec = int(math.floor((getmeasurementTimestamp(line)- minTime)/1000))\n",
    "    if timeSec in Visible.keys():        \n",
    "        Visible[timeSec].append(address)\n",
    "    else:\n",
    "        Visible[timeSec] = []\n",
    "        Visible[timeSec].append(address)\n",
    "\n",
    "maxSec = max(Visible.keys())    \n",
    "print(maxSec)\n",
    "for sec in range(0,maxSec):\n",
    "    if sec not in Visible.keys():\n",
    "        Visible[sec] = []\n",
    "NVisible = []\n",
    "for sec in range(0,86437):\n",
    "    NVisible.append(len(set(Visible[sec])))\n",
    "    "
   ]
  },
  {
   "cell_type": "raw",
   "metadata": {},
   "source": []
  },
  {
   "cell_type": "code",
   "execution_count": 10,
   "metadata": {
    "collapsed": true
   },
   "outputs": [],
   "source": [
    "def ComputeVisiblePerSec(json_lines, localMac):\n",
    "    Visible = dict()\n",
    "    for line in json_lines:\n",
    "        address = line[\"value\"][\"sourceMac\"]\n",
    "        timeSec = int(math.floor((getmeasurementTimestamp(line)- minTime)/1000))\n",
    "        if timeSec in Visible.keys():  \n",
    "            if Randomized[address] == localMac:\n",
    "                Visible[timeSec].append(address)\n",
    "        else:\n",
    "            Visible[timeSec] = []\n",
    "            if Randomized[address] == localMac:\n",
    "                Visible[timeSec].append(address)\n",
    "    maxSec = max(Visible.keys())        \n",
    "    for sec in range(0,maxSec):\n",
    "        if sec not in Visible.keys():\n",
    "            Visible[sec] = []\n",
    "    NVisible = []\n",
    "    for sec in range(0,maxSec):\n",
    "        NVisible.append(len(set(Visible[sec])))\n",
    "    return NVisible"
   ]
  },
  {
   "cell_type": "code",
   "execution_count": 11,
   "metadata": {
    "collapsed": false
   },
   "outputs": [],
   "source": [
    "VisiblePerSecondNonRandomized = ComputeVisiblePerSec(json_lines, 0)\n",
    "VisiblePerSecondRandomized = ComputeVisiblePerSec(json_lines, 1) "
   ]
  },
  {
   "cell_type": "code",
   "execution_count": 69,
   "metadata": {
    "collapsed": true
   },
   "outputs": [],
   "source": [
    "#drawing how many addresses per second are visible\n",
    "import matplotlib.pyplot as plt\n",
    "plt.plot(NVisible)\n",
    "plt.ylabel('visible addresses')\n",
    "plt.xlabel('time(sec)')\n",
    "axes = plt.gca()\n",
    "axes.set_xlim([0,30000])\n",
    "axes.set_ylim([0,max(NVisible)])\n",
    "plt.show()"
   ]
  },
  {
   "cell_type": "code",
   "execution_count": 70,
   "metadata": {
    "collapsed": true
   },
   "outputs": [],
   "source": [
    "#drawing how many nonrandomized addresses per second are visible\n",
    "plt.plot(VisiblePerSecondNonRandomized)\n",
    "plt.ylabel('visible non-randomized addresses')\n",
    "plt.xlabel('time(sec)')\n",
    "axes = plt.gca()\n",
    "axes.set_xlim([0,30000])\n",
    "axes.set_ylim([0,max(VisiblePerSecondNonRandomized)])\n",
    "plt.show()"
   ]
  },
  {
   "cell_type": "code",
   "execution_count": 71,
   "metadata": {
    "collapsed": true
   },
   "outputs": [],
   "source": [
    "#drawing how many randomized addresses per second are visible\n",
    "plt.plot(VisiblePerSecondRandomized)\n",
    "plt.ylabel('visible randomized addresses')\n",
    "plt.xlabel('time(sec)')\n",
    "axes = plt.gca()\n",
    "axes.set_xlim([0,30000])\n",
    "axes.set_ylim([0,max(VisiblePerSecondRandomized)])\n",
    "plt.show()"
   ]
  },
  {
   "cell_type": "code",
   "execution_count": 11,
   "metadata": {
    "collapsed": false
   },
   "outputs": [
    {
     "name": "stdout",
     "output_type": "stream",
     "text": [
      "84\n",
      "84\n"
     ]
    }
   ],
   "source": [
    "# checking the trajectory of a certain address, error used is sample error (not error of the estimation of the mean) \n",
    "lines = []#will contain only the lines for that address\n",
    "for line in json_lines:\n",
    "    address = line[\"value\"][\"sourceMac\"]\n",
    "    #if (address == '27e573c8-1640-4ea8-86d8-0733c800e9cd'):#this is the address we are checking for, non-randomized\n",
    "    if (address == '3620f07e-a673-4648-bd9b-a0681d574d6f'):\n",
    "    #if (address == '8b8a2356-d11e-4bd5-bb35-d8370bf48b1e'):#randomized address    \n",
    "        lines.append(line)\n",
    "       \n",
    "x_coord = []\n",
    "y_coord = []\n",
    "times = []\n",
    "x_errors = []\n",
    "y_errors = []\n",
    "for line in lines:  \n",
    "    alpha = get_probChi2(line)    \n",
    "    if ( alpha > 0.4) and (get_x_sample_error(line) <10 ) and  get_Chi2PerDof(line) <1.1 :    \n",
    "        coordinates = line[\"value\"][\"averagecoordinate\"][\"avg\"][\"coordinates\"]\n",
    "        time = math.floor(line[\"measurementTimestamp\"]/1000)      \n",
    "        if time not in times:       \n",
    "            x_coord.append( coordinates[0])\n",
    "            y_coord.append(coordinates[1])\n",
    "            x_errors.append(get_x_sample_error(line)*2)# for a 95% confidence\n",
    "            y_errors.append(get_y_sample_error(line)*2)# for a 95% confidence\n",
    "            times.append(time)\n",
    "    \n",
    "print(len(x_errors)) \n",
    "print(len(x_coord))"
   ]
  },
  {
   "cell_type": "code",
   "execution_count": 12,
   "metadata": {
    "collapsed": false
   },
   "outputs": [
    {
     "name": "stdout",
     "output_type": "stream",
     "text": [
      "477\n",
      "477\n"
     ]
    }
   ],
   "source": [
    "# checking the trajectory of a certain address, error used is error of the estimation of the mean\n",
    "lines = []#will contain only the lines for that address\n",
    "for line in json_lines:\n",
    "    address = line[\"value\"][\"sourceMac\"]\n",
    "    #if (address == '27e573c8-1640-4ea8-86d8-0733c800e9cd'):#this is the address we are checking for, nonrandomized\n",
    "    #if address =='e1deda99-163f-4b68-9ade-e1f05d070bf2' : # the largest one, probably from the organizers  \n",
    "    #if (address == '3620f07e-a673-4648-bd9b-a0681d574d6f'):\n",
    "    if (address == '8b8a2356-d11e-4bd5-bb35-d8370bf48b1e'):#randomized address  \n",
    "        lines.append(line)\n",
    "       \n",
    "x_coord = []\n",
    "y_coord = []\n",
    "times = []\n",
    "x_errors = []\n",
    "y_errors = []\n",
    "for line in lines:\n",
    "    alpha = get_probChi2(line)\n",
    "    if ( alpha > 0.3) and (get_x_error(line) <5 ) and  get_Chi2PerDof(line) <1.2 :    \n",
    "        coordinates = line[\"value\"][\"averagecoordinate\"][\"avg\"][\"coordinates\"]\n",
    "        time = math.floor(line[\"measurementTimestamp\"]/1000)        \n",
    "        if time not in times:\n",
    "            x_coord.append( coordinates[0])\n",
    "            y_coord.append(coordinates[1])\n",
    "            x_errors.append(get_x_error(line)*2)# for a 95% confidence\n",
    "            y_errors.append(get_y_error(line)*2)# for a 95% confidence\n",
    "            times.append(time)\n",
    "    \n",
    "print(len(x_errors)) \n",
    "print(len(x_coord))"
   ]
  },
  {
   "cell_type": "code",
   "execution_count": 16,
   "metadata": {
    "collapsed": false
   },
   "outputs": [],
   "source": [
    "import numpy as np\n",
    "import matplotlib.pyplot as plt\n",
    "\n",
    "fig, (ax0, ax1) = plt.subplots(nrows=2, sharex=True)\n",
    "ax0.errorbar(times, x_coord, yerr=x_errors, fmt='o')\n",
    "ax0.set_title('x-coordinate with error')\n",
    "plt.xlabel('time(sec)')\n",
    "\n",
    "ax1.errorbar(times, y_coord, yerr=y_errors, fmt='o')\n",
    "ax1.set_title('y-coordinate with error')\n",
    "\n",
    "plt.show()\n"
   ]
  },
  {
   "cell_type": "code",
   "execution_count": 4,
   "metadata": {
    "collapsed": false
   },
   "outputs": [
    {
     "ename": "NameError",
     "evalue": "name 'x_coord' is not defined",
     "output_type": "error",
     "traceback": [
      "\u001b[1;31m---------------------------------------------------------------------------\u001b[0m",
      "\u001b[1;31mNameError\u001b[0m                                 Traceback (most recent call last)",
      "\u001b[1;32m<ipython-input-4-a25d14a8c134>\u001b[0m in \u001b[0;36m<module>\u001b[1;34m()\u001b[0m\n\u001b[0;32m      1\u001b[0m \u001b[0mcoor\u001b[0m \u001b[1;33m=\u001b[0m \u001b[0mdict\u001b[0m\u001b[1;33m(\u001b[0m\u001b[1;33m)\u001b[0m\u001b[1;33m\u001b[0m\u001b[0m\n\u001b[0;32m      2\u001b[0m \u001b[0mcount\u001b[0m \u001b[1;33m=\u001b[0m\u001b[1;36m0\u001b[0m\u001b[1;33m\u001b[0m\u001b[0m\n\u001b[1;32m----> 3\u001b[1;33m \u001b[1;32mfor\u001b[0m \u001b[0mx\u001b[0m \u001b[1;32min\u001b[0m \u001b[0mx_coord\u001b[0m\u001b[1;33m:\u001b[0m\u001b[1;33m\u001b[0m\u001b[0m\n\u001b[0m\u001b[0;32m      4\u001b[0m     \u001b[0mkey\u001b[0m \u001b[1;33m=\u001b[0m \u001b[0mtimes\u001b[0m\u001b[1;33m[\u001b[0m\u001b[0mcount\u001b[0m\u001b[1;33m]\u001b[0m\u001b[1;33m\u001b[0m\u001b[0m\n\u001b[0;32m      5\u001b[0m     \u001b[0mcoor\u001b[0m\u001b[1;33m[\u001b[0m\u001b[0mkey\u001b[0m\u001b[1;33m]\u001b[0m \u001b[1;33m=\u001b[0m \u001b[0mx\u001b[0m\u001b[1;33m\u001b[0m\u001b[0m\n",
      "\u001b[1;31mNameError\u001b[0m: name 'x_coord' is not defined"
     ]
    }
   ],
   "source": [
    "coor = dict()\n",
    "count =0\n",
    "for x in x_coord:\n",
    "    key = times[count]\n",
    "    coor[key] = x\n",
    "    count +=1\n",
    "plotHistogramOfDictionary(coor,  'x_coord', 'freq', 200)    \n",
    "    "
   ]
  },
  {
   "cell_type": "code",
   "execution_count": 28,
   "metadata": {
    "collapsed": true
   },
   "outputs": [],
   "source": [
    "\n",
    "\n"
   ]
  },
  {
   "cell_type": "code",
   "execution_count": 29,
   "metadata": {
    "collapsed": false
   },
   "outputs": [],
   "source": []
  },
  {
   "cell_type": "code",
   "execution_count": null,
   "metadata": {
    "collapsed": true
   },
   "outputs": [],
   "source": []
  }
 ],
 "metadata": {
  "kernelspec": {
   "display_name": "Python 3",
   "language": "python",
   "name": "python3"
  },
  "language_info": {
   "codemirror_mode": {
    "name": "ipython",
    "version": 3
   },
   "file_extension": ".py",
   "mimetype": "text/x-python",
   "name": "python",
   "nbconvert_exporter": "python",
   "pygments_lexer": "ipython3",
   "version": "3.5.1"
  }
 },
 "nbformat": 4,
 "nbformat_minor": 0
}
