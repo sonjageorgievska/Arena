{
 "cells": [
  {
   "cell_type": "code",
   "execution_count": null,
   "metadata": {
    "collapsed": true
   },
   "outputs": [],
   "source": [
    "#analysing fitted data : FirstTimeSeen, LastTimeSeen, Dwell Time, addresses detected per second/minute, \n",
    "# x and y coordinates through time "
   ]
  },
  {
   "cell_type": "code",
   "execution_count": 1,
   "metadata": {
    "collapsed": false
   },
   "outputs": [],
   "source": [
    "# defining functions\n",
    "import json \n",
    "import math\n",
    "import numpy as np\n",
    "\n",
    "def getmeasurementTimestamp(item):\n",
    "    return int(item['measurementTimestamp'])\n",
    "\n",
    "def getProcessingTimestamp(item):\n",
    "    return int(item['processingTimestamp'])\n",
    "\n",
    "def get_x_error(item): #the error in the data is the stdev of the sample, we compute the error of the estimation (the sample mean)\n",
    "    return item['value']['averagecoordinate']['error']['coordinates'][0]/math.sqrt(item['value']['trackeeHistory']['nMeasurements'])\n",
    "\n",
    "def get_y_error(item):\n",
    "    return item['value']['averagecoordinate']['error']['coordinates'][1]/math.sqrt(item['value']['trackeeHistory']['nMeasurements'])\n",
    "\n",
    "def get_fitted(item):\n",
    "     return item['value']['trackeeHistory']['fitStatus']\n",
    "    \n",
    "def get_x_sample_error(item): \n",
    "    return item['value']['averagecoordinate']['error']['coordinates'][0]\n",
    "def get_y_sample_error(item):\n",
    "    return item['value']['averagecoordinate']['error']['coordinates'][1]\n",
    "\n",
    "def get_probChi2(item):\n",
    "    return item['value']['trackeeHistory']['probChi2'] \n",
    "def get_Chi2PerDof(item):\n",
    "    return item['value']['trackeeHistory']['chi2PerDof'] \n",
    "\n",
    "def plotHistogramOfDictionary(dictionary, xlabel, ylabel, nbins):\n",
    "    dictionaryList = []\n",
    "    for address in dictionary.keys():\n",
    "        dictionaryList.append(dictionary[address])\n",
    "    dictArray = np.array(dictionaryList)\n",
    "    plt.hist(dictArray, bins = nbins)\n",
    "    plt.ylabel(ylabel)\n",
    "    plt.xlabel(xlabel)\n",
    "    axes = plt.gca()\n",
    "    plt.show()\n",
    "    \n",
    "def getX(line):\n",
    "    coordinates = line[\"value\"][\"averagecoordinate\"][\"avg\"][\"coordinates\"]\n",
    "    return coordinates[0]\n",
    "\n",
    "def getY(line):\n",
    "    coordinates = line[\"value\"][\"averagecoordinate\"][\"avg\"][\"coordinates\"]\n",
    "    return coordinates[1]"
   ]
  },
  {
   "cell_type": "code",
   "execution_count": 2,
   "metadata": {
    "collapsed": false
   },
   "outputs": [],
   "source": [
    "#reading fitted data from the concert day\n",
    "for i in [0]:\n",
    "    data = []\n",
    "    with open(\"arena/2015-07-05.json\") as f:\n",
    "    #with open(\"arena/2015-07-05_raw.json\") as f:\n",
    "        data = f.readlines()\n",
    "\n",
    "    json_lines = []\n",
    "    mac_adresses = []\n",
    "    \n",
    "    for line in data:\n",
    "        jsline = json.loads(line)\n",
    "        json_lines.append(jsline)#now json_lines contains all lines of data\n",
    "        mac_adresses.append(jsline[\"value\"][\"sourceMac\"]) # mac_addresses is a list of address per line\n",
    "        \n",
    "#sorting by time\n",
    "json_lines.sort(key = getmeasurementTimestamp) # now json_lines is sorted by time"
   ]
  },
  {
   "cell_type": "code",
   "execution_count": 3,
   "metadata": {
    "collapsed": false,
    "scrolled": true
   },
   "outputs": [
    {
     "name": "stdout",
     "output_type": "stream",
     "text": [
      "minTime=1436047367297\n",
      "maxTime=1436133804311\n",
      "time in minutes:1440.6169\n",
      "number of lines: 772867\n",
      "average x error: 3342.886813949892\n",
      "average y error: 3697.2146526257307\n",
      "number of addresses the whole day:30344\n",
      "average delay in ms:10034.32547644032\n",
      "number of fitted:772867\n"
     ]
    }
   ],
   "source": [
    "#computation of error etc (not so important any more)\n",
    "minTime = getmeasurementTimestamp(json_lines[0])\n",
    "maxTime = getmeasurementTimestamp(json_lines[len(json_lines) - 1])\n",
    "print(\"minTime=\"+ str(minTime))\n",
    "print(\"maxTime=\"+ str(maxTime))\n",
    "\n",
    "timeMinutes = (maxTime - minTime)/1000/60\n",
    "\n",
    "for i in [0]:\n",
    "    average_x_error = 0\n",
    "    average_y_error = 0\n",
    "    count = 0 \n",
    "    good_lines = []\n",
    "    number_of_addresses =  len(set(mac_adresses)) #number of mac adresses detected. Not people, because of MAC randomization\n",
    "    mc_good = []\n",
    "    delay = 0\n",
    "    number_of_fitted = 0\n",
    "    for jsline in json_lines:\n",
    "        average_x_error += get_x_error(jsline)\n",
    "        average_y_error += get_y_error(jsline)\n",
    "        thisdelay = getProcessingTimestamp(jsline) - getmeasurementTimestamp(jsline)\n",
    "        delay += thisdelay\n",
    "        if (get_fitted(jsline) == 'FITTED'):\n",
    "            number_of_fitted +=1\n",
    "        if get_x_error(jsline) <= 2 and get_y_error(jsline) <= 2:             \n",
    "            good_lines.append(jsline)\n",
    "            mc_good.append(jsline[\"value\"][\"sourceMac\"])\n",
    "\n",
    "    number_of_lines = len(json_lines)\n",
    "    number_of_addresses_good = len(set(mc_good)) # number of addresses where error < 2m \n",
    "    average_x_error /= number_of_lines\n",
    "    average_y_error /= number_of_lines\n",
    "    delay /= number_of_lines\n",
    "    \n",
    "    print ('time in minutes:' + str(timeMinutes)) \n",
    "    print ('number of lines: ' + str(number_of_lines))\n",
    "    print ('average x error: ' + str(average_x_error))\n",
    "    print ('average y error: ' + str(average_y_error))    \n",
    "    print('number of addresses the whole day:' + str(number_of_addresses))     \n",
    "    #print('number of estimations with stdev < 2m:' + str(number_of_addresses_good))    #this is not correct \n",
    "    print('average delay in ms:' + str(delay))\n",
    "    print('number of fitted:' + str(number_of_fitted)) "
   ]
  },
  {
   "cell_type": "code",
   "execution_count": 4,
   "metadata": {
    "collapsed": false
   },
   "outputs": [],
   "source": [
    "#computing FirstTimeSeen and LastTimeSeen for every address\n",
    "concertFinishedTimestamp=minTime+1000*60*60*8#timestamp until 8 am\n",
    "FirstTimeSeen=dict()\n",
    "LastTimeSeen=dict()\n",
    "\n",
    "for jsline in json_lines:\n",
    "    address = jsline[\"value\"][\"sourceMac\"]\n",
    "    time =  getmeasurementTimestamp(jsline)\n",
    "    if address in FirstTimeSeen:        \n",
    "        if time < FirstTimeSeen[address]:\n",
    "            FirstTimeSeen[address] = time\n",
    "    else:\n",
    "        FirstTimeSeen[address] = time\n",
    "        \n",
    "    if address in LastTimeSeen:         \n",
    "        if time > LastTimeSeen[address]:\n",
    "            LastTimeSeen[address] = time\n",
    "    else:\n",
    "        LastTimeSeen[address] = time "
   ]
  },
  {
   "cell_type": "code",
   "execution_count": 42,
   "metadata": {
    "collapsed": false,
    "scrolled": true
   },
   "outputs": [
    {
     "name": "stdout",
     "output_type": "stream",
     "text": [
      "number of addresses detected during concert hours:\n",
      "28847\n",
      "Long term persistent addresses (>=1 min)= 16129\n",
      "averageNumberOfAddressesPerSecondAtConcert 4.881290636062842\n",
      "40\n"
     ]
    }
   ],
   "source": [
    "#Computing dwell time, number of persistent addresses, and number of addresses visible in every second\n",
    "DwellTime = dict()\n",
    "DwellTimeDuringConcert = dict()\n",
    "numberOfAdressesAtConcert=0\n",
    "for address in LastTimeSeen.keys():    \n",
    "    DwellTime[address] = int((LastTimeSeen[address] - FirstTimeSeen[address]) /1000/60) # in minutes\n",
    "    if LastTimeSeen[address] < concertFinishedTimestamp:\n",
    "        numberOfAdressesAtConcert += 1\n",
    "        DwellTimeDuringConcert[address] = DwellTime[address]  \n",
    "print('number of addresses detected during concert hours:')\n",
    "print(numberOfAdressesAtConcert)\n",
    "longTermAddresses=[]\n",
    "numberOfAddresses = []\n",
    "AddressesInSec = []\n",
    "for jsline in json_lines:\n",
    "    sec = int(math.floor((getmeasurementTimestamp(jsline)- minTime)/1000))\n",
    "    #print(str(sec))\n",
    "    address = jsline[\"value\"][\"sourceMac\"]\n",
    "    if DwellTime[address] > 0:#  i.e. >10 minutes \n",
    "        longTermAddresses.append(address)\n",
    "        if len(AddressesInSec) <= sec:\n",
    "            while len(AddressesInSec) <= sec:\n",
    "                AddressesInSec.append([])                \n",
    "            AddressesInSec[sec].append(address)                       \n",
    "        else:\n",
    "            if address not in AddressesInSec[sec]:                                \n",
    "                AddressesInSec[sec].append(address)\n",
    "for setje in AddressesInSec:\n",
    "    numberOfAddresses.append(len(setje)) \n",
    "longTermCount = len(set(longTermAddresses))                \n",
    "print(\"Long term persistent addresses (>=1 min)= \" + str(longTermCount))\n",
    "average = 0            \n",
    "maxN = 0\n",
    "for addresses in AddressesInSec:            \n",
    "    average += len(addresses) \n",
    "    maxN = max(len(addresses), maxN)\n",
    "average /= len(AddressesInSec)   \n",
    "print(\"averageNumberOfAddressesPerSecondAtConcert \" + str(average))\n",
    "print(maxN)\n"
   ]
  },
  {
   "cell_type": "code",
   "execution_count": 38,
   "metadata": {
    "collapsed": false
   },
   "outputs": [],
   "source": [
    "plotHistogramOfDictionary(DwellTimeDuringConcert, \"dwell time(minutes)\", \"number of addresses\", 300)"
   ]
  },
  {
   "cell_type": "code",
   "execution_count": 6,
   "metadata": {
    "collapsed": false
   },
   "outputs": [],
   "source": [
    "#drawing how many addresses per second are visible (later there is another way to compute this)\n",
    "import matplotlib.pyplot as plt\n",
    "plt.plot(numberOfAddresses)\n",
    "plt.ylabel('addresses present')\n",
    "plt.xlabel('sec')\n",
    "axes = plt.gca()\n",
    "axes.set_xlim([0,33000])\n",
    "axes.set_ylim([0,max(numberOfAddresses)])\n",
    "plt.show()"
   ]
  },
  {
   "cell_type": "code",
   "execution_count": 7,
   "metadata": {
    "collapsed": false
   },
   "outputs": [
    {
     "name": "stdout",
     "output_type": "stream",
     "text": [
      "total number of lines with localMac == 1: 60024\n",
      "total number of lines with localMac == 0: 712843\n",
      "total number of addresses with localMac == 1: 15554\n",
      "total number of addresses with localMac == 0: 14790\n",
      "total number of persistent addresses with localMac == 1: 483\n",
      "total number of persistent addresses with localMac == 0: 9769\n"
     ]
    }
   ],
   "source": [
    "Randomized = dict()\n",
    "PersistentRandomized = dict()\n",
    "count0 = 0\n",
    "count1 = 0\n",
    "for line in json_lines:\n",
    "    address = line[\"value\"][\"sourceMac\"]\n",
    "    if line[\"value\"][\"trackeeHistory\"][\"localMac\"] == 1 :\n",
    "        count1 +=1\n",
    "        Randomized[address] = 1\n",
    "        if DwellTime[address] > 10: \n",
    "            if LastTimeSeen[address] < concertFinishedTimestamp:\n",
    "                PersistentRandomized[address] = 1 \n",
    "    else:\n",
    "        count0 +=1\n",
    "        Randomized[address] = 0\n",
    "        if DwellTime[address] > 10: \n",
    "            if LastTimeSeen[address] < concertFinishedTimestamp:\n",
    "                PersistentRandomized[address] = 0 \n",
    "\n",
    "zeros=0\n",
    "ones=0\n",
    "zerosPersistent = 0\n",
    "onesPersistent = 0\n",
    "for key in Randomized.keys():\n",
    "    if Randomized[key]==0:\n",
    "        zeros +=1\n",
    "    else:\n",
    "        ones +=1\n",
    "for key in PersistentRandomized.keys():\n",
    "    if PersistentRandomized[key]==0:\n",
    "        zerosPersistent +=1\n",
    "    else:\n",
    "        onesPersistent +=1        \n",
    "print(\"total number of lines with localMac == 1: \" + str(count1))\n",
    "print(\"total number of lines with localMac == 0: \" + str(count0))\n",
    "print(\"total number of addresses with localMac == 1: \" + str(ones))\n",
    "print(\"total number of addresses with localMac == 0: \" + str(zeros))\n",
    "print(\"total number of persistent addresses with localMac == 1: \" + str(onesPersistent))\n",
    "print(\"total number of persistent addresses with localMac == 0: \" + str(zerosPersistent))\n",
    "      \n"
   ]
  },
  {
   "cell_type": "code",
   "execution_count": 8,
   "metadata": {
    "collapsed": false
   },
   "outputs": [],
   "source": [
    "DwellTimeConcertRandomized = dict()\n",
    "DwellTimeConcertNonRandomized = dict()\n",
    "for key in DwellTimeDuringConcert.keys():\n",
    "    if Randomized[key] == 0:\n",
    "        DwellTimeConcertNonRandomized[key] = DwellTimeDuringConcert[key]\n",
    "    else:\n",
    "        DwellTimeConcertRandomized[key] = DwellTimeDuringConcert[key]\n",
    "\n",
    "    "
   ]
  },
  {
   "cell_type": "code",
   "execution_count": 11,
   "metadata": {
    "collapsed": false
   },
   "outputs": [
    {
     "ename": "NameError",
     "evalue": "name 'np' is not defined",
     "output_type": "error",
     "traceback": [
      "\u001b[1;31m---------------------------------------------------------------------------\u001b[0m",
      "\u001b[1;31mNameError\u001b[0m                                 Traceback (most recent call last)",
      "\u001b[1;32m<ipython-input-11-d99c27f23025>\u001b[0m in \u001b[0;36m<module>\u001b[1;34m()\u001b[0m\n\u001b[1;32m----> 1\u001b[1;33m \u001b[0mplotHistogramOfDictionary\u001b[0m\u001b[1;33m(\u001b[0m\u001b[0mDwellTimeConcertNonRandomized\u001b[0m\u001b[1;33m,\u001b[0m \u001b[1;34m\"dwell time(minutes) of non-randomized addresses\"\u001b[0m\u001b[1;33m,\u001b[0m \u001b[1;34m\"number of addresses\"\u001b[0m\u001b[1;33m,\u001b[0m \u001b[1;36m50\u001b[0m\u001b[1;33m)\u001b[0m\u001b[1;33m\u001b[0m\u001b[0m\n\u001b[0m",
      "\u001b[1;32m<ipython-input-1-3f9c0046c290>\u001b[0m in \u001b[0;36mplotHistogramOfDictionary\u001b[1;34m(dictionary, xlabel, ylabel, nbins)\u001b[0m\n\u001b[0;32m     32\u001b[0m     \u001b[1;32mfor\u001b[0m \u001b[0maddress\u001b[0m \u001b[1;32min\u001b[0m \u001b[0mdictionary\u001b[0m\u001b[1;33m.\u001b[0m\u001b[0mkeys\u001b[0m\u001b[1;33m(\u001b[0m\u001b[1;33m)\u001b[0m\u001b[1;33m:\u001b[0m\u001b[1;33m\u001b[0m\u001b[0m\n\u001b[0;32m     33\u001b[0m         \u001b[0mdictionaryList\u001b[0m\u001b[1;33m.\u001b[0m\u001b[0mappend\u001b[0m\u001b[1;33m(\u001b[0m\u001b[0mdictionary\u001b[0m\u001b[1;33m[\u001b[0m\u001b[0maddress\u001b[0m\u001b[1;33m]\u001b[0m\u001b[1;33m)\u001b[0m\u001b[1;33m\u001b[0m\u001b[0m\n\u001b[1;32m---> 34\u001b[1;33m     \u001b[0mdictArray\u001b[0m \u001b[1;33m=\u001b[0m \u001b[0mnp\u001b[0m\u001b[1;33m.\u001b[0m\u001b[0marray\u001b[0m\u001b[1;33m(\u001b[0m\u001b[0mdictionaryList\u001b[0m\u001b[1;33m)\u001b[0m\u001b[1;33m\u001b[0m\u001b[0m\n\u001b[0m\u001b[0;32m     35\u001b[0m     \u001b[0mplt\u001b[0m\u001b[1;33m.\u001b[0m\u001b[0mhist\u001b[0m\u001b[1;33m(\u001b[0m\u001b[0mdictArray\u001b[0m\u001b[1;33m,\u001b[0m \u001b[0mbins\u001b[0m \u001b[1;33m=\u001b[0m \u001b[0mnbins\u001b[0m\u001b[1;33m)\u001b[0m\u001b[1;33m\u001b[0m\u001b[0m\n\u001b[0;32m     36\u001b[0m     \u001b[0mplt\u001b[0m\u001b[1;33m.\u001b[0m\u001b[0mylabel\u001b[0m\u001b[1;33m(\u001b[0m\u001b[0mylabel\u001b[0m\u001b[1;33m)\u001b[0m\u001b[1;33m\u001b[0m\u001b[0m\n",
      "\u001b[1;31mNameError\u001b[0m: name 'np' is not defined"
     ]
    }
   ],
   "source": [
    "plotHistogramOfDictionary(DwellTimeConcertNonRandomized, \"dwell time(minutes) of non-randomized addresses\", \"number of addresses\", 50)"
   ]
  },
  {
   "cell_type": "code",
   "execution_count": null,
   "metadata": {
    "collapsed": true
   },
   "outputs": [],
   "source": [
    "plotHistogramOfDictionary(DwellTimeConcertRandomized, \"dwell time(minutes) of randomized addresses\", \"number of addresses\",200)"
   ]
  },
  {
   "cell_type": "code",
   "execution_count": 9,
   "metadata": {
    "collapsed": false
   },
   "outputs": [
    {
     "name": "stdout",
     "output_type": "stream",
     "text": [
      "86437\n"
     ]
    }
   ],
   "source": [
    "#double-check:another approach to computing visible addresses per second\n",
    "Visible = dict()\n",
    "for line in json_lines:\n",
    "    address = line[\"value\"][\"sourceMac\"]\n",
    "    timeSec = int(math.floor((getmeasurementTimestamp(line)- minTime)/1000))\n",
    "    if timeSec in Visible.keys():        \n",
    "        Visible[timeSec].append(address)\n",
    "    else:\n",
    "        Visible[timeSec] = []\n",
    "        Visible[timeSec].append(address)\n",
    "\n",
    "maxSec = max(Visible.keys())    \n",
    "print(maxSec)\n",
    "for sec in range(0,maxSec):\n",
    "    if sec not in Visible.keys():\n",
    "        Visible[sec] = []\n",
    "NVisible = []\n",
    "for sec in range(0,86437):\n",
    "    NVisible.append(len(set(Visible[sec])))\n",
    "    "
   ]
  },
  {
   "cell_type": "raw",
   "metadata": {},
   "source": []
  },
  {
   "cell_type": "code",
   "execution_count": 10,
   "metadata": {
    "collapsed": true
   },
   "outputs": [],
   "source": [
    "#computes visible addresses per secong with a specified localMac tag\n",
    "def ComputeVisiblePerSec(json_lines, localMac):\n",
    "    Visible = dict()\n",
    "    for line in json_lines:\n",
    "        address = line[\"value\"][\"sourceMac\"]\n",
    "        timeSec = int(math.floor((getmeasurementTimestamp(line)- minTime)/1000))\n",
    "        if timeSec in Visible.keys():  \n",
    "            if Randomized[address] == localMac:\n",
    "                Visible[timeSec].append(address)\n",
    "        else:\n",
    "            Visible[timeSec] = []\n",
    "            if Randomized[address] == localMac:\n",
    "                Visible[timeSec].append(address)\n",
    "    maxSec = max(Visible.keys())        \n",
    "    for sec in range(0,maxSec):\n",
    "        if sec not in Visible.keys():\n",
    "            Visible[sec] = []\n",
    "    NVisible = []\n",
    "    for sec in range(0,maxSec):\n",
    "        NVisible.append(len(set(Visible[sec])))\n",
    "    return NVisible"
   ]
  },
  {
   "cell_type": "code",
   "execution_count": null,
   "metadata": {
    "collapsed": true
   },
   "outputs": [],
   "source": [
    "#def RandomizedAddressesChangeRateInSquare\n",
    "\n",
    "#this is not good\n",
    "def CoordinatesOfAddressesInSquare(xmin, xmax, ymin, ymax, localMac):\n",
    "    TrackX = dict()\n",
    "    times = dict()\n",
    "    for line in json_lines:\n",
    "        address = line[\"value\"][\"sourceMac\"]\n",
    "        if Randomized[address] == localMac and IsSmallError(line):\n",
    "            x = getX(line)\n",
    "            y = getY(line) \n",
    "            if IsInSquare(x,y,xmin, xmax, ymin, ymax):                \n",
    "                time = int(math.floor((getmeasurementTimestamp(line)- minTime)/1000))\n",
    "                if address not in times.keys():\n",
    "                    times[address] = []                \n",
    "                if time not in times[address]:\n",
    "                    times[address].append(time)\n",
    "                    if address not in TrackX.keys():\n",
    "                        TrackX[address] = []\n",
    "                    TrackX[address].append([time,x])                  \n",
    "    print(len(TrackX.keys()))      \n",
    "    return TrackX\n",
    "\n",
    "#note useful any more, I have a better version below\n",
    "def ComputeVisiblePerMinInSquareWithLocalMac(json_lines, localMac, xmin, xmax, ymin, ymax):\n",
    "    Visible = dict()\n",
    "    for line in json_lines:\n",
    "        x = getX(line)\n",
    "        y = getY(line)\n",
    "        if IsInSquare(x,y,xmin, xmax, ymin, ymax) and IsSmallError(line):\n",
    "            address = line[\"value\"][\"sourceMac\"]\n",
    "            timeSec = int(math.floor((getmeasurementTimestamp(line)- minTime)/1000/60))\n",
    "            if timeSec in Visible.keys():  \n",
    "                if Randomized[address] == localMac:\n",
    "                    Visible[timeSec].append(address)\n",
    "            else:\n",
    "                Visible[timeSec] = []\n",
    "                if Randomized[address] == localMac:\n",
    "                    Visible[timeSec].append(address)                    \n",
    "    maxSec = max(Visible.keys())        \n",
    "    for sec in range(0,maxSec):\n",
    "        if sec not in Visible.keys():\n",
    "            Visible[sec] = []\n",
    "    NVisible = []\n",
    "    for sec in range(0,maxSec):\n",
    "        NVisible.append(len(set(Visible[sec])))\n",
    "    return NVisible\n",
    "\n",
    "#note useful any more, I have a better version below\n",
    "def ComputeVisiblePerMinInSquare(json_lines, xmin, xmax, ymin, ymax):\n",
    "    Visible = dict()\n",
    "    for line in json_lines:\n",
    "        x = getX(line)\n",
    "        y = getY(line)\n",
    "        if IsInSquare(x,y,xmin, xmax, ymin, ymax):# and IsSmallError(line):\n",
    "            address = line[\"value\"][\"sourceMac\"]\n",
    "            timeSec = int(math.floor((getmeasurementTimestamp(line)- minTime)/1000/60))\n",
    "            if timeSec in Visible.keys():                  \n",
    "                Visible[timeSec].append(address)\n",
    "            else:\n",
    "                Visible[timeSec] = []                \n",
    "                Visible[timeSec].append(address)                    \n",
    "    maxSec = max(Visible.keys())        \n",
    "    for sec in range(0,maxSec):\n",
    "        if sec not in Visible.keys():\n",
    "            Visible[sec] = []\n",
    "    NVisible = []\n",
    "    for sec in range(0,maxSec):\n",
    "        NVisible.append(len(set(Visible[sec])))\n",
    "    return NVisible"
   ]
  },
  {
   "cell_type": "code",
   "execution_count": 126,
   "metadata": {
    "collapsed": false
   },
   "outputs": [],
   "source": [
    "x_min = 49 #30\n",
    "x_max = 64 #80\n",
    "y_min = -41 #-60\n",
    "y_max = -31 #-10\n",
    "interval = 180\n",
    "\n",
    "def IsInSquare(x,y,xmin, xmax, ymin, ymax):\n",
    "    return x>xmin and x<xmax and y>ymin and y<ymax\n",
    "\n",
    "def IsSmallError(line):\n",
    "    alpha = get_probChi2(line)    \n",
    "    return  (alpha > 0.3) and (get_x_error(line) <3 ) and  get_Chi2PerDof(line) <1.3\n",
    "                  \n",
    "def ComputeAddressesPerTimeIntervalInSquare(json_lines, xmin, xmax, ymin, ymax, interval_in_seconds):\n",
    "    Visible = dict()\n",
    "    for line in json_lines:\n",
    "        x = getX(line)\n",
    "        y = getY(line)\n",
    "        address = line[\"value\"][\"sourceMac\"]\n",
    "        #if IsInSquare(x,y,xmin, xmax, ymin, ymax) and IsSmallError(line) and DwellTime[address]>1.5*interval:         \n",
    "        if IsSmallError(line) and DwellTime[address]>1.5*interval:   \n",
    "            timeMin = int(math.floor((getmeasurementTimestamp(line)- minTime)/1000/interval_in_seconds))\n",
    "            if timeMin in Visible.keys():                  \n",
    "                Visible[timeMin].append(address)\n",
    "            else:\n",
    "                Visible[timeMin] = []                \n",
    "                Visible[timeMin].append(address)                    \n",
    "    maxMin = max(Visible.keys())        \n",
    "    for i in range(0,maxMin):\n",
    "        if i not in Visible.keys():\n",
    "            Visible[i] = []\n",
    "    return Visible    \n",
    "  \n",
    "def ComputeNumbersOfVisibleAddressesPerTimeIntervalInSquare(json_lines, xmin, xmax, ymin, ymax, interval_in_seconds):\n",
    "    Visible =  ComputeAddressesPerTimeIntervalInSquare(json_lines, xmin, xmax, ymin, ymax, interval_in_seconds)\n",
    "    maxTime = max(Visible.keys())        \n",
    "    NVisible = []\n",
    "    for i in range(0,maxTime):\n",
    "        NVisible.append(len(set(Visible[i])))\n",
    "    return NVisible\n",
    "           \n",
    "def JaccardSimilarity(set1, set2):    \n",
    "    intersect = set1.intersection(set2)\n",
    "    un = set1.union(set2)\n",
    "    if len(un) > 0:        \n",
    "        return len(intersect)/len(un)\n",
    "    else:\n",
    "        return 1\n",
    "   \n",
    "def JaccardSimilarityModified(set1, set2):    \n",
    "    intersect = set1.intersection(set2)\n",
    "    un = set1.union(set2)\n",
    "    minlength = min(len(set1), len(set2))\n",
    "    if minlength > 0:        \n",
    "        return len(intersect)/minlength\n",
    "    else:\n",
    "        return 1\n",
    "\n",
    "def ComputeArrayOfJaccards(xmin, xmax, ymin, ymax, interval_in_seconds):\n",
    "    mydict = ComputeAddressesPerTimeIntervalInSquare(json_lines, xmin, xmax, ymin, ymax, interval_in_seconds)\n",
    "    similarities = []\n",
    "    firstkey = 0\n",
    "    for key in sorted(mydict):  \n",
    "        secondkey = key\n",
    "        simil = JaccardSimilarity(set(mydict[firstkey]), set(mydict[secondkey]))\n",
    "        similarities.append(simil)\n",
    "        firstkey = key                                           \n",
    "    return similarities\n",
    "                                      "
   ]
  },
  {
   "cell_type": "code",
   "execution_count": 124,
   "metadata": {
    "collapsed": true
   },
   "outputs": [],
   "source": [
    "###*************************************************************************************************************\n",
    "#drawing how many addresses per time interval are visible in the square\n",
    "import matplotlib.pyplot as plt\n",
    "VIsiblePerMinInSquare = ComputeNumbersOfVisibleAddressesPerTimeIntervalInSquare(json_lines, x_min, x_max, y_min, y_max, interval)\n",
    "plt.plot(VIsiblePerMinInSquare)\n",
    "plt.ylabel('visible long-lasting addresses in the square of 150 m2 below drone 112')\n",
    "plt.xlabel('time in intervals of ' + str(interval) + ' seconds')\n",
    "axes = plt.gca()\n",
    "axes.set_xlim([0,1440*60/2.8/interval])\n",
    "axes.set_ylim([0,max(VIsiblePerMinInSquare)])\n",
    "plt.show()"
   ]
  },
  {
   "cell_type": "code",
   "execution_count": 128,
   "metadata": {
    "collapsed": false
   },
   "outputs": [],
   "source": [
    "#drawing similarities of consecutive sets of addresses\n",
    "import matplotlib.pyplot as plt\n",
    "similarities = ComputeArrayOfJaccards(x_min, x_max, y_min, y_max, interval)\n",
    "plt.plot(similarities)\n",
    "max_x = 1440*60/2.8/interval\n",
    "\n",
    "plt.ylabel('Jaccard similarity of the sets of long lasting addresses in two consecutive intervals')\n",
    "plt.xlabel('time in intervals of ' + str(interval) + ' seconds')\n",
    "axes = plt.gca()\n",
    "axes.set_xlim([0, max_x])\n",
    "plt.show()"
   ]
  },
  {
   "cell_type": "code",
   "execution_count": 92,
   "metadata": {
    "collapsed": false
   },
   "outputs": [],
   "source": [
    "    count =0\n",
    "    for address in TrackX.keys():\n",
    "        if count < 100:\n",
    "            plt.plot(TrackX[address])\n",
    "            count +=1\n",
    "    plt.show()"
   ]
  },
  {
   "cell_type": "code",
   "execution_count": 91,
   "metadata": {
    "collapsed": false
   },
   "outputs": [
    {
     "name": "stdout",
     "output_type": "stream",
     "text": [
      "4848\n"
     ]
    }
   ],
   "source": [
    "TrackX = CoordinatesOfAddressesInSquare(49, 64, -41, -31, 0)"
   ]
  },
  {
   "cell_type": "code",
   "execution_count": 81,
   "metadata": {
    "collapsed": true
   },
   "outputs": [],
   "source": [
    "#drawing how many randomized addresses per second are visible in the square \n",
    "import matplotlib.pyplot as plt\n",
    "plt.plot(VisiblePerMinInSquareRandomized)\n",
    "plt.ylabel('visible randomized addresses in the square of 150 m2 below drone 112')\n",
    "plt.xlabel('time(min)')\n",
    "axes = plt.gca()\n",
    "axes.set_xlim([0,500])\n",
    "axes.set_ylim([0,max(VisiblePerMinInSquareRandomized)])\n",
    "plt.show()"
   ]
  },
  {
   "cell_type": "code",
   "execution_count": 82,
   "metadata": {
    "collapsed": false
   },
   "outputs": [],
   "source": [
    "#drawing how many non-randomized addresses per minute are visible in the square \n",
    "import matplotlib.pyplot as plt\n",
    "plt.plot(VisiblePerMinInSquareNonRandomized )\n",
    "plt.ylabel('visible nonrandomized addresses in the square of 150 m2 below drone 112')\n",
    "plt.xlabel('time(min)')\n",
    "axes = plt.gca()\n",
    "axes.set_xlim([0,500])\n",
    "axes.set_ylim([0,max(VisiblePerMinInSquareNonRandomized)])\n",
    "plt.show()"
   ]
  },
  {
   "cell_type": "code",
   "execution_count": 83,
   "metadata": {
    "collapsed": false
   },
   "outputs": [
    {
     "data": {
      "text/plain": [
       "(0.84635646831610267, 0.0)"
      ]
     },
     "execution_count": 83,
     "metadata": {},
     "output_type": "execute_result"
    }
   ],
   "source": [
    "from scipy.stats.stats import pearsonr\n",
    "pearsonr(VisiblePerMinInSquareRandomized, VisiblePerMinInSquareNonRandomized)"
   ]
  },
  {
   "cell_type": "code",
   "execution_count": null,
   "metadata": {
    "collapsed": false
   },
   "outputs": [],
   "source": [
    "#drawing how many nonrandomized addresses per second are visible\n",
    "plt.plot(VisiblePerSecondNonRandomized)\n",
    "plt.ylabel('visible non-randomized addresses')\n",
    "plt.xlabel('time(sec)')\n",
    "axes = plt.gca()\n",
    "axes.set_xlim([0,30000])\n",
    "axes.set_ylim([0,max(VisiblePerSecondNonRandomized)])\n",
    "plt.show()"
   ]
  },
  {
   "cell_type": "code",
   "execution_count": null,
   "metadata": {
    "collapsed": true
   },
   "outputs": [],
   "source": [
    "#drawing how many randomized addresses per second are visible\n",
    "plt.plot(VisiblePerSecondRandomized)\n",
    "plt.ylabel('visible randomized addresses')\n",
    "plt.xlabel('time(sec)')\n",
    "axes = plt.gca()\n",
    "axes.set_xlim([0,30000])\n",
    "axes.set_ylim([0,max(VisiblePerSecondRandomized)])\n",
    "plt.show()"
   ]
  },
  {
   "cell_type": "code",
   "execution_count": null,
   "metadata": {
    "collapsed": false
   },
   "outputs": [],
   "source": [
    "# checking the trajectory of a certain address, error used is sample error (not error of the estimation of the mean) \n",
    "lines = []#will contain only the lines for that address\n",
    "for line in json_lines:\n",
    "    address = line[\"value\"][\"sourceMac\"]\n",
    "    #if (address == '27e573c8-1640-4ea8-86d8-0733c800e9cd'):#this is the address we are checking for, non-randomized\n",
    "    if (address == '3620f07e-a673-4648-bd9b-a0681d574d6f'):\n",
    "    #if (address == '8b8a2356-d11e-4bd5-bb35-d8370bf48b1e'):#randomized address    \n",
    "        lines.append(line)\n",
    "       \n",
    "x_coord = []\n",
    "y_coord = []\n",
    "times = []\n",
    "x_errors = []\n",
    "y_errors = []\n",
    "for line in lines:  \n",
    "    alpha = get_probChi2(line)    \n",
    "    if ( alpha > 0.4) and (get_x_sample_error(line) <10 ) and  get_Chi2PerDof(line) <1.1 :    \n",
    "        coordinates = line[\"value\"][\"averagecoordinate\"][\"avg\"][\"coordinates\"]\n",
    "        time = math.floor(line[\"measurementTimestamp\"]/1000)      \n",
    "        if time not in times:       \n",
    "            x_coord.append( coordinates[0])\n",
    "            y_coord.append(coordinates[1])\n",
    "            x_errors.append(get_x_sample_error(line)*2)# for a 95% confidence\n",
    "            y_errors.append(get_y_sample_error(line)*2)# for a 95% confidence\n",
    "            times.append(time)\n",
    "    \n",
    "print(len(x_errors)) \n",
    "print(len(x_coord))"
   ]
  },
  {
   "cell_type": "code",
   "execution_count": 14,
   "metadata": {
    "collapsed": false
   },
   "outputs": [
    {
     "name": "stdout",
     "output_type": "stream",
     "text": [
      "1606\n",
      "1606\n"
     ]
    }
   ],
   "source": [
    "# checking the trajectory of a certain address, error used is error of the estimation of the mean\n",
    "lines = []#will contain only the lines for that address\n",
    "for line in json_lines:\n",
    "    address = line[\"value\"][\"sourceMac\"]\n",
    "    #if (address == '27e573c8-1640-4ea8-86d8-0733c800e9cd'):#this is the address we are checking for, nonrandomized\n",
    "    if address =='e1deda99-163f-4b68-9ade-e1f05d070bf2' : # the largest one, probably from the organizers or a lost phone \n",
    "    #if (address == '3620f07e-a673-4648-bd9b-a0681d574d6f'):\n",
    "    #if (address == 'eeac5a44-c042-48d5-969f-e561166ccb78'):#a non-randomized from drone 122\n",
    "    #if (address == 'ad90b545-4300-4551-b537-0c64ed3619f3'): #a non-randomized from drone 122\n",
    "    #if (address == '8b8a2356-d11e-4bd5-bb35-d8370bf48b1e'):#randomized address  \n",
    "        lines.append(line)\n",
    "       \n",
    "x_coord = []\n",
    "y_coord = []\n",
    "times = []\n",
    "x_errors = []\n",
    "y_errors = []\n",
    "for line in lines:\n",
    "    alpha = get_probChi2(line)\n",
    "    if ( alpha > 0.3) and (get_x_error(line) <5 ) and  get_Chi2PerDof(line) <1.2 :    \n",
    "        coordinates = line[\"value\"][\"averagecoordinate\"][\"avg\"][\"coordinates\"]\n",
    "        time = math.floor(line[\"measurementTimestamp\"]/1000)        \n",
    "        if time not in times:\n",
    "            x_coord.append( coordinates[0])\n",
    "            y_coord.append(coordinates[1])\n",
    "            x_errors.append(get_x_error(line)*2)# for a 95% confidence\n",
    "            y_errors.append(get_y_error(line)*2)# for a 95% confidence\n",
    "            times.append(time)\n",
    "    \n",
    "print(len(x_errors)) \n",
    "print(len(x_coord))"
   ]
  },
  {
   "cell_type": "code",
   "execution_count": 16,
   "metadata": {
    "collapsed": false
   },
   "outputs": [],
   "source": [
    "import numpy as np\n",
    "import matplotlib.pyplot as plt\n",
    "\n",
    "fig, (ax0, ax1) = plt.subplots(nrows=2, sharex=True)\n",
    "ax0.errorbar(times, x_coord, yerr=x_errors)\n",
    "#ax0.errorbar(times, x_coord, yerr=x_errors, fmt='o')\n",
    "ax0.set_title('x-coordinate with error')\n",
    "plt.xlabel('time(sec)')\n",
    "\n",
    "ax1.errorbar(times, y_coord, yerr=y_errors)\n",
    "#ax1.errorbar(times, y_coord, yerr=y_errors, fmt='o')\n",
    "ax1.set_title('y-coordinate with error')\n",
    "\n",
    "plt.show()\n"
   ]
  },
  {
   "cell_type": "code",
   "execution_count": null,
   "metadata": {
    "collapsed": false
   },
   "outputs": [],
   "source": [
    "coor = dict()\n",
    "count =0\n",
    "for x in x_coord:\n",
    "    key = times[count]\n",
    "    coor[key] = x\n",
    "    count +=1\n",
    "plotHistogramOfDictionary(coor,  'x_coord', 'freq', 200)    \n",
    "    "
   ]
  },
  {
   "cell_type": "code",
   "execution_count": null,
   "metadata": {
    "collapsed": true
   },
   "outputs": [],
   "source": [
    "\n",
    "\n"
   ]
  },
  {
   "cell_type": "code",
   "execution_count": null,
   "metadata": {
    "collapsed": false
   },
   "outputs": [],
   "source": []
  },
  {
   "cell_type": "code",
   "execution_count": null,
   "metadata": {
    "collapsed": true
   },
   "outputs": [],
   "source": []
  }
 ],
 "metadata": {
  "kernelspec": {
   "display_name": "Python 3",
   "language": "python",
   "name": "python3"
  },
  "language_info": {
   "codemirror_mode": {
    "name": "ipython",
    "version": 3
   },
   "file_extension": ".py",
   "mimetype": "text/x-python",
   "name": "python",
   "nbconvert_exporter": "python",
   "pygments_lexer": "ipython3",
   "version": "3.5.1"
  }
 },
 "nbformat": 4,
 "nbformat_minor": 0
}
