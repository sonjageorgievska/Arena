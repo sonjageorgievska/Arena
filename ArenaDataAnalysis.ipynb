{
 "cells": [
  {
   "cell_type": "code",
   "execution_count": 1,
   "metadata": {
    "collapsed": false
   },
   "outputs": [],
   "source": [
    "# defining functions\n",
    "import json \n",
    "import math\n",
    "\n",
    "def getmeasurementTimestamp(item):\n",
    "    return int(item['measurementTimestamp'])\n",
    "\n",
    "def getProcessingTimestamp(item):\n",
    "    return int(item['processingTimestamp'])\n",
    "\n",
    "def get_x_error(item): #the error in the data is the stdev of the sample, we compute the error of the estimation (the sample mean)\n",
    "    return item['value']['averagecoordinate']['error']['coordinates'][0]/math.sqrt(item['value']['trackeeHistory']['nMeasurements'])\n",
    "\n",
    "def get_y_error(item):\n",
    "    return item['value']['averagecoordinate']['error']['coordinates'][1]/math.sqrt(item['value']['trackeeHistory']['nMeasurements'])\n",
    "\n",
    "def get_fitted(item):\n",
    "     return item['value']['trackeeHistory']['fitStatus']\n",
    "    "
   ]
  },
  {
   "cell_type": "code",
   "execution_count": null,
   "metadata": {
    "collapsed": false
   },
   "outputs": [],
   "source": [
    "#reading data\n",
    "for i in [0]:\n",
    "    data = []\n",
    "    with open(\"arena/2015-07-05.json\") as f:\n",
    "    #with open(\"arena/2015-07-05_raw.json\") as f:\n",
    "        data = f.readlines()\n",
    "\n",
    "    json_lines = []\n",
    "    mac_adresses = []\n",
    "    \n",
    "    for line in data:\n",
    "        jsline = json.loads(line)\n",
    "        json_lines.append(jsline)#now json_lines contains all lines of data\n",
    "        mac_adresses.append(jsline[\"value\"][\"sourceMac\"]) # mac_addresses is a list of address per line\n",
    "        \n"
   ]
  },
  {
   "cell_type": "code",
   "execution_count": null,
   "metadata": {
    "collapsed": true
   },
   "outputs": [],
   "source": [
    "#sorting by time\n",
    "json_lines.sort(key = getmeasurementTimestamp) # now json_lines is sorted by time"
   ]
  },
  {
   "cell_type": "code",
   "execution_count": null,
   "metadata": {
    "collapsed": false,
    "scrolled": true
   },
   "outputs": [],
   "source": [
    "#computation of error etc\n",
    "minTime = getmeasurementTimestamp(json_lines[0])\n",
    "maxTime = getmeasurementTimestamp(json_lines[len(json_lines) - 1])\n",
    "print(\"minTime=\"+ str(minTime))\n",
    "print(\"maxTime=\"+ str(maxTime))\n",
    "\n",
    "timeMinutes = (maxTime - minTime)/1000/60\n",
    "\n",
    "for i in [0]:\n",
    "    average_x_error = 0\n",
    "    average_y_error = 0\n",
    "    count = 0\n",
    "    good_lines = []\n",
    "    number_of_addresses =  len(set(mac_adresses)) #number of mac adresses detected. Not people, because of MAC randomization\n",
    "    mc_good = []\n",
    "    delay = 0\n",
    "    number_of_fitted = 0\n",
    "    for jsline in json_lines:\n",
    "        average_x_error += get_x_error(jsline)\n",
    "        average_y_error += get_y_error(jsline)\n",
    "        thisdelay = getProcessingTimestamp(jsline) - getmeasurementTimestamp(jsline)\n",
    "        delay += thisdelay\n",
    "        if (get_fitted(jsline) == 'FITTED'):\n",
    "            number_of_fitted +=1\n",
    "        if get_x_error(jsline) <= 2 and get_y_error(jsline) <= 2:             \n",
    "            good_lines.append(jsline)\n",
    "            mc_good.append(jsline[\"value\"][\"sourceMac\"])\n",
    "\n",
    "    number_of_lines = len(json_lines)\n",
    "    number_of_addresses_good = len(set(mc_good)) # number of addresses where error < 2m \n",
    "    average_x_error /= number_of_lines\n",
    "    average_y_error /= number_of_lines\n",
    "    delay /= number_of_lines\n",
    "    \n",
    "    print ('time in minutes:' + str(timeMinutes)) \n",
    "    print ('number of lines: ' + str(number_of_lines))\n",
    "    print ('average x error: ' + str(average_x_error))\n",
    "    print ('average y error: ' + str(average_y_error))    \n",
    "    print('number of addresses the whole day:' + str(number_of_addresses))     \n",
    "    print('number of addresses with stdev < 2m:' + str(number_of_addresses_good))     \n",
    "    print('average delay in ms:' + str(delay))\n",
    "    print('number of fitted:' + str(number_of_fitted)) "
   ]
  },
  {
   "cell_type": "code",
   "execution_count": null,
   "metadata": {
    "collapsed": false
   },
   "outputs": [],
   "source": [
    "#computing FirstTimeSeen and LastTimeSeen\n",
    "concertFinishedTimestamp=minTime+1000*60*60*8#timestamp until 8 am\n",
    "FirstTimeSeen=dict()\n",
    "LastTimeSeen=dict()\n",
    "\n",
    "for jsline in json_lines:\n",
    "    address = jsline[\"value\"][\"sourceMac\"]\n",
    "    time =  getmeasurementTimestamp(jsline)\n",
    "    if address in FirstTimeSeen:        \n",
    "        if time < FirstTimeSeen[address]:\n",
    "            FirstTimeSeen[address] = time\n",
    "    else:\n",
    "        FirstTimeSeen[address] = time\n",
    "        \n",
    "    if address in LastTimeSeen:         \n",
    "        if time > LastTimeSeen[address]:\n",
    "            LastTimeSeen[address] = time\n",
    "    else:\n",
    "        LastTimeSeen[address] = time "
   ]
  },
  {
   "cell_type": "code",
   "execution_count": null,
   "metadata": {
    "collapsed": false,
    "scrolled": true
   },
   "outputs": [],
   "source": [
    "#Computing dwell time, number of persistent addresses\n",
    "DwellTime = dict()\n",
    "DwellTimeDuringConcert = dict()\n",
    "numberOfAdressesAtConcert=0\n",
    "for address in LastTimeSeen.keys():    \n",
    "    DwellTime[address] = int((LastTimeSeen[address] - FirstTimeSeen[address]) /1000/60) # in minutes\n",
    "    if LastTimeSeen[address] < concertFinishedTimestamp:\n",
    "        numberOfAdressesAtConcert += 1\n",
    "        DwellTimeDuringConcert[address] = DwellTime[address]  \n",
    "print('number of addresses detected during concert hours:')\n",
    "print(numberOfAdressesAtConcert)\n",
    "longTermAddresses=[]\n",
    "numberOfAddresses = []\n",
    "AddressesInSec = []\n",
    "for jsline in json_lines:\n",
    "    sec = int(math.floor((getmeasurementTimestamp(jsline)- minTime)/1000))\n",
    "    #print(str(sec))\n",
    "    address = jsline[\"value\"][\"sourceMac\"]\n",
    "    if DwellTime[address] > 10:#  i.e. >10 minutes \n",
    "        longTermAddresses.append(address)\n",
    "        if len(AddressesInSec) <= sec:\n",
    "            while len(AddressesInSec) <= sec:\n",
    "                AddressesInSec.append([])                \n",
    "            AddressesInSec[sec].append(address)                       \n",
    "        else:\n",
    "            if address not in AddressesInSec[sec]:                                \n",
    "                AddressesInSec[sec].append(address)\n",
    "for setje in AddressesInSec:\n",
    "    numberOfAddresses.append(len(setje)) \n",
    "longTermCount = len(set(longTermAddresses))                \n",
    "print(\"Long term persistent addresses (>10 min)= \" + str(longTermCount))\n",
    "average = 0            \n",
    "maxN = 0\n",
    "for addresses in AddressesInSec:            \n",
    "    average += len(addresses) \n",
    "    maxN = max(len(addresses), maxN)\n",
    "average /= len(AddressesInSec)   \n",
    "print(\"averageNumberOfAddressesPerSecondAtConcert \" + str(average))\n",
    "print(maxN)\n"
   ]
  },
  {
   "cell_type": "code",
   "execution_count": null,
   "metadata": {
    "collapsed": false
   },
   "outputs": [],
   "source": [
    "#drawing how many addresses per second are visible\n",
    "import matplotlib.pyplot as plt\n",
    "plt.plot(numberOfAddresses)\n",
    "plt.ylabel('addresses present')\n",
    "plt.xlabel('sec')\n",
    "axes = plt.gca()\n",
    "axes.set_xlim([0,33000])\n",
    "axes.set_ylim([0,max(numberOfAddresses)])\n",
    "plt.show()"
   ]
  },
  {
   "cell_type": "code",
   "execution_count": null,
   "metadata": {
    "collapsed": true
   },
   "outputs": [],
   "source": [
    "#not used at the moment\n",
    "import matplotlib.pyplot as plt\n",
    "plt.plot(numberOfAddresses)\n",
    "plt.ylabel('addresses present')\n",
    "plt.xlabel('min')\n",
    "axes = plt.gca()\n",
    "axes.set_xlim([0,500])\n",
    "axes.set_ylim([0,max(numberOfAddresses)])\n",
    "plt.show()"
   ]
  },
  {
   "cell_type": "code",
   "execution_count": null,
   "metadata": {
    "collapsed": false
   },
   "outputs": [],
   "source": [
    "n_addresses_staying_this_much = []\n",
    "maxDwellTime = max(DwellTimeDuringConcert.values())\n",
    "print(\"maxDwellTime during the whole day=\" + str(maxDwellTime) + \" minutes\")\n",
    "for i in range(maxDwellTime + 1):   \n",
    "    n_addresses_staying_this_much.append(0)\n",
    "    \n",
    "for address in DwellTime.keys():  \n",
    "    if LastTimeSeen[address] < concertFinishedTimestamp:\n",
    "        n_addresses_staying_this_much[DwellTime[address]] +=1\n",
    "#for i in range(0,470):\n",
    "   # print(str(n_addresses_staying_this_much[i]))    \n",
    "n_addresses_staying_less_than_10min =  sum(n_addresses_staying_this_much[:10])\n",
    "\n",
    "n_addresses_staying_more_than_10min = numberOfAdressesAtConcert - n_addresses_staying_less_than_10min\n",
    "\n",
    "\n",
    "print(\"number of addresses staying less than 10 min during concert hours  = \" + str(n_addresses_staying_less_than_10min))\n",
    "print(\"number of addresses staying more than 10 min during concert hours  = \" + str(n_addresses_staying_more_than_10min))\n",
    " "
   ]
  },
  {
   "cell_type": "code",
   "execution_count": null,
   "metadata": {
    "collapsed": false
   },
   "outputs": [],
   "source": [
    "#plotting dwell time distribution\n",
    "import matplotlib.pyplot as plt\n",
    "plt.plot(n_addresses_staying_this_much)\n",
    "plt.ylabel('number of addresses 05 july')\n",
    "plt.xlabel('dwell time in minutes')\n",
    "axes = plt.gca()\n",
    "axes.set_xlim([10,470])\n",
    "axes.set_ylim([0,200])\n",
    "#axes.set_ylim([0,max(n_addresses_staying_this_much)])\n",
    "plt.show()"
   ]
  },
  {
   "cell_type": "code",
   "execution_count": null,
   "metadata": {
    "collapsed": false
   },
   "outputs": [],
   "source": [
    "106/8"
   ]
  },
  {
   "cell_type": "code",
   "execution_count": null,
   "metadata": {
    "collapsed": false
   },
   "outputs": [],
   "source": [
    "Randomized = dict()\n",
    "PersistentRandomized = dict()\n",
    "count0 = 0\n",
    "count1 = 0\n",
    "for line in json_lines:\n",
    "    address = line[\"value\"][\"sourceMac\"]\n",
    "    if line[\"value\"][\"trackeeHistory\"][\"localMac\"] == 1 :\n",
    "        count1 +=1\n",
    "        Randomized[address] = 1\n",
    "        if DwellTime[address] > 10: \n",
    "            if LastTimeSeen[address] < concertFinishedTimestamp:\n",
    "                PersistentRandomized[address] = 1 \n",
    "    else:\n",
    "        count0 +=1\n",
    "        Randomized[address] = 0\n",
    "        if DwellTime[address] > 10: \n",
    "            if LastTimeSeen[address] < concertFinishedTimestamp:\n",
    "                PersistentRandomized[address] = 0 \n",
    "\n",
    "zeros=0\n",
    "ones=0\n",
    "zerosPersistent = 0\n",
    "onesPersistent = 0\n",
    "for key in Randomized.keys():\n",
    "    if Randomized[key]==0:\n",
    "        zeros +=1\n",
    "    else:\n",
    "        ones +=1\n",
    "for key in PersistentRandomized.keys():\n",
    "    if PersistentRandomized[key]==0:\n",
    "        zerosPersistent +=1\n",
    "    else:\n",
    "        onesPersistent +=1        \n",
    "print(\"total number of lines with localMac == 1: \" + str(count1))\n",
    "print(\"total number of lines with localMac == 0: \" + str(count0))\n",
    "print(\"total number of addresses with localMac == 1: \" + str(ones))\n",
    "print(\"total number of addresses with localMac == 0: \" + str(zeros))\n",
    "print(\"total number of persistent addresses with localMac == 1: \" + str(onesPersistent))\n",
    "print(\"total number of persistent addresses with localMac == 0: \" + str(zerosPersistent))\n",
    "      \n"
   ]
  },
  {
   "cell_type": "code",
   "execution_count": null,
   "metadata": {
    "collapsed": false
   },
   "outputs": [],
   "source": [
    "483+9769\n",
    "    "
   ]
  },
  {
   "cell_type": "code",
   "execution_count": null,
   "metadata": {
    "collapsed": false
   },
   "outputs": [],
   "source": [
    "#double-check:another approach to computing visible addresses per second\n",
    "Visible = dict()\n",
    "for line in json_lines:\n",
    "    address = line[\"value\"][\"sourceMac\"]\n",
    "    timeSec = int(math.floor((getmeasurementTimestamp(line)- minTime)/1000))\n",
    "    if timeSec in Visible.keys():        \n",
    "        Visible[timeSec].append(address)\n",
    "    else:\n",
    "        Visible[timeSec] = []\n",
    "        Visible[timeSec].append(address)\n",
    "\n",
    "maxSec = max(Visible.keys())    \n",
    "print(maxSec)\n",
    "for sec in range(0,maxSec):\n",
    "    if sec not in Visible.keys():\n",
    "        Visible[sec] = []\n",
    "NVisible = []\n",
    "for sec in range(0,86437):\n",
    "    NVisible.append(len(set(Visible[sec])))\n",
    "    "
   ]
  },
  {
   "cell_type": "code",
   "execution_count": null,
   "metadata": {
    "collapsed": false
   },
   "outputs": [],
   "source": [
    "\n",
    "86437/60"
   ]
  },
  {
   "cell_type": "code",
   "execution_count": null,
   "metadata": {
    "collapsed": true
   },
   "outputs": [],
   "source": [
    "#drawing how many addresses per second are visible\n",
    "import matplotlib.pyplot as plt\n",
    "plt.plot(NVisible)\n",
    "plt.ylabel('addresses present')\n",
    "plt.xlabel('sec')\n",
    "axes = plt.gca()\n",
    "axes.set_xlim([0,30000])\n",
    "axes.set_ylim([0,max(NVisible)])\n",
    "plt.show()"
   ]
  },
  {
   "cell_type": "code",
   "execution_count": 53,
   "metadata": {
    "collapsed": false
   },
   "outputs": [
    {
     "name": "stdout",
     "output_type": "stream",
     "text": [
      "['32bf72d3-d707-4c37-b9b5-6318187de63f', 0, 1436047299132, '107']\n"
     ]
    }
   ],
   "source": [
    "######################################################################## packet rate analysis\n",
    "import fileinput\n",
    "json_lines_raw = []\n",
    "for line in fileinput.input(['arena/2015-07-05_raw.json']):\n",
    "    jsline = json.loads(line)\n",
    "    data = []\n",
    "    data.append(jsline[\"value\"][\"sourceMac\"])\n",
    "    data.append(jsline[\"value\"][\"localMac\"])\n",
    "    data.append(jsline[\"measurementTimestamp\"])\n",
    "    data.append(jsline[\"value\"][\"droneId\"])\n",
    "    json_lines_raw.append(data)\n",
    "print(json_lines_raw[0])\n",
    "        \n",
    "      "
   ]
  },
  {
   "cell_type": "code",
   "execution_count": 55,
   "metadata": {
    "collapsed": false
   },
   "outputs": [
    {
     "name": "stdout",
     "output_type": "stream",
     "text": [
      "112\n",
      "2920472\n"
     ]
    }
   ],
   "source": [
    "numberOfMeasurementsForDrone = dict()\n",
    "for line in json_lines_raw:\n",
    "    droneId = line[3]\n",
    "    if droneId not in numberOfMeasurementsForDrone.keys():\n",
    "        numberOfMeasurementsForDrone[droneId] = 0\n",
    "    numberOfMeasurementsForDrone[droneId] +=1    \n",
    "maxMeasurements = 0\n",
    "maxDroneId = 0\n",
    "for droneId in numberOfMeasurementsForDrone.keys():\n",
    "    if numberOfMeasurementsForDrone[droneId] > maxMeasurements:\n",
    "        maxMeasurements = numberOfMeasurementsForDrone[droneId]\n",
    "        maxDroneId = droneId\n",
    "print(maxDroneId)\n",
    "print(maxMeasurements)"
   ]
  },
  {
   "cell_type": "code",
   "execution_count": 71,
   "metadata": {
    "collapsed": true
   },
   "outputs": [],
   "source": [
    "timestamps112 = dict()\n",
    "for line in json_lines_raw:\n",
    "    if line[3]==\"112\":\n",
    "        address = line[0]\n",
    "        if address not in timestamps112.keys():\n",
    "            timestamps112[address] = []        \n",
    "        timestamps112[address].append(line[2])\n",
    "for address in timestamps112.keys():\n",
    "    timestamps112[address].sort()    "
   ]
  },
  {
   "cell_type": "code",
   "execution_count": 3,
   "metadata": {
    "collapsed": false
   },
   "outputs": [],
   "source": [
    "timestamps = dict()\n",
    "localMac = dict()\n",
    "for line in json_lines_raw:\n",
    "    address = line[0]\n",
    "    if address not in timestamps.keys():\n",
    "        timestamps[address] = []        \n",
    "    timestamps[address].append(line[2])\n",
    "    if address not in localMac.keys():   \n",
    "        localMac[address] = line[1]\n",
    "        "
   ]
  },
  {
   "cell_type": "code",
   "execution_count": 4,
   "metadata": {
    "collapsed": false
   },
   "outputs": [],
   "source": [
    "for address in timestamps.keys():\n",
    "    timestamps[address].sort()"
   ]
  },
  {
   "cell_type": "code",
   "execution_count": 32,
   "metadata": {
    "collapsed": true
   },
   "outputs": [],
   "source": [
    "delays = dict()\n",
    "for address in timestamps.keys():\n",
    "    if address not in delays.keys():\n",
    "        delays[address] = []\n",
    "    oldTimeStamp = 0        \n",
    "    for timestamp in timestamps[address]:\n",
    "        if oldTimeStamp > 0:\n",
    "            delay = (timestamp - oldTimeStamp)\n",
    "            delays[address].append(delay)\n",
    "        oldTimeStamp = timestamp\n",
    "                            "
   ]
  },
  {
   "cell_type": "code",
   "execution_count": 72,
   "metadata": {
    "collapsed": true
   },
   "outputs": [],
   "source": [
    "delays112 = dict()\n",
    "for address in timestamps112.keys():\n",
    "    if address not in delays112.keys():\n",
    "        delays112[address] = []\n",
    "    oldTimeStamp = 0        \n",
    "    for timestamp in timestamps112[address]:\n",
    "        if oldTimeStamp > 0:\n",
    "            delay = (timestamp - oldTimeStamp)\n",
    "            delays112[address].append(delay)\n",
    "        oldTimeStamp = timestamp"
   ]
  },
  {
   "cell_type": "code",
   "execution_count": 42,
   "metadata": {
    "collapsed": false,
    "scrolled": true
   },
   "outputs": [
    {
     "name": "stdout",
     "output_type": "stream",
     "text": [
      "['3be779a3-1e1a-4b79-8ad0-c555f5124e7c', 0, 1436047321397]\n",
      "126629\n",
      "0\n",
      "0\n",
      "[9, 2, 31, 641, 0, 91, 21895, 94, 10, 98, 248791, 123, 6, 0, 2, 2, 3, 39, 34615, 41, 86, 41, 1, 42, 7, 9036, 41, 41, 55, 298, 100, 510, 61, 9, 16, 35, 6937, 43, 128, 1, 2, 558, 334, 8892, 43, 3, 207, 6, 17770, 65, 4, 1, 1, 6, 772, 33133, 1, 3, 8, 25, 2, 15, 65854, 0, 2, 11, 22, 107721, 33, 8, 1, 0, 41, 6, 5, 1843, 69, 80, 81, 1, 1, 6, 11, 2966, 3, 37, 2, 5, 0, 7, 4729, 7015, 20884, 7, 30776, 88032, 16495, 2138, 83102, 7, 19998, 0, 10394, 22178, 10, 43590, 13, 54991, 92, 7, 1, 4, 62679, 47048, 98150, 44253, 36885, 6, 7338, 2917, 6, 5589, 729, 58099, 21177, 7, 12, 24508, 54235, 36018, 13821, 83711, 5, 45959, 581848, 547, 119, 18, 6197, 22, 4709, 17, 38976, 8, 43, 31, 2, 3, 2, 35, 2, 2, 3, 0, 80483, 72, 2, 1, 4, 13, 3, 2, 2, 8571, 5, 2, 15, 13, 122, 718, 98857, 24, 42887, 31, 9, 32, 2, 1, 6, 34, 8265, 1, 2, 17, 1, 1, 17, 2, 1, 0, 6, 65, 18054, 20, 1, 2, 2, 3, 16, 2, 3, 86152, 42332, 234440, 44, 63605, 13, 24362, 3514, 10, 271, 1436, 10, 30, 9, 3162, 93, 7, 2452, 9, 82, 32, 7874, 9, 30309, 9, 6, 58302, 12522, 36, 21, 2606, 205, 221, 198, 26993, 9814, 49, 60, 6, 7921, 6583, 42, 7, 25394, 53, 5, 6602, 55, 2, 12166, 8626, 7, 5, 0, 81, 2, 13562, 6, 34, 17820, 32, 11, 1, 38, 2, 77, 43, 43, 33714, 114, 6, 3, 36, 5, 32, 6, 65795, 24, 69, 24, 259946, 129895, 2, 81, 40, 129808, 2, 38, 1, 1, 4, 1, 1, 129765, 87, 35, 6, 389703, 43513, 40, 41, 1, 2, 39, 41, 2741, 41, 43, 1, 1, 3, 7504, 4, 724, 20, 31087, 38993, 147, 40, 125, 58, 36, 12775, 9952, 4, 1, 166, 18249, 51, 99381, 40, 353, 32, 11937, 2, 0, 5, 35, 40, 9933, 10, 1, 82, 17918, 11, 6, 99823, 2029, 20310, 17980, 2, 33681, 297, 65811, 7, 1, 39018, 2, 77, 8, 3, 33985, 6, 2, 1, 5, 65980, 117770, 19, 5930, 3589, 1610, 41435, 20, 720, 12874, 12928, 34026, 216, 60628, 7, 12, 71, 4, 3, 0, 20, 42, 0, 23393, 5, 5, 2, 64, 15, 4, 7, 13, 3, 4, 7688, 6, 646, 54187, 8, 15, 12, 11, 2, 2, 11, 5, 1, 2, 3, 65, 14, 6, 1618, 1, 20, 1, 1, 3957, 14, 11, 2, 4, 4009, 0, 11, 5, 6, 1201, 21, 1, 78, 10, 1, 1, 4, 14, 3407, 19, 388, 0, 0, 5, 10249, 5, 0, 5, 11132, 16, 142, 4, 7, 5, 11220, 16466, 4, 4, 3, 19268, 7, 11, 3, 3, 2, 3, 13, 7, 59, 11, 13, 7, 3133, 5, 12, 7, 12, 3, 3, 4, 15, 5, 13, 3, 4, 1, 568, 48, 1549062, 35, 0, 7, 33, 2, 1, 5, 134, 327, 531994, 1, 0, 2, 2, 0, 13, 1106898, 42, 40, 42, 6, 41, 6, 29, 41, 5, 131326, 5, 40, 35, 120, 4, 2, 36, 6, 22, 14, 174, 30, 28, 352, 59, 611826, 5, 36, 6, 34, 6, 36, 5, 2, 34, 6, 33, 88, 400169, 42, 41, 42, 655, 230239, 43, 7, 32, 6, 36, 6, 34, 7, 35, 7, 33, 10852, 41, 6, 29, 44, 5, 2, 32, 6, 1, 34, 40, 6, 401733, 104566, 3, 5, 314486, 110, 4, 65, 3, 1, 3, 5, 30, 3, 2, 3, 4, 32, 8, 1112567, 451691, 38, 2, 3, 4, 6, 29, 2, 3, 1, 7, 822313, 7, 156048, 31, 463, 1237649, 1, 9, 2, 1, 9, 66, 5, 2, 1, 9, 20, 6, 5, 1, 2, 9, 60, 5, 8, 9, 1523725, 0, 6, 33, 83]\n",
      "[4024, 1, 8, 3, 18435, 50877, 31, 218706, 33656, 5, 3, 3996, 3743, 2, 3, 9, 11, 5, 3865, 3, 1, 1, 20, 3, 39, 1, 0, 2, 1, 9, 30, 7693, 29286, 0, 481, 1, 21817, 4, 68756, 22, 63, 355308, 4, 3617, 28, 7963, 3, 16, 3892, 3, 1, 5, 7, 2, 1, 3, 2, 3872, 4, 7967, 41, 1, 17, 12832, 1, 0, 8, 0, 15, 19, 1, 35701, 0, 4, 1, 0, 17667, 0, 5, 17945, 10, 33, 32727, 35, 1, 8, 7, 0, 1, 3, 10, 212596, 14, 16, 9, 23, 11875, 67, 7515, 42, 16388, 10048, 12203, 6688, 1, 15, 5652, 12802, 55, 11702, 73, 12785, 17, 2, 2, 9608, 7, 25187, 3, 18008, 17825, 418, 321958, 20, 3731, 8195, 312546, 4103, 7891, 378521, 4084, 54, 280330, 464, 3640, 7872, 17, 6, 39, 12897, 17837, 64, 382051, 6, 4130, 49, 9, 7, 4, 1, 2, 7884, 12892, 4663, 408, 58, 432900, 21, 84793, 51, 2, 4715, 507, 3732, 7, 7897, 3014, 17, 1, 6, 453, 3926, 7, 13207, 414, 4383, 5, 13286, 231631, 421, 3859, 5, 57, 38726, 6, 0, 20, 0, 17, 6, 0, 15, 5, 17878, 4, 289456, 3859, 6, 0, 17, 17, 235130, 17, 3880, 28, 7865, 859, 12008, 6434, 22, 13, 28845, 18345, 16, 2, 1, 28, 2, 122068, 1, 460, 3911, 92, 27, 596532, 4, 2, 2, 3, 12, 17, 5, 4, 10842, 4, 7, 74, 9, 5, 5, 2, 8975, 4, 3564, 72, 4, 4, 3, 28, 5466, 6, 2, 3, 12, 6, 2, 439, 3522, 8, 12, 7, 3665, 3675, 4, 4, 12, 7712, 144, 44, 25, 164, 44, 137, 397, 3416, 5, 470, 43, 11, 12264, 7, 2, 2, 12724, 18, 1, 2, 3, 15419, 475, 6, 2, 20, 34953, 127, 20, 6, 1, 32686, 3, 3, 5, 32621, 244998, 4, 19, 1, 23, 6092, 1, 1, 2, 4, 1, 3, 3908, 5, 3, 3055, 475, 60, 2, 5, 0, 3, 4301, 37, 3027, 2, 2, 4, 1, 4669, 27, 2968, 749, 73, 65, 2, 7, 7596, 2, 2, 5, 2, 16, 10807, 288, 122, 13, 7, 12, 9, 1, 11919, 8, 5, 7, 11509, 59, 3, 6, 11937, 1, 2, 5, 0, 2, 18, 2, 5, 35, 9414, 1422, 55, 24, 107, 21, 56, 22, 439, 1956, 3, 6, 2, 11, 6, 2648, 2, 20, 8, 20, 7870, 10300, 21, 9, 2548, 5, 14, 6, 15, 2, 69, 7975, 1, 7, 3, 22, 11738, 8, 24, 114, 11646, 10, 5, 17866, 2, 4339, 43, 1, 3678, 0, 8, 0, 2, 17, 10, 5477, 0, 2, 6, 15, 3990, 19745, 43, 12, 23, 8, 0, 13652, 13397, 0, 7, 17291, 0, 24, 0, 2, 6, 17610, 2, 6, 42, 1, 31272, 4, 71, 21, 32295, 2, 1, 19, 32465, 22, 1, 5798, 0, 7, 6016, 0, 482, 1, 13483, 1, 2, 5, 450, 8723, 0, 0, 7, 14, 0, 0, 8, 455, 7, 2372, 0, 22, 0, 0, 1, 7, 35, 9, 11, 1, 8333, 2885, 0, 50, 14, 0, 22, 2695, 20, 40, 3, 0, 4938, 1, 19, 7, 460, 2503, 20, 7, 1, 3092, 22, 17, 4, 7, 36, 3804, 7, 5, 4046, 73, 5, 6, 16, 0, 5, 6, 12102, 4013, 64, 7436, 6, 1, 7, 49, 7, 0, 7, 19968, 39, 6, 3204, 1, 6, 13, 6, 0, 1, 414, 20, 1, 60575, 8937, 4, 8, 9, 5, 6, 480, 2443, 10830, 68, 13388, 19, 1, 0, 7, 7608, 8, 12516, 40, 23, 34958, 19, 413374, 3546, 2, 581461, 3284, 6080, 9, 32933, 21, 43, 542125, 2, 6, 13, 2, 6, 379, 12, 8, 15, 2, 20, 107984, 392, 4216]\n"
     ]
    }
   ],
   "source": [
    "print(json_lines_raw[30000])\n",
    "print(len(delays))\n",
    "address1 = '32bf72d3-d707-4c37-b9b5-6318187de63f'\n",
    "address2 = '3be779a3-1e1a-4b79-8ad0-c555f5124e7c'\n",
    "print(localMac[address1])\n",
    "print(localMac[address2])\n",
    "print(delays[address1])\n",
    "print(delays[address2])"
   ]
  },
  {
   "cell_type": "code",
   "execution_count": 34,
   "metadata": {
    "collapsed": false
   },
   "outputs": [],
   "source": [
    "#computing statistics of all addresses\n",
    "import numpy as np\n",
    "averageDelay= dict()\n",
    "medianDelay = dict()\n",
    "stderrDelay = dict()\n",
    "for address in delays.keys():\n",
    "    if address not in averageDelay.keys():\n",
    "        if len(delays[address]) > 1:\n",
    "            delaysArray = np.array(delays[address])\n",
    "            averageDelay[address] = np.mean(delaysArray)\n",
    "            medianDelay[address] = np.median(delaysArray)\n",
    "            stderrDelay[address] = np.std(delaysArray)\n",
    "            "
   ]
  },
  {
   "cell_type": "code",
   "execution_count": 44,
   "metadata": {
    "collapsed": true
   },
   "outputs": [],
   "source": [
    "#computing statistics of non-randomized addresses\n",
    "averageDelay0= dict()\n",
    "medianDelay0 = dict()\n",
    "stderrDelay0 = dict()\n",
    "for address in delays.keys():\n",
    "    if localMac[address] == 0:\n",
    "        if address not in averageDelay0.keys():\n",
    "            if len(delays[address]) > 1:\n",
    "                delaysArray = np.array(delays[address])\n",
    "                averageDelay0[address] = np.mean(delaysArray)\n",
    "                medianDelay0[address] = np.median(delaysArray)\n",
    "                stderrDelay0[address] = np.std(delaysArray)"
   ]
  },
  {
   "cell_type": "code",
   "execution_count": 45,
   "metadata": {
    "collapsed": true
   },
   "outputs": [],
   "source": [
    "#computing statistics of randomized addresses\n",
    "averageDelay1= dict()\n",
    "medianDelay1 = dict()\n",
    "stderrDelay1 = dict()\n",
    "for address in delays.keys():\n",
    "    if localMac[address] == 1:\n",
    "        if address not in averageDelay0.keys():\n",
    "            if len(delays[address]) > 1:\n",
    "                delaysArray = np.array(delays[address])\n",
    "                averageDelay1[address] = np.mean(delaysArray)\n",
    "                medianDelay1[address] = np.median(delaysArray)\n",
    "                stderrDelay1[address] = np.std(delaysArray)"
   ]
  },
  {
   "cell_type": "code",
   "execution_count": 88,
   "metadata": {
    "collapsed": false
   },
   "outputs": [
    {
     "name": "stdout",
     "output_type": "stream",
     "text": [
      "c5b498f0-85f3-46c7-bcdf-bfc68cc3307d\n",
      "b157483f-40a2-4b89-aeaf-2915fdcfd051\n",
      "5dc76ac2-d690-4071-9bc2-1f2f6bf322ba\n",
      "16d40756-8b33-4407-af05-6ce94d5426de\n",
      "27f4ffa9-8067-492e-9117-a88efb1a70d5\n",
      "ffb55990-8320-4508-a570-754f8f1ac109\n",
      "551bcd10-3317-45bd-b3cc-1da8f49af335\n",
      "381e14b4-ac20-4943-925f-4fc3f0292c91\n",
      "ac910ed5-6937-40db-b196-5142129baee6\n",
      "443200e5-5752-4e5e-92f4-00af19a293be\n",
      "befe9d03-2463-4257-a125-c8eb3678d172\n",
      "0e9458db-92f8-40c0-9d87-cf5612c22aaf\n",
      "1250424c-3989-4332-a82e-65cb3d69c5be\n",
      "93a6d510-66be-4363-8fc8-04d44fede25d\n",
      "ceb8f949-b81e-465c-a860-334a6cfa6623\n",
      "9531accb-b185-438a-828c-ce560efabe9b\n",
      "8001fdd4-ad4a-4b1d-becd-85e35c0873fe\n",
      "5096cae8-d6a9-46a0-b60f-20f0f63cc72e\n",
      "a5db01fb-d0f2-4b06-864f-4accc55c719e\n",
      "474a4679-8d6a-4449-a389-318b894bdee1\n",
      "edb59581-3ccc-41cc-b664-d5056365cf35\n",
      "90d0860c-d4d1-416e-bc02-c1396f777a41\n",
      "ae7eb61d-6eed-4b9b-bb81-4c7cedb056ba\n",
      "08df02a4-dd3b-46fb-989b-9f19938f4b87\n",
      "17c0e320-d78f-41ee-9720-0b948985ad03\n",
      "94533f64-1815-4bec-aadd-12a6861f43a6\n",
      "26090b75-20e9-4c2c-9894-935275fbf796\n",
      "006e404a-05a2-4456-9cf5-83bde72e7b2e\n",
      "2a875d0a-aaf3-46a2-bc12-969b07f5262d\n",
      "e55f9971-d70b-4e71-bbe4-d8974fbbc8ef\n",
      "aad5225a-440e-4f4b-a2fe-05ebd4b44cfd\n",
      "5a5f3fee-e5e4-40d0-8fc6-3db82ddbcb8b\n",
      "247fd6f2-cdf2-4319-a9ce-e4d1510ac548\n",
      "8e6fb861-136b-4b02-a3c4-75bcb234c09e\n",
      "ec0f7953-5262-45da-b784-e15ee6774b60\n",
      "58f44306-1f14-4052-b9ae-97ebd5a56902\n",
      "d4679177-9189-4b49-994d-e09fd2213c9c\n",
      "b4a4a439-0d92-4930-bfe0-2163ca1c3fb3\n",
      "6b52f29c-3172-4313-bd64-ad44d2303e5c\n",
      "8b8a2356-d11e-4bd5-bb35-d8370bf48b1e\n",
      "23803191-9246-444b-b14e-e7a37d74eb6b\n",
      "246ca418-8ad0-4e61-8553-e7947c4ea10c\n",
      "a42f979b-2ae7-4839-a69a-d26e5474a7f7\n",
      "53ef6a0a-5b3c-4a57-a2ac-7acbc5b19b60\n",
      "d0171608-3f66-4392-83b5-8d750093b691\n",
      "e773718a-86b2-46f2-b9b7-db08cefa8ffc\n",
      "d22ee269-c462-4e3b-9a4e-259087073d4e\n",
      "1c406c25-f36f-4421-a5c4-c95cf87d07b3\n",
      "d151510d-1c10-4be6-8388-558b5d510825\n",
      "d1c9ff5c-a859-467b-8dd7-cff035227684\n",
      "eeda6e96-a123-4b98-b7ca-561f2fc1af51\n",
      "c7bfaf77-5021-40ef-a097-edaa8ccab2c2\n",
      "4b961d3e-0d3f-46bf-89bc-af4c99936872\n",
      "93b1a1f2-1cbc-4b8f-8c84-070e4922e929\n",
      "98260cd6-caed-4e74-83bc-a7c4c4ad58f5\n",
      "a7f346ea-7128-4eae-8807-67e9f5bee04e\n",
      "a2fe1719-3dcd-4be8-ba5b-773858b07bb8\n",
      "6c8f31dd-1f46-4f4f-9c37-6c2a9029e7c5\n",
      "9d9aa6c6-5286-45cf-b1d2-2e085230c19e\n",
      "3aedeff9-2945-44af-985a-a584d87fe924\n",
      "bdfe5aa6-9a67-4855-bb41-5c86c977a355\n",
      "9484fbb4-c73f-40a0-a5b7-23f0b1ece5bc\n",
      "a4d3033f-396b-49bf-a753-fd1a0d947776\n",
      "e978dd6d-d281-4e5f-9f6a-88083da368c7\n",
      "5f67c2c3-fbdc-46d3-acd4-fda989d971a5\n",
      "4e058eee-093c-4735-b526-60dc7242bd08\n",
      "0b139d42-281f-4f57-8541-fac2df88debc\n",
      "e9a8d7a8-84e7-4124-bac7-32cccc1a5cd9\n",
      "442be2dd-0660-403b-b12a-daa1faec7108\n",
      "da15fdad-e0f7-47e5-a535-79f2a3129f23\n",
      "9e61abb6-e601-4447-9c11-1e96e4fbd500\n",
      "ac24328d-090e-4f7f-8162-7552122bd01f\n",
      "2d7adc6c-ea34-465d-9f83-dcfb15003f62\n",
      "96ed3e59-85f6-43ae-97a9-4d8081e1878b\n",
      "1e057b9e-87c6-452a-88cc-3dab8f78944f\n",
      "f8bebf05-c72b-44aa-9a09-98675e471052\n",
      "ac200d64-bddc-4d12-a7a5-f9c68dda77ca\n",
      "22c7ab6c-12d7-4973-85f9-3efac8c5cab8\n",
      "10976e22-49c9-47f4-81d3-c6c8a13cd13d\n",
      "7db3ab2f-66ec-477b-abe8-094a1663a943\n",
      "6bc1b2a5-5ceb-4272-bac7-598aca291ac0\n",
      "cff25305-f868-4d6f-b559-2cab8fc8a87d\n",
      "51c9c88d-ea8a-49a5-a251-771000551b44\n",
      "b91e85aa-9278-414f-9982-98deb884280e\n",
      "c485efe8-46d7-4fd8-ba70-ae34385a262d\n",
      "49a89bcb-f6bc-44ee-81f8-cb529ede3f5a\n",
      "4cdce553-5bf3-4169-ba97-c101c5627d98\n",
      "4ce0591c-9ac8-46f6-b471-fdce72e7359c\n",
      "98b47fec-a85b-40da-b3be-36966fd3537e\n",
      "100f258c-bd49-486b-a34b-fabdf5b9db60\n",
      "cf178199-3a04-4025-9400-d28b8ac6a8d9\n",
      "c97175eb-e13b-40ef-9a2e-7cfc1c8fe4b7\n",
      "ef528b65-b812-4ce4-9320-4463baeaf957\n",
      "9fc9b003-8c5d-4dd1-88a8-327c80233f26\n",
      "152cbc10-a758-4c08-a1ce-b6bda5352d41\n",
      "b0cb490f-2625-4465-91ba-fb4349397057\n",
      "5a436328-b9d6-4507-95cb-44a1ed7fd088\n",
      "6b1d4da3-f76f-46aa-bfc0-3479d0ba7178\n",
      "f37ed7e7-dc93-461f-9081-01f1efaeb01b\n",
      "845ab4d3-d3bc-4ee5-95c4-edcc54c87791\n",
      "267fcd1b-b2c4-46cd-9bfa-173ead46b21d\n",
      "5927c50d-0cd4-461c-bf9b-04037acfdc08\n",
      "72e26e8e-cc13-419f-af90-e45931b6f9bd\n",
      "49432ed5-1ea1-4282-9f32-8d43ca085d5a\n",
      "ff12e155-f525-402b-949f-afdea4804b7f\n",
      "1d0195c0-d718-4142-9f10-6c0845160d50\n",
      "814b832c-0562-421a-9cd0-b3fe1c2e2ccd\n",
      "137cc6e7-1276-4bd6-9e7b-3698b74c3abb\n",
      "8b8108f5-738c-492f-8204-d271e5ff911d\n",
      "30e55244-2371-44b4-9a36-b2efd3e826b0\n",
      "bce0402c-f5d0-4294-b90f-3b5a64e9ec32\n",
      "5520cbd1-495a-4e4e-938d-6c593eeaf36f\n",
      "b846e13a-06f1-46e6-a826-1680b90649ce\n",
      "3ee078c5-bb05-420d-9fcd-7bb935a4dc3d\n",
      "e16adaff-3b2f-4da7-8937-e62fcb20451f\n",
      "52d6aec2-cda2-49da-9eaf-2f869c571c77\n",
      "c0f1a3d6-6b7b-446a-91d9-df49c18ef5e3\n",
      "21eac94f-cdb2-4032-adc6-4f36c5a0f8af\n",
      "7bab635a-bdda-4dd8-b119-a8461e1ceee6\n",
      "c290dc18-058b-4d6b-8bf2-f4ef887fec5c\n",
      "55085923-2073-4f62-b55e-5c9363ad7799\n",
      "af404526-f118-4a0a-9356-14c97133ff0f\n",
      "b9106378-bec7-46ac-94c6-0a4314614a34\n",
      "c1ce3994-9532-4ba4-b5ca-eb85d7950f4d\n",
      "f7033e7f-7321-4432-adc9-13a51c2af324\n",
      "abf76fc4-8b8c-4c54-84f6-02de62990576\n",
      "e831da5f-42c6-451d-95a6-0d7571f06570\n",
      "018dff8c-f48f-4d9b-a11e-97c46b1db5d0\n",
      "47f1b074-edf6-4a1b-ad81-a6d48477a9c8\n",
      "5b7f0490-283d-4c4e-a714-5c2730037404\n",
      "19f4a72d-a4b7-4e68-9518-ffb6492c8510\n",
      "287ec9c6-bc95-4117-a57c-6691cfc5e607\n",
      "2193b3a9-4e72-4543-93f4-9327ed1d2e13\n",
      "427f2bb8-b997-4ea6-ba99-18e75d035e0b\n",
      "853f9d2a-254e-4c21-a1a6-3bc8bafd410b\n",
      "b7b20f49-4018-4b1f-b1cd-c492fb41c4f4\n",
      "98efe21b-52aa-49ac-852d-81261b103739\n",
      "51008f20-3d7b-4487-9e32-c18d3306629b\n",
      "63ebe59e-9f89-44b2-aa31-9e2f183e5d2c\n",
      "a01bd52b-2295-483d-b7e5-a88a1c160d96\n",
      "adc3752f-0977-4bb2-b9e8-6e9dfe41d712\n",
      "bdf84a23-53d9-42d4-b934-6bae8e9a57f1\n",
      "a1183f78-ce60-45d1-886f-d8a1659a08c2\n",
      "4894714d-e1be-4382-a6bc-0acb34dbde52\n",
      "0805ebfe-0fd3-4ddf-9d18-197494e742de\n",
      "c14046cc-5913-4c89-baec-498c7a677581\n",
      "e84e2bbf-e44d-4623-933a-211860808a87\n",
      "41c94fa3-6af8-49dd-8318-b094093c256f\n",
      "1867fd43-37a6-4b5c-9b9e-f71c931b3560\n",
      "1e3b3988-e9fd-43b5-ab4b-70caa8165d8e\n",
      "9685a1d3-ee2e-4087-980f-fbfa24e995b6\n",
      "7bd2a7d4-449e-4d67-be6e-0baeed47f958\n",
      "030ac29a-a460-49c6-9d6c-d91a265ce7a2\n",
      "6a1777e7-d848-4b10-8254-3e94d31b24de\n",
      "43dd2635-95a8-48f9-8e8a-e14a1727701a\n",
      "bae89366-edc4-49dc-bedc-184c32f2bfca\n",
      "ea1a710e-2f9a-432a-a48f-80ecfd579642\n",
      "222032d5-f8cd-421c-828d-f4777d314eab\n",
      "456e2e4e-c523-4247-afc8-b9972ff32aba\n",
      "3780421b-9626-4eb1-bd6b-fb375fd744c7\n",
      "03dc8b30-ee2d-4feb-83cb-8b5d0ced9d3c\n",
      "0b538223-5702-490e-9dcf-5e2486220c49\n",
      "e8cade80-17f8-463e-8bbd-4ffeff1e7ac0\n",
      "dc7ca32d-b824-4cc9-bd40-76aba4c4223d\n",
      "59713798-a06e-4f10-b2c3-78df24103c6c\n",
      "8a22e7bd-ea51-4bec-ab36-f48b516400fd\n",
      "a48427fa-6d62-4a06-8563-eaaa8b29794b\n",
      "53f1786e-8442-4169-9d25-5724676f1b04\n",
      "c0e4e90e-af9d-4091-b055-81488075283c\n",
      "581b9554-6523-46db-bb9a-57df01b02f49\n",
      "a392a010-f2d1-4024-affe-f51c30500f09\n",
      "b8f4114f-1081-47d8-930b-80b6dcf305e4\n",
      "31cab3e9-8f8f-4a54-a044-97ccbdd8255d\n",
      "d88f3493-2bd6-499d-a2d6-399b95bfa947\n",
      "eda28498-33aa-4741-8283-5a65e1d282a2\n",
      "8c8da6a8-f717-4a64-9a14-7fc0bad52d7f\n",
      "01c7a86f-431d-4242-89a4-a5c35aca71f0\n",
      "eddd0bb8-4959-492d-9276-93d401bb9eab\n",
      "938b9367-0b65-478c-9cf1-1ea379a6abef\n",
      "52b99758-382c-4906-a25d-108efd205ac4\n",
      "0f883713-3974-4683-a2c9-88896f0e1d78\n",
      "be4a7a2f-e8ad-423b-ad40-db1f7fb80d0a\n",
      "195908fa-f297-498e-91fe-7f74e1c51941\n",
      "54707c38-661f-4900-876c-4ab210d3b352\n",
      "91087c33-586d-4b8b-b04b-8fb7b793fe5c\n",
      "29ea442d-a4f4-4bb7-902a-fda0d7fda505\n",
      "f5aabf32-3443-4939-815b-8a5214abd3b2\n",
      "69b0e690-88f0-4b12-88cb-812e0bd85eb3\n",
      "1e6db4e7-831c-498c-b53c-f0023e745721\n",
      "fd489a46-51c6-4b76-8305-ab19bd261481\n",
      "167b80cb-cdd2-4c7d-b689-29b031eb9bf0\n",
      "931e6748-0269-42a6-af33-c590c85fc2ff\n",
      "816a14e7-7603-4f41-9b1b-844d4f49b0b3\n",
      "5604f9ca-8c6a-40ad-a1f3-806584307dcd\n",
      "7e5180b7-485c-4983-b999-497b9ad5dd39\n",
      "952ea4e0-e5e5-4bbf-a7d6-521e8167f97e\n",
      "139c1d9b-3169-4810-8743-742e9e102eeb\n",
      "50d0b64b-411c-4512-bbf8-3b137dccd11c\n",
      "232654ca-9d1b-4cbc-81f6-79baa48949fd\n",
      "7dd7af64-c039-4275-8f61-067e15776c4c\n",
      "40ff85e7-7770-4718-a9fc-dbdb6d78bab0\n",
      "7827aa67-ad0b-4369-b904-ddcff053a3a9\n",
      "f16c2b6f-729d-4a9d-82ed-d10f72cb26fc\n",
      "bdf504a5-4eab-47ce-b7fa-89a30dd1c8f6\n",
      "6cd1c109-a8a4-4f5e-90fa-7aa7265b8018\n",
      "b05321eb-11d6-4706-9277-ed37fb2c228e\n",
      "5a9267e7-49c2-4121-a551-2add56158958\n",
      "cdd686af-449b-4a13-83fd-76ff7a204a6f\n",
      "3cec6d50-eedf-46f6-8476-b60acd6cee6b\n"
     ]
    }
   ],
   "source": [
    "#computing statistics of non-randomized addresses for drone 112 (most overloaded drone)\n",
    "averageDelay0_112= dict()\n",
    "medianDelay0_112 = dict()\n",
    "stderrDelay0_112 = dict()\n",
    "for address in delays112.keys():\n",
    "    if localMac[address] == 0:\n",
    "        if address not in averageDelay0_112.keys():\n",
    "            if len(delays112[address]) > 1:\n",
    "                delaysArray = np.array(delays112[address])\n",
    "                averageDelay0_112[address] = np.mean(delaysArray)\n",
    "                medianDelay0_112[address] = np.median(delaysArray)\n",
    "                stderrDelay0_112[address] = np.std(delaysArray)\n",
    "                \n",
    "#computing statistics of randomized addresses for drone 112\n",
    "averageDelay1_112= dict()\n",
    "medianDelay1_112 = dict()\n",
    "stderrDelay1_112 = dict()\n",
    "for address in delays112.keys():\n",
    "    if localMac[address] == 1:\n",
    "        if address not in averageDelay0_112.keys():\n",
    "            if len(delays112[address]) > 1:\n",
    "                delaysArray = np.array(delays112[address])\n",
    "                averageDelay1_112[address] = np.mean(delaysArray)\n",
    "                medianDelay1_112[address] = np.median(delaysArray)\n",
    "                stderrDelay1_112[address] = np.std(delaysArray)       \n",
    "                if len(delays112[address]) > 50:\n",
    "                    print(address)"
   ]
  },
  {
   "cell_type": "code",
   "execution_count": 75,
   "metadata": {
    "collapsed": true
   },
   "outputs": [],
   "source": [
    "#drawing the delays of some non-randomized address\n",
    "import matplotlib.pyplot as plt\n",
    "plt.plot(delays112['32bf72d3-d707-4c37-b9b5-6318187de63f'])\n",
    "plt.ylabel('interarrival time (sec)')\n",
    "plt.xlabel('packet')\n",
    "#axes.set_ylim([0,200])\n",
    "axes = plt.gca()\n",
    "\n",
    "plt.show()"
   ]
  },
  {
   "cell_type": "code",
   "execution_count": 84,
   "metadata": {
    "collapsed": false
   },
   "outputs": [
    {
     "name": "stdout",
     "output_type": "stream",
     "text": [
      "[800, 44199, 31, 44966, 23, 721, 44255, 25, 19, 679, 44276, 23, 462, 44512, 737, 44261, 23, 447, 214, 44314, 24, 666]\n"
     ]
    }
   ],
   "source": [
    "\n",
    "#drawing the delays of some randomized address\n",
    "import matplotlib.pyplot as plt\n",
    "plt.plot(delays112['7a43a795-b538-4563-b702-6f0256588479'])\n",
    "plt.ylabel('interarrival time (sec)')\n",
    "plt.xlabel('packet')\n",
    "#axes.set_ylim([0,200])\n",
    "axes = plt.gca()\n",
    "print(delays112['7a43a795-b538-4563-b702-6f0256588479'])\n",
    "plt.show()"
   ]
  },
  {
   "cell_type": "code",
   "execution_count": 89,
   "metadata": {
    "collapsed": false
   },
   "outputs": [
    {
     "name": "stdout",
     "output_type": "stream",
     "text": [
      "[144882, 1390, 109, 1907, 453, 116, 562, 133927, 1666, 5170, 1128, 1028, 228, 111, 188, 374, 150, 522, 335, 714, 1534, 4045, 779, 901, 558, 905, 105, 1569, 92, 1263, 1229, 121, 1000, 450, 125, 1607, 402, 339, 328, 234, 230, 574279, 18344, 179882, 100, 1064, 3343, 680, 165, 279, 1690, 1008, 1122, 106, 347, 109, 82, 483, 446, 449, 3594, 1007, 3261, 170, 523, 204, 3466, 2611, 9, 1894, 1792, 1017, 551, 25915, 1048, 20, 503, 402, 2218, 935, 1685, 2038, 1336, 1340, 3036, 4160, 130, 19, 1046, 959, 2129, 449, 560, 97, 10, 1023, 1345, 113, 113, 17, 432, 2133, 1119, 3, 788, 677, 343, 213, 2179416, 226, 209, 685, 3027, 5731, 3469, 348, 565, 1124, 60, 724, 736, 48, 8, 56, 1194, 93, 562, 112, 669, 2025, 1911, 678, 103, 3040, 422, 17451, 903, 2698, 336, 114, 6852, 1117, 1014, 448, 451, 673, 682, 779, 2459, 579, 783, 794, 113, 107, 576, 208, 842, 395, 104, 25, 523, 14]\n"
     ]
    }
   ],
   "source": [
    "print(delays112['443200e5-5752-4e5e-92f4-00af19a293be'])#a randomized address\n"
   ]
  },
  {
   "cell_type": "code",
   "execution_count": 66,
   "metadata": {
    "collapsed": false
   },
   "outputs": [],
   "source": [
    "arr = np.array(delays['32bf72d3-d707-4c37-b9b5-6318187de63f'])"
   ]
  },
  {
   "cell_type": "code",
   "execution_count": 67,
   "metadata": {
    "collapsed": false
   },
   "outputs": [],
   "source": [
    "plt.hist(arr, bins = 500)\n",
    "plt.ylabel('frequency')\n",
    "plt.xlabel('delay')\n",
    "axes.set_xlim([0,200000])\n",
    "\n",
    "axes = plt.gca()\n",
    "\n",
    "plt.show()"
   ]
  },
  {
   "cell_type": "code",
   "execution_count": 50,
   "metadata": {
    "collapsed": false
   },
   "outputs": [],
   "source": [
    "#plotting histogram of average delay for non-randomized\n",
    "averagedelaysList = []\n",
    "for address in averageDelay0.keys():\n",
    "    averagedelaysList.append(averageDelay[address])\n",
    "averagedelays = np.array(averagedelaysList)\n",
    "plt.hist(averagedelays, bins = 2000)\n",
    "plt.ylabel('frequency')\n",
    "plt.xlabel('average packet delay for non-randomized addresses')\n",
    "\n",
    "#axes.set_xlim([0,200000])\n",
    "\n",
    "axes = plt.gca()\n",
    "\n",
    "plt.show()"
   ]
  },
  {
   "cell_type": "code",
   "execution_count": 49,
   "metadata": {
    "collapsed": true
   },
   "outputs": [],
   "source": [
    "#plotting histogram of average delay for randomized\n",
    "averagedelaysList = []\n",
    "for address in averageDelay1.keys():\n",
    "    averagedelaysList.append(averageDelay[address])\n",
    "averagedelays = np.array(averagedelaysList)\n",
    "plt.hist(averagedelays, bins = 2000)\n",
    "plt.ylabel('frequency')\n",
    "plt.xlabel('average packet delay for randomized addresses')\n",
    "\n",
    "#axes.set_xlim([0,200000])\n",
    "\n",
    "axes = plt.gca()\n",
    "\n",
    "plt.show()"
   ]
  },
  {
   "cell_type": "code",
   "execution_count": 51,
   "metadata": {
    "collapsed": true
   },
   "outputs": [],
   "source": [
    "def plotHistogramOfDictionary(dictionary, xlabel, ylabel, nbins):\n",
    "    dictionaryList = []\n",
    "    for address in dictionary.keys():\n",
    "        dictionaryList.append(dictionary[address])\n",
    "    dictArray = np.array(dictionaryList)\n",
    "    plt.hist(dictArray, bins = nbins)\n",
    "    plt.ylabel(ylabel)\n",
    "    plt.xlabel(xlabel)\n",
    "    axes = plt.gca()\n",
    "    plt.show()\n",
    "\n",
    "#def plotHistogramOfDictionaryFilteredByDroneId(dictionary, ylabel, xlabel, nbins, droneId)\n",
    "#    for address in dictionary.keys():\n",
    "#        if \n"
   ]
  },
  {
   "cell_type": "code",
   "execution_count": 91,
   "metadata": {
    "collapsed": true
   },
   "outputs": [],
   "source": [
    "plotHistogramOfDictionary(averageDelay0, 'freq', 'average packet delay for non-randomized addresses ',2000 )"
   ]
  },
  {
   "cell_type": "code",
   "execution_count": null,
   "metadata": {
    "collapsed": true
   },
   "outputs": [],
   "source": [
    "plotHistogramOfDictionary(medianDelay0_112, 'freq', 'median packet delay for non-randomized addresses for dron 112',2000 )"
   ]
  },
  {
   "cell_type": "code",
   "execution_count": 92,
   "metadata": {
    "collapsed": true
   },
   "outputs": [],
   "source": [
    "plotHistogramOfDictionary(stderrDelay0_112, 'freq', 'stdev packet delay for non-randomized addresses for dron 112',2000 )"
   ]
  },
  {
   "cell_type": "code",
   "execution_count": null,
   "metadata": {
    "collapsed": true
   },
   "outputs": [],
   "source": []
  }
 ],
 "metadata": {
  "kernelspec": {
   "display_name": "Python 3",
   "language": "python",
   "name": "python3"
  },
  "language_info": {
   "codemirror_mode": {
    "name": "ipython",
    "version": 3
   },
   "file_extension": ".py",
   "mimetype": "text/x-python",
   "name": "python",
   "nbconvert_exporter": "python",
   "pygments_lexer": "ipython3",
   "version": "3.5.1"
  }
 },
 "nbformat": 4,
 "nbformat_minor": 0
}
