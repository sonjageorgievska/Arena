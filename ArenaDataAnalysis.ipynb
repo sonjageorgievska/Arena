{
 "cells": [
  {
   "cell_type": "code",
   "execution_count": 4,
   "metadata": {
    "collapsed": false
   },
   "outputs": [
    {
     "name": "stdout",
     "output_type": "stream",
     "text": [
      "average x error: 21011.453137221877\n",
      "average y error: 21609.61068440125\n",
      "h\n",
      "760\n"
     ]
    }
   ],
   "source": [
    "import json \n",
    "\n",
    "def getmeasurementTimestamp(item):\n",
    "    return int(item['measurementTimestamp'])\n",
    "\n",
    "def get_x_error(item):\n",
    "    return item['value']['averagecoordinate']['error']['coordinates'][0]\n",
    "\n",
    "def get_y_error(item):\n",
    "    return item['value']['averagecoordinate']['error']['coordinates'][1]\n",
    "\n",
    "\n",
    "for i in [0]:\n",
    "    data = []\n",
    "    with open(\"2015-07-07.json\") as f:\n",
    "        data = f.readlines()\n",
    "\n",
    "    json_lines = []\n",
    "    mac_adresses = []\n",
    "    \n",
    "    for line in data:\n",
    "        jsline = json.loads(line)\n",
    "        json_lines.append(jsline)\n",
    "        mac_adresses.append(jsline[\"value\"][\"sourceMac\"])\n",
    "\n",
    "    "
   ]
  },
  {
   "cell_type": "code",
   "execution_count": 8,
   "metadata": {
    "collapsed": false
   },
   "outputs": [
    {
     "name": "stdout",
     "output_type": "stream",
     "text": [
      "average x error: 21011.453137221877\n",
      "average y error: 21609.61068440125\n",
      "h\n",
      "number of people:760\n",
      "number of people with small error:285\n"
     ]
    }
   ],
   "source": [
    "#json_lines.sort(key = getmeasurementTimestamp)\n",
    "for i in [0]:\n",
    "    average_x_error = 0\n",
    "    average_y_error = 0\n",
    "    count = 0\n",
    "    good_lines = []\n",
    "    number_of_people = len(set(mac_adresses))\n",
    "    mc_good = []\n",
    "    for jsline in json_lines:\n",
    "        average_x_error += get_x_error(jsline)\n",
    "        average_y_error += get_y_error(jsline)\n",
    "        if get_x_error(jsline) <= 2 and get_y_error(jsline) <= 2 :             \n",
    "            good_lines.append(jsline)\n",
    "            mc_good.append(jsline[\"value\"][\"sourceMac\"])\n",
    "\n",
    "    number_of_lines = len(json_lines)\n",
    "    number_of_people_good = len(set(mc_good))\n",
    "    average_x_error /= number_of_lines\n",
    "    average_y_error /= number_of_lines\n",
    "        \n",
    "    print ('average x error: ' + str(average_x_error))\n",
    "    print ('average y error: ' + str(average_y_error))\n",
    "    print('h')\n",
    "    print('number of people:' + str(number_of_people))     \n",
    "    print('number of people with small error:' + str(number_of_people_good))     "
   ]
  },
  {
   "cell_type": "code",
   "execution_count": 1,
   "metadata": {
    "collapsed": false
   },
   "outputs": [
    {
     "data": {
      "text/plain": [
       "0.37254901960784315"
      ]
     },
     "execution_count": 1,
     "metadata": {},
     "output_type": "execute_result"
    }
   ],
   "source": [
    "285/765.0"
   ]
  },
  {
   "cell_type": "code",
   "execution_count": null,
   "metadata": {
    "collapsed": true
   },
   "outputs": [],
   "source": []
  }
 ],
 "metadata": {
  "kernelspec": {
   "display_name": "Python 3",
   "language": "python",
   "name": "python3"
  },
  "language_info": {
   "codemirror_mode": {
    "name": "ipython",
    "version": 3
   },
   "file_extension": ".py",
   "mimetype": "text/x-python",
   "name": "python",
   "nbconvert_exporter": "python",
   "pygments_lexer": "ipython3",
   "version": "3.5.0"
  }
 },
 "nbformat": 4,
 "nbformat_minor": 0
}
