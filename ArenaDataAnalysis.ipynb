{
 "cells": [
  {
   "cell_type": "code",
   "execution_count": 1,
   "metadata": {
    "collapsed": false
   },
   "outputs": [],
   "source": [
    "# defining functions\n",
    "import json \n",
    "import math\n",
    "\n",
    "def getmeasurementTimestamp(item):\n",
    "    return int(item['measurementTimestamp'])\n",
    "\n",
    "def getProcessingTimestamp(item):\n",
    "    return int(item['processingTimestamp'])\n",
    "\n",
    "def get_x_error(item): #the error in the data is the stdev of the sample, we need the error of the estimation (the sample mean)\n",
    "    return item['value']['averagecoordinate']['error']['coordinates'][0]/math.sqrt(item['value']['trackeeHistory']['nMeasurements'])\n",
    "\n",
    "def get_y_error(item):\n",
    "    return item['value']['averagecoordinate']['error']['coordinates'][1]/math.sqrt(item['value']['trackeeHistory']['nMeasurements'])\n",
    "\n",
    "def get_fitted(item):\n",
    "     return item['value']['trackeeHistory']['fitStatus']\n",
    "    "
   ]
  },
  {
   "cell_type": "code",
   "execution_count": 2,
   "metadata": {
    "collapsed": true
   },
   "outputs": [],
   "source": [
    "#reading data\n",
    "for i in [0]:\n",
    "    data = []\n",
    "    with open(\"arena/2015-07-05.json\") as f:\n",
    "        data = f.readlines()\n",
    "\n",
    "    json_lines = []\n",
    "    mac_adresses = []\n",
    "    \n",
    "    for line in data:\n",
    "        jsline = json.loads(line)\n",
    "        json_lines.append(jsline)#now json_lines contains all lines of data\n",
    "        mac_adresses.append(jsline[\"value\"][\"sourceMac\"]) # mac_addresses is a list of address per line\n",
    "        \n"
   ]
  },
  {
   "cell_type": "code",
   "execution_count": 3,
   "metadata": {
    "collapsed": false,
    "scrolled": true
   },
   "outputs": [
    {
     "name": "stdout",
     "output_type": "stream",
     "text": [
      "minTime=1436047367297\n",
      "maxTime=1436133804311\n",
      "time in minutes:1440.6169\n",
      "number of lines: 772867\n",
      "average x error: 3342.886813949892\n",
      "average y error: 3697.2146526257307\n",
      "number of people the whole day:30344\n",
      "number of people with sdev < 2m:17736\n",
      "average delay in ms:10034.32547644032\n",
      "number of fitted:772867\n"
     ]
    }
   ],
   "source": [
    "\n",
    "\n",
    "json_lines.sort(key = getmeasurementTimestamp) # now json_lines is sorted by time\n",
    "minTime = getmeasurementTimestamp(json_lines[0])\n",
    "maxTime = getmeasurementTimestamp(json_lines[len(json_lines) - 1])\n",
    "print(\"minTime=\"+ str(minTime))\n",
    "print(\"maxTime=\"+ str(maxTime))\n",
    "\n",
    "timeMinutes = (maxTime - minTime)/1000/60\n",
    "\n",
    "for i in [0]:\n",
    "    average_x_error = 0\n",
    "    average_y_error = 0\n",
    "    count = 0\n",
    "    good_lines = []\n",
    "    number_of_people =  len(set(mac_adresses)) #number of mac adresses detected. Not people, because of MAC randomization\n",
    "    mc_good = []\n",
    "    delay = 0\n",
    "    number_of_fitted = 0\n",
    "    for jsline in json_lines:\n",
    "        average_x_error += get_x_error(jsline)\n",
    "        average_y_error += get_y_error(jsline)\n",
    "        thisdelay = getProcessingTimestamp(jsline) - getmeasurementTimestamp(jsline)\n",
    "        delay += thisdelay\n",
    "        if (get_fitted(jsline) == 'FITTED'):\n",
    "            number_of_fitted +=1\n",
    "        if get_x_error(jsline) <= 2 and get_y_error(jsline) <= 2:             \n",
    "            good_lines.append(jsline)\n",
    "            mc_good.append(jsline[\"value\"][\"sourceMac\"])\n",
    "\n",
    "    number_of_lines = len(json_lines)\n",
    "    number_of_people_good = len(set(mc_good)) # number of addresses where error < 2m \n",
    "    average_x_error /= number_of_lines\n",
    "    average_y_error /= number_of_lines\n",
    "    delay /= number_of_lines\n",
    "    \n",
    "    print ('time in minutes:' + str(timeMinutes)) \n",
    "    print ('number of lines: ' + str(number_of_lines))\n",
    "    print ('average x error: ' + str(average_x_error))\n",
    "    print ('average y error: ' + str(average_y_error))    \n",
    "    print('number of people the whole day:' + str(number_of_people))     \n",
    "    print('number of people with sdev < 2m:' + str(number_of_people_good))     \n",
    "    print('average delay in ms:' + str(delay))\n",
    "    print('number of fitted:' + str(number_of_fitted)) "
   ]
  },
  {
   "cell_type": "code",
   "execution_count": 4,
   "metadata": {
    "collapsed": false,
    "scrolled": false
   },
   "outputs": [],
   "source": [
    "concertFinishedTimestamp=minTime+1000*60*60*6#timestamp until 6 am"
   ]
  },
  {
   "cell_type": "code",
   "execution_count": 28,
   "metadata": {
    "collapsed": false
   },
   "outputs": [
    {
     "data": {
      "text/plain": [
       "21947"
      ]
     },
     "execution_count": 28,
     "metadata": {},
     "output_type": "execute_result"
    }
   ],
   "source": [
    "16170+5777"
   ]
  },
  {
   "cell_type": "code",
   "execution_count": 5,
   "metadata": {
    "collapsed": false
   },
   "outputs": [],
   "source": [
    "FirstTimeSeen=dict()\n",
    "LastTimeSeen=dict()\n",
    "AddressesInSec = []\n",
    "for jsline in json_lines:\n",
    "    address = jsline[\"value\"][\"sourceMac\"]\n",
    "    time =  getmeasurementTimestamp(jsline)\n",
    "    if address in FirstTimeSeen:        \n",
    "        if time < FirstTimeSeen[address]:\n",
    "            FirstTimeSeen[address] = time\n",
    "    else:\n",
    "        FirstTimeSeen[address] = time\n",
    "        \n",
    "    if address in LastTimeSeen:         \n",
    "        if time > LastTimeSeen[address]:\n",
    "            LastTimeSeen[address] = time\n",
    "    else:\n",
    "        LastTimeSeen[address] = time"
   ]
  },
  {
   "cell_type": "code",
   "execution_count": 9,
   "metadata": {
    "collapsed": false,
    "scrolled": true
   },
   "outputs": [
    {
     "name": "stdout",
     "output_type": "stream",
     "text": [
      "number of addresses detected during concert hours:\n",
      "25687\n",
      "Long term persistent addresses (>10 min)= 9884\n",
      "averageNumberOfAddressesPerSecondAtConcert 4.554085008908119\n",
      "35\n",
      "86438\n"
     ]
    }
   ],
   "source": [
    "DwellTime = dict()\n",
    "numberOfPeopleAtConcert=0\n",
    "for address in LastTimeSeen.keys():    \n",
    "    DwellTime[address] = int((LastTimeSeen[address] - FirstTimeSeen[address]) /1000/60/10) # in 10 minutes interval, i.e. minutes/10\n",
    "    if LastTimeSeen[address] < concertFinishedTimestamp:\n",
    "        numberOfPeopleAtConcert += 1\n",
    "print('number of addresses detected during concert hours:')\n",
    "print(numberOfPeopleAtConcert)\n",
    "longTermAddresses=[]\n",
    "numberOfAddresses = []\n",
    "for jsline in json_lines:\n",
    "    sec = int(math.floor((getmeasurementTimestamp(jsline)- minTime)/1000))\n",
    "    #print(str(sec))\n",
    "    address = jsline[\"value\"][\"sourceMac\"]\n",
    "    if DwellTime[address] > 1:#  i.e. >30 minutes \n",
    "        longTermAddresses.append(address)\n",
    "        if len(AddressesInSec) <= sec:\n",
    "            while len(AddressesInSec) <= sec:\n",
    "                AddressesInSec.append([])\n",
    "                #numberOfAddresses.append(0)\n",
    "            AddressesInSec[sec].append(address)\n",
    "            #numberOfAddresses[sec] +=1\n",
    "            \n",
    "        else:\n",
    "            if address not in AddressesInSec[sec]:                                \n",
    "                AddressesInSec[sec].append(address)\n",
    "                #numberOfAddresses[sec] +=1\n",
    "for setje in AddressesInSec:\n",
    "    numberOfAddresses.append(len(setje)) \n",
    "longTermCount = len(set(longTermAddresses))                \n",
    "print(\"Long term persistent addresses (>10 min)= \" + str(longTermCount))\n",
    "average = 0            \n",
    "maxN = 0\n",
    "for addresses in AddressesInSec:            \n",
    "    average += len(addresses)\n",
    "    maxN = max(len(addresses), maxN)\n",
    "average /= len(AddressesInSec)   \n",
    "print(\"averageNumberOfAddressesPerSecondAtConcert \" + str(average))\n",
    "print(maxN)\n",
    "print(len(numberOfAddresses))"
   ]
  },
  {
   "cell_type": "code",
   "execution_count": null,
   "metadata": {
    "collapsed": false
   },
   "outputs": [],
   "source": [
    "import matplotlib.pyplot as plt\n",
    "plt.plot(numberOfAddresses)\n",
    "plt.ylabel('addresses present')\n",
    "plt.xlabel('sec')\n",
    "axes = plt.gca()\n",
    "axes.set_xlim([0,25000])\n",
    "axes.set_ylim([0,max(numberOfAddresses)])\n",
    "plt.show()"
   ]
  },
  {
   "cell_type": "code",
   "execution_count": 36,
   "metadata": {
    "collapsed": false
   },
   "outputs": [
    {
     "name": "stdout",
     "output_type": "stream",
     "text": [
      "maxDwellTime=141\n",
      "number of people staying less than 30 min during concert hours  = 18419\n",
      "number of people staying less than 10 min during concert hours  = 17343\n",
      "number of people staying more than 30 min during concert hours = 7268\n",
      "percentage_people_staying_more_than_30_minutes = 19.643243243243244\n"
     ]
    }
   ],
   "source": [
    "n_people_staying_this_much = []\n",
    "maxDwellTime = max(DwellTime.values())\n",
    "print(\"maxDwellTime=\" + str(maxDwellTime))\n",
    "for i in range(maxDwellTime + 1):   \n",
    "    n_people_staying_this_much.append(0)\n",
    "    \n",
    "for address in DwellTime.keys():  \n",
    "    if LastTimeSeen[address] < concertFinishedTimestamp:\n",
    "        n_people_staying_this_much[DwellTime[address]] +=1\n",
    "    \n",
    "n_people_staying_less_than_half_hour =  n_people_staying_this_much[0] +   n_people_staying_this_much[1] + n_people_staying_this_much[2]\n",
    "n_people_staying_less_than_10min =  n_people_staying_this_much[0]\n",
    "\n",
    "n_people_staying_more_than_half_hour = numberOfPeopleAtConcert - n_people_staying_less_than_half_hour\n",
    "\n",
    "print(\"number of people staying less than 30 min during concert hours  = \" + str(n_people_staying_less_than_half_hour))\n",
    "print(\"number of people staying less than 10 min during concert hours  = \" + str(n_people_staying_less_than_10min))\n",
    "print(\"number of people staying more than 30 min during concert hours = \" + str(n_people_staying_more_than_half_hour))\n",
    "percentage_people_staying_more_than_30_minutes = n_people_staying_more_than_half_hour/37000 * 100\n",
    "print('percentage_people_staying_more_than_30_minutes = ' +  str(percentage_people_staying_more_than_30_minutes))"
   ]
  },
  {
   "cell_type": "code",
   "execution_count": 20,
   "metadata": {
    "collapsed": false
   },
   "outputs": [
    {
     "ename": "NameError",
     "evalue": "name 'n_people_staying_this_much' is not defined",
     "output_type": "error",
     "traceback": [
      "\u001b[1;31m---------------------------------------------------------------------------\u001b[0m",
      "\u001b[1;31mNameError\u001b[0m                                 Traceback (most recent call last)",
      "\u001b[1;32m<ipython-input-20-a7935c2c9019>\u001b[0m in \u001b[0;36m<module>\u001b[1;34m()\u001b[0m\n\u001b[0;32m      1\u001b[0m \u001b[1;32mimport\u001b[0m \u001b[0mmatplotlib\u001b[0m\u001b[1;33m.\u001b[0m\u001b[0mpyplot\u001b[0m \u001b[1;32mas\u001b[0m \u001b[0mplt\u001b[0m\u001b[1;33m\u001b[0m\u001b[0m\n\u001b[1;32m----> 2\u001b[1;33m \u001b[0mplt\u001b[0m\u001b[1;33m.\u001b[0m\u001b[0mplot\u001b[0m\u001b[1;33m(\u001b[0m\u001b[0mn_people_staying_this_much\u001b[0m\u001b[1;33m)\u001b[0m\u001b[1;33m\u001b[0m\u001b[0m\n\u001b[0m\u001b[0;32m      3\u001b[0m \u001b[0mplt\u001b[0m\u001b[1;33m.\u001b[0m\u001b[0mylabel\u001b[0m\u001b[1;33m(\u001b[0m\u001b[1;34m'number of people 05 july'\u001b[0m\u001b[1;33m)\u001b[0m\u001b[1;33m\u001b[0m\u001b[0m\n\u001b[0;32m      4\u001b[0m \u001b[0mplt\u001b[0m\u001b[1;33m.\u001b[0m\u001b[0mxlabel\u001b[0m\u001b[1;33m(\u001b[0m\u001b[1;34m'dwell time in minutes/10'\u001b[0m\u001b[1;33m)\u001b[0m\u001b[1;33m\u001b[0m\u001b[0m\n\u001b[0;32m      5\u001b[0m \u001b[0maxes\u001b[0m \u001b[1;33m=\u001b[0m \u001b[0mplt\u001b[0m\u001b[1;33m.\u001b[0m\u001b[0mgca\u001b[0m\u001b[1;33m(\u001b[0m\u001b[1;33m)\u001b[0m\u001b[1;33m\u001b[0m\u001b[0m\n",
      "\u001b[1;31mNameError\u001b[0m: name 'n_people_staying_this_much' is not defined"
     ]
    }
   ],
   "source": [
    "import matplotlib.pyplot as plt\n",
    "plt.plot(n_people_staying_this_much)\n",
    "plt.ylabel('number of people 05 july')\n",
    "plt.xlabel('dwell time in minutes/10')\n",
    "\n",
    "plt.show()"
   ]
  },
  {
   "cell_type": "code",
   "execution_count": 18,
   "metadata": {
    "collapsed": false
   },
   "outputs": [
    {
     "data": {
      "text/plain": [
       "13.25"
      ]
     },
     "execution_count": 18,
     "metadata": {},
     "output_type": "execute_result"
    }
   ],
   "source": [
    "106/8"
   ]
  },
  {
   "cell_type": "code",
   "execution_count": null,
   "metadata": {
    "collapsed": true
   },
   "outputs": [],
   "source": []
  }
 ],
 "metadata": {
  "kernelspec": {
   "display_name": "Python 3",
   "language": "python",
   "name": "python3"
  },
  "language_info": {
   "codemirror_mode": {
    "name": "ipython",
    "version": 3
   },
   "file_extension": ".py",
   "mimetype": "text/x-python",
   "name": "python",
   "nbconvert_exporter": "python",
   "pygments_lexer": "ipython3",
   "version": "3.5.0"
  }
 },
 "nbformat": 4,
 "nbformat_minor": 0
}
