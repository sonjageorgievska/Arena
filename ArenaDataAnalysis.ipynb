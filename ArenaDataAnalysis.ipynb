{
 "cells": [
  {
   "cell_type": "code",
   "execution_count": 61,
   "metadata": {
    "collapsed": false
   },
   "outputs": [],
   "source": [
    "# defining functions\n",
    "import json \n",
    "import math\n",
    "\n",
    "def getmeasurementTimestamp(item):\n",
    "    return int(item['measurementTimestamp'])\n",
    "\n",
    "def getProcessingTimestamp(item):\n",
    "    return int(item['processingTimestamp'])\n",
    "\n",
    "def get_x_error(item): #the error in the data is the stdev of the sample, we compute the error of the estimation (the sample mean)\n",
    "    return item['value']['averagecoordinate']['error']['coordinates'][0]/math.sqrt(item['value']['trackeeHistory']['nMeasurements'])\n",
    "\n",
    "def get_y_error(item):\n",
    "    return item['value']['averagecoordinate']['error']['coordinates'][1]/math.sqrt(item['value']['trackeeHistory']['nMeasurements'])\n",
    "\n",
    "def get_fitted(item):\n",
    "     return item['value']['trackeeHistory']['fitStatus']\n",
    "    \n",
    "def get_x_sample_error(item): \n",
    "    return item['value']['averagecoordinate']['error']['coordinates'][0]\n",
    "def get_y_sample_error(item):\n",
    "    return item['value']['averagecoordinate']['error']['coordinates'][1]\n"
   ]
  },
  {
   "cell_type": "code",
   "execution_count": 2,
   "metadata": {
    "collapsed": false
   },
   "outputs": [],
   "source": [
    "#reading data\n",
    "for i in [0]:\n",
    "    data = []\n",
    "    with open(\"arena/2015-07-05.json\") as f:\n",
    "    #with open(\"arena/2015-07-05_raw.json\") as f:\n",
    "        data = f.readlines()\n",
    "\n",
    "    json_lines = []\n",
    "    mac_adresses = []\n",
    "    \n",
    "    for line in data:\n",
    "        jsline = json.loads(line)\n",
    "        json_lines.append(jsline)#now json_lines contains all lines of data\n",
    "        mac_adresses.append(jsline[\"value\"][\"sourceMac\"]) # mac_addresses is a list of address per line\n",
    "        \n"
   ]
  },
  {
   "cell_type": "code",
   "execution_count": 52,
   "metadata": {
    "collapsed": true
   },
   "outputs": [],
   "source": [
    "#sorting by time\n",
    "json_lines.sort(key = getmeasurementTimestamp) # now json_lines is sorted by time"
   ]
  },
  {
   "cell_type": "code",
   "execution_count": null,
   "metadata": {
    "collapsed": false,
    "scrolled": true
   },
   "outputs": [],
   "source": [
    "#computation of error etc\n",
    "minTime = getmeasurementTimestamp(json_lines[0])\n",
    "maxTime = getmeasurementTimestamp(json_lines[len(json_lines) - 1])\n",
    "print(\"minTime=\"+ str(minTime))\n",
    "print(\"maxTime=\"+ str(maxTime))\n",
    "\n",
    "timeMinutes = (maxTime - minTime)/1000/60\n",
    "\n",
    "for i in [0]:\n",
    "    average_x_error = 0\n",
    "    average_y_error = 0\n",
    "    count = 0\n",
    "    good_lines = []\n",
    "    number_of_addresses =  len(set(mac_adresses)) #number of mac adresses detected. Not people, because of MAC randomization\n",
    "    mc_good = []\n",
    "    delay = 0\n",
    "    number_of_fitted = 0\n",
    "    for jsline in json_lines:\n",
    "        average_x_error += get_x_error(jsline)\n",
    "        average_y_error += get_y_error(jsline)\n",
    "        thisdelay = getProcessingTimestamp(jsline) - getmeasurementTimestamp(jsline)\n",
    "        delay += thisdelay\n",
    "        if (get_fitted(jsline) == 'FITTED'):\n",
    "            number_of_fitted +=1\n",
    "        if get_x_error(jsline) <= 2 and get_y_error(jsline) <= 2:             \n",
    "            good_lines.append(jsline)\n",
    "            mc_good.append(jsline[\"value\"][\"sourceMac\"])\n",
    "\n",
    "    number_of_lines = len(json_lines)\n",
    "    number_of_addresses_good = len(set(mc_good)) # number of addresses where error < 2m \n",
    "    average_x_error /= number_of_lines\n",
    "    average_y_error /= number_of_lines\n",
    "    delay /= number_of_lines\n",
    "    \n",
    "    print ('time in minutes:' + str(timeMinutes)) \n",
    "    print ('number of lines: ' + str(number_of_lines))\n",
    "    print ('average x error: ' + str(average_x_error))\n",
    "    print ('average y error: ' + str(average_y_error))    \n",
    "    print('number of addresses the whole day:' + str(number_of_addresses))     \n",
    "    print('number of addresses with stdev < 2m:' + str(number_of_addresses_good))     \n",
    "    print('average delay in ms:' + str(delay))\n",
    "    print('number of fitted:' + str(number_of_fitted)) "
   ]
  },
  {
   "cell_type": "code",
   "execution_count": null,
   "metadata": {
    "collapsed": false
   },
   "outputs": [],
   "source": [
    "#computing FirstTimeSeen and LastTimeSeen\n",
    "concertFinishedTimestamp=minTime+1000*60*60*8#timestamp until 8 am\n",
    "FirstTimeSeen=dict()\n",
    "LastTimeSeen=dict()\n",
    "\n",
    "for jsline in json_lines:\n",
    "    address = jsline[\"value\"][\"sourceMac\"]\n",
    "    time =  getmeasurementTimestamp(jsline)\n",
    "    if address in FirstTimeSeen:        \n",
    "        if time < FirstTimeSeen[address]:\n",
    "            FirstTimeSeen[address] = time\n",
    "    else:\n",
    "        FirstTimeSeen[address] = time\n",
    "        \n",
    "    if address in LastTimeSeen:         \n",
    "        if time > LastTimeSeen[address]:\n",
    "            LastTimeSeen[address] = time\n",
    "    else:\n",
    "        LastTimeSeen[address] = time "
   ]
  },
  {
   "cell_type": "code",
   "execution_count": null,
   "metadata": {
    "collapsed": false,
    "scrolled": true
   },
   "outputs": [],
   "source": [
    "#Computing dwell time, number of persistent addresses\n",
    "DwellTime = dict()\n",
    "DwellTimeDuringConcert = dict()\n",
    "numberOfAdressesAtConcert=0\n",
    "for address in LastTimeSeen.keys():    \n",
    "    DwellTime[address] = int((LastTimeSeen[address] - FirstTimeSeen[address]) /1000/60) # in minutes\n",
    "    if LastTimeSeen[address] < concertFinishedTimestamp:\n",
    "        numberOfAdressesAtConcert += 1\n",
    "        DwellTimeDuringConcert[address] = DwellTime[address]  \n",
    "print('number of addresses detected during concert hours:')\n",
    "print(numberOfAdressesAtConcert)\n",
    "longTermAddresses=[]\n",
    "numberOfAddresses = []\n",
    "AddressesInSec = []\n",
    "for jsline in json_lines:\n",
    "    sec = int(math.floor((getmeasurementTimestamp(jsline)- minTime)/1000))\n",
    "    #print(str(sec))\n",
    "    address = jsline[\"value\"][\"sourceMac\"]\n",
    "    if DwellTime[address] > 10:#  i.e. >10 minutes \n",
    "        longTermAddresses.append(address)\n",
    "        if len(AddressesInSec) <= sec:\n",
    "            while len(AddressesInSec) <= sec:\n",
    "                AddressesInSec.append([])                \n",
    "            AddressesInSec[sec].append(address)                       \n",
    "        else:\n",
    "            if address not in AddressesInSec[sec]:                                \n",
    "                AddressesInSec[sec].append(address)\n",
    "for setje in AddressesInSec:\n",
    "    numberOfAddresses.append(len(setje)) \n",
    "longTermCount = len(set(longTermAddresses))                \n",
    "print(\"Long term persistent addresses (>10 min)= \" + str(longTermCount))\n",
    "average = 0            \n",
    "maxN = 0\n",
    "for addresses in AddressesInSec:            \n",
    "    average += len(addresses) \n",
    "    maxN = max(len(addresses), maxN)\n",
    "average /= len(AddressesInSec)   \n",
    "print(\"averageNumberOfAddressesPerSecondAtConcert \" + str(average))\n",
    "print(maxN)\n"
   ]
  },
  {
   "cell_type": "code",
   "execution_count": null,
   "metadata": {
    "collapsed": false
   },
   "outputs": [],
   "source": [
    "#drawing how many addresses per second are visible\n",
    "import matplotlib.pyplot as plt\n",
    "plt.plot(numberOfAddresses)\n",
    "plt.ylabel('addresses present')\n",
    "plt.xlabel('sec')\n",
    "axes = plt.gca()\n",
    "axes.set_xlim([0,33000])\n",
    "axes.set_ylim([0,max(numberOfAddresses)])\n",
    "plt.show()"
   ]
  },
  {
   "cell_type": "code",
   "execution_count": null,
   "metadata": {
    "collapsed": true
   },
   "outputs": [],
   "source": [
    "#not used at the moment\n",
    "import matplotlib.pyplot as plt\n",
    "plt.plot(numberOfAddresses)\n",
    "plt.ylabel('addresses present')\n",
    "plt.xlabel('min')\n",
    "axes = plt.gca()\n",
    "axes.set_xlim([0,500])\n",
    "axes.set_ylim([0,max(numberOfAddresses)])\n",
    "plt.show()"
   ]
  },
  {
   "cell_type": "code",
   "execution_count": null,
   "metadata": {
    "collapsed": false
   },
   "outputs": [],
   "source": [
    "n_addresses_staying_this_much = []\n",
    "maxDwellTime = max(DwellTimeDuringConcert.values())\n",
    "print(\"maxDwellTime during the whole day=\" + str(maxDwellTime) + \" minutes\")\n",
    "for i in range(maxDwellTime + 1):   \n",
    "    n_addresses_staying_this_much.append(0)\n",
    "    \n",
    "for address in DwellTime.keys():  \n",
    "    if LastTimeSeen[address] < concertFinishedTimestamp:\n",
    "        n_addresses_staying_this_much[DwellTime[address]] +=1\n",
    "#for i in range(0,470):\n",
    "   # print(str(n_addresses_staying_this_much[i]))    \n",
    "n_addresses_staying_less_than_10min =  sum(n_addresses_staying_this_much[:10])\n",
    "\n",
    "n_addresses_staying_more_than_10min = numberOfAdressesAtConcert - n_addresses_staying_less_than_10min\n",
    "\n",
    "\n",
    "print(\"number of addresses staying less than 10 min during concert hours  = \" + str(n_addresses_staying_less_than_10min))\n",
    "print(\"number of addresses staying more than 10 min during concert hours  = \" + str(n_addresses_staying_more_than_10min))\n",
    " "
   ]
  },
  {
   "cell_type": "code",
   "execution_count": null,
   "metadata": {
    "collapsed": false
   },
   "outputs": [],
   "source": [
    "#plotting dwell time distribution\n",
    "import matplotlib.pyplot as plt\n",
    "plt.plot(n_addresses_staying_this_much)\n",
    "plt.ylabel('number of addresses 05 july')\n",
    "plt.xlabel('dwell time in minutes')\n",
    "axes = plt.gca()\n",
    "axes.set_xlim([10,470])\n",
    "axes.set_ylim([0,200])\n",
    "#axes.set_ylim([0,max(n_addresses_staying_this_much)])\n",
    "plt.show()"
   ]
  },
  {
   "cell_type": "code",
   "execution_count": null,
   "metadata": {
    "collapsed": false
   },
   "outputs": [],
   "source": [
    "106/8"
   ]
  },
  {
   "cell_type": "code",
   "execution_count": null,
   "metadata": {
    "collapsed": false
   },
   "outputs": [],
   "source": [
    "Randomized = dict()\n",
    "PersistentRandomized = dict()\n",
    "count0 = 0\n",
    "count1 = 0\n",
    "for line in json_lines:\n",
    "    address = line[\"value\"][\"sourceMac\"]\n",
    "    if line[\"value\"][\"trackeeHistory\"][\"localMac\"] == 1 :\n",
    "        count1 +=1\n",
    "        Randomized[address] = 1\n",
    "        if DwellTime[address] > 10: \n",
    "            if LastTimeSeen[address] < concertFinishedTimestamp:\n",
    "                PersistentRandomized[address] = 1 \n",
    "    else:\n",
    "        count0 +=1\n",
    "        Randomized[address] = 0\n",
    "        if DwellTime[address] > 10: \n",
    "            if LastTimeSeen[address] < concertFinishedTimestamp:\n",
    "                PersistentRandomized[address] = 0 \n",
    "\n",
    "zeros=0\n",
    "ones=0\n",
    "zerosPersistent = 0\n",
    "onesPersistent = 0\n",
    "for key in Randomized.keys():\n",
    "    if Randomized[key]==0:\n",
    "        zeros +=1\n",
    "    else:\n",
    "        ones +=1\n",
    "for key in PersistentRandomized.keys():\n",
    "    if PersistentRandomized[key]==0:\n",
    "        zerosPersistent +=1\n",
    "    else:\n",
    "        onesPersistent +=1        \n",
    "print(\"total number of lines with localMac == 1: \" + str(count1))\n",
    "print(\"total number of lines with localMac == 0: \" + str(count0))\n",
    "print(\"total number of addresses with localMac == 1: \" + str(ones))\n",
    "print(\"total number of addresses with localMac == 0: \" + str(zeros))\n",
    "print(\"total number of persistent addresses with localMac == 1: \" + str(onesPersistent))\n",
    "print(\"total number of persistent addresses with localMac == 0: \" + str(zerosPersistent))\n",
    "      \n"
   ]
  },
  {
   "cell_type": "code",
   "execution_count": null,
   "metadata": {
    "collapsed": false
   },
   "outputs": [],
   "source": [
    "483+9769\n",
    "    "
   ]
  },
  {
   "cell_type": "code",
   "execution_count": null,
   "metadata": {
    "collapsed": false
   },
   "outputs": [],
   "source": [
    "#double-check:another approach to computing visible addresses per second\n",
    "Visible = dict()\n",
    "for line in json_lines:\n",
    "    address = line[\"value\"][\"sourceMac\"]\n",
    "    timeSec = int(math.floor((getmeasurementTimestamp(line)- minTime)/1000))\n",
    "    if timeSec in Visible.keys():        \n",
    "        Visible[timeSec].append(address)\n",
    "    else:\n",
    "        Visible[timeSec] = []\n",
    "        Visible[timeSec].append(address)\n",
    "\n",
    "maxSec = max(Visible.keys())    \n",
    "print(maxSec)\n",
    "for sec in range(0,maxSec):\n",
    "    if sec not in Visible.keys():\n",
    "        Visible[sec] = []\n",
    "NVisible = []\n",
    "for sec in range(0,86437):\n",
    "    NVisible.append(len(set(Visible[sec])))\n",
    "    "
   ]
  },
  {
   "cell_type": "code",
   "execution_count": null,
   "metadata": {
    "collapsed": false
   },
   "outputs": [],
   "source": [
    "\n",
    "86437/60"
   ]
  },
  {
   "cell_type": "code",
   "execution_count": null,
   "metadata": {
    "collapsed": true
   },
   "outputs": [],
   "source": [
    "#drawing how many addresses per second are visible\n",
    "import matplotlib.pyplot as plt\n",
    "plt.plot(NVisible)\n",
    "plt.ylabel('addresses present')\n",
    "plt.xlabel('sec')\n",
    "axes = plt.gca()\n",
    "axes.set_xlim([0,30000])\n",
    "axes.set_ylim([0,max(NVisible)])\n",
    "plt.show()"
   ]
  },
  {
   "cell_type": "code",
   "execution_count": 53,
   "metadata": {
    "collapsed": false
   },
   "outputs": [
    {
     "name": "stdout",
     "output_type": "stream",
     "text": [
      "['32bf72d3-d707-4c37-b9b5-6318187de63f', 0, 1436047299132, '107']\n"
     ]
    }
   ],
   "source": [
    "######################################################################## packet rate analysis\n",
    "#reading from raw data\n",
    "import fileinput\n",
    "json_lines_raw = []\n",
    "for line in fileinput.input(['arena/2015-07-05_raw.json']):\n",
    "    jsline = json.loads(line)\n",
    "    data = []\n",
    "    data.append(jsline[\"value\"][\"sourceMac\"])\n",
    "    data.append(jsline[\"value\"][\"localMac\"])\n",
    "    data.append(jsline[\"measurementTimestamp\"])\n",
    "    data.append(jsline[\"value\"][\"droneId\"])\n",
    "    json_lines_raw.append(data)\n",
    "print(json_lines_raw[0])\n",
    "        \n",
    "      "
   ]
  },
  {
   "cell_type": "code",
   "execution_count": 55,
   "metadata": {
    "collapsed": false
   },
   "outputs": [
    {
     "name": "stdout",
     "output_type": "stream",
     "text": [
      "112\n",
      "2920472\n"
     ]
    }
   ],
   "source": [
    "#finding the most overloaded drone (112)\n",
    "numberOfMeasurementsForDrone = dict()\n",
    "for line in json_lines_raw:\n",
    "    droneId = line[3]\n",
    "    if droneId not in numberOfMeasurementsForDrone.keys():\n",
    "        numberOfMeasurementsForDrone[droneId] = 0\n",
    "    numberOfMeasurementsForDrone[droneId] +=1    \n",
    "maxMeasurements = 0\n",
    "maxDroneId = 0\n",
    "for droneId in numberOfMeasurementsForDrone.keys():\n",
    "    if numberOfMeasurementsForDrone[droneId] > maxMeasurements:\n",
    "        maxMeasurements = numberOfMeasurementsForDrone[droneId]\n",
    "        maxDroneId = droneId\n",
    "print(maxDroneId)\n",
    "print(maxMeasurements)"
   ]
  },
  {
   "cell_type": "code",
   "execution_count": 71,
   "metadata": {
    "collapsed": true
   },
   "outputs": [],
   "source": [
    "#computing the timestamps for every address visible at drone 112\n",
    "timestamps112 = dict()\n",
    "for line in json_lines_raw:\n",
    "    if line[3]==\"112\":\n",
    "        address = line[0]\n",
    "        if address not in timestamps112.keys():\n",
    "            timestamps112[address] = []        \n",
    "        timestamps112[address].append(line[2])\n",
    "for address in timestamps112.keys():\n",
    "    timestamps112[address].sort()    "
   ]
  },
  {
   "cell_type": "code",
   "execution_count": 3,
   "metadata": {
    "collapsed": false
   },
   "outputs": [],
   "source": [
    "#computing the timestamps for every address \n",
    "timestamps = dict()\n",
    "localMac = dict()\n",
    "for line in json_lines_raw:\n",
    "    address = line[0]\n",
    "    if address not in timestamps.keys():\n",
    "        timestamps[address] = []        \n",
    "    timestamps[address].append(line[2])\n",
    "    if address not in localMac.keys():   \n",
    "        localMac[address] = line[1]\n",
    "        "
   ]
  },
  {
   "cell_type": "code",
   "execution_count": 4,
   "metadata": {
    "collapsed": false
   },
   "outputs": [],
   "source": [
    "#sorting the timestamps for every address\n",
    "for address in timestamps.keys():\n",
    "    timestamps[address].sort()"
   ]
  },
  {
   "cell_type": "code",
   "execution_count": 32,
   "metadata": {
    "collapsed": true
   },
   "outputs": [],
   "source": [
    "#computing the interarrival times for every address\n",
    "delays = dict()\n",
    "for address in timestamps.keys():\n",
    "    if address not in delays.keys():\n",
    "        delays[address] = []\n",
    "    oldTimeStamp = 0        \n",
    "    for timestamp in timestamps[address]:\n",
    "        if oldTimeStamp > 0:\n",
    "            delay = (timestamp - oldTimeStamp)\n",
    "            delays[address].append(delay)\n",
    "        oldTimeStamp = timestamp\n",
    "                            "
   ]
  },
  {
   "cell_type": "code",
   "execution_count": 72,
   "metadata": {
    "collapsed": true
   },
   "outputs": [],
   "source": [
    "#computing the interarrival times for every address at drone 112\n",
    "delays112 = dict()\n",
    "for address in timestamps112.keys():\n",
    "    if address not in delays112.keys():\n",
    "        delays112[address] = []\n",
    "    oldTimeStamp = 0        \n",
    "    for timestamp in timestamps112[address]:\n",
    "        if oldTimeStamp > 0:\n",
    "            delay = (timestamp - oldTimeStamp)\n",
    "            delays112[address].append(delay)\n",
    "        oldTimeStamp = timestamp"
   ]
  },
  {
   "cell_type": "code",
   "execution_count": 42,
   "metadata": {
    "collapsed": false,
    "scrolled": true
   },
   "outputs": [
    {
     "name": "stdout",
     "output_type": "stream",
     "text": [
      "['3be779a3-1e1a-4b79-8ad0-c555f5124e7c', 0, 1436047321397]\n",
      "126629\n",
      "0\n",
      "0\n",
      "[9, 2, 31, 641, 0, 91, 21895, 94, 10, 98, 248791, 123, 6, 0, 2, 2, 3, 39, 34615, 41, 86, 41, 1, 42, 7, 9036, 41, 41, 55, 298, 100, 510, 61, 9, 16, 35, 6937, 43, 128, 1, 2, 558, 334, 8892, 43, 3, 207, 6, 17770, 65, 4, 1, 1, 6, 772, 33133, 1, 3, 8, 25, 2, 15, 65854, 0, 2, 11, 22, 107721, 33, 8, 1, 0, 41, 6, 5, 1843, 69, 80, 81, 1, 1, 6, 11, 2966, 3, 37, 2, 5, 0, 7, 4729, 7015, 20884, 7, 30776, 88032, 16495, 2138, 83102, 7, 19998, 0, 10394, 22178, 10, 43590, 13, 54991, 92, 7, 1, 4, 62679, 47048, 98150, 44253, 36885, 6, 7338, 2917, 6, 5589, 729, 58099, 21177, 7, 12, 24508, 54235, 36018, 13821, 83711, 5, 45959, 581848, 547, 119, 18, 6197, 22, 4709, 17, 38976, 8, 43, 31, 2, 3, 2, 35, 2, 2, 3, 0, 80483, 72, 2, 1, 4, 13, 3, 2, 2, 8571, 5, 2, 15, 13, 122, 718, 98857, 24, 42887, 31, 9, 32, 2, 1, 6, 34, 8265, 1, 2, 17, 1, 1, 17, 2, 1, 0, 6, 65, 18054, 20, 1, 2, 2, 3, 16, 2, 3, 86152, 42332, 234440, 44, 63605, 13, 24362, 3514, 10, 271, 1436, 10, 30, 9, 3162, 93, 7, 2452, 9, 82, 32, 7874, 9, 30309, 9, 6, 58302, 12522, 36, 21, 2606, 205, 221, 198, 26993, 9814, 49, 60, 6, 7921, 6583, 42, 7, 25394, 53, 5, 6602, 55, 2, 12166, 8626, 7, 5, 0, 81, 2, 13562, 6, 34, 17820, 32, 11, 1, 38, 2, 77, 43, 43, 33714, 114, 6, 3, 36, 5, 32, 6, 65795, 24, 69, 24, 259946, 129895, 2, 81, 40, 129808, 2, 38, 1, 1, 4, 1, 1, 129765, 87, 35, 6, 389703, 43513, 40, 41, 1, 2, 39, 41, 2741, 41, 43, 1, 1, 3, 7504, 4, 724, 20, 31087, 38993, 147, 40, 125, 58, 36, 12775, 9952, 4, 1, 166, 18249, 51, 99381, 40, 353, 32, 11937, 2, 0, 5, 35, 40, 9933, 10, 1, 82, 17918, 11, 6, 99823, 2029, 20310, 17980, 2, 33681, 297, 65811, 7, 1, 39018, 2, 77, 8, 3, 33985, 6, 2, 1, 5, 65980, 117770, 19, 5930, 3589, 1610, 41435, 20, 720, 12874, 12928, 34026, 216, 60628, 7, 12, 71, 4, 3, 0, 20, 42, 0, 23393, 5, 5, 2, 64, 15, 4, 7, 13, 3, 4, 7688, 6, 646, 54187, 8, 15, 12, 11, 2, 2, 11, 5, 1, 2, 3, 65, 14, 6, 1618, 1, 20, 1, 1, 3957, 14, 11, 2, 4, 4009, 0, 11, 5, 6, 1201, 21, 1, 78, 10, 1, 1, 4, 14, 3407, 19, 388, 0, 0, 5, 10249, 5, 0, 5, 11132, 16, 142, 4, 7, 5, 11220, 16466, 4, 4, 3, 19268, 7, 11, 3, 3, 2, 3, 13, 7, 59, 11, 13, 7, 3133, 5, 12, 7, 12, 3, 3, 4, 15, 5, 13, 3, 4, 1, 568, 48, 1549062, 35, 0, 7, 33, 2, 1, 5, 134, 327, 531994, 1, 0, 2, 2, 0, 13, 1106898, 42, 40, 42, 6, 41, 6, 29, 41, 5, 131326, 5, 40, 35, 120, 4, 2, 36, 6, 22, 14, 174, 30, 28, 352, 59, 611826, 5, 36, 6, 34, 6, 36, 5, 2, 34, 6, 33, 88, 400169, 42, 41, 42, 655, 230239, 43, 7, 32, 6, 36, 6, 34, 7, 35, 7, 33, 10852, 41, 6, 29, 44, 5, 2, 32, 6, 1, 34, 40, 6, 401733, 104566, 3, 5, 314486, 110, 4, 65, 3, 1, 3, 5, 30, 3, 2, 3, 4, 32, 8, 1112567, 451691, 38, 2, 3, 4, 6, 29, 2, 3, 1, 7, 822313, 7, 156048, 31, 463, 1237649, 1, 9, 2, 1, 9, 66, 5, 2, 1, 9, 20, 6, 5, 1, 2, 9, 60, 5, 8, 9, 1523725, 0, 6, 33, 83]\n",
      "[4024, 1, 8, 3, 18435, 50877, 31, 218706, 33656, 5, 3, 3996, 3743, 2, 3, 9, 11, 5, 3865, 3, 1, 1, 20, 3, 39, 1, 0, 2, 1, 9, 30, 7693, 29286, 0, 481, 1, 21817, 4, 68756, 22, 63, 355308, 4, 3617, 28, 7963, 3, 16, 3892, 3, 1, 5, 7, 2, 1, 3, 2, 3872, 4, 7967, 41, 1, 17, 12832, 1, 0, 8, 0, 15, 19, 1, 35701, 0, 4, 1, 0, 17667, 0, 5, 17945, 10, 33, 32727, 35, 1, 8, 7, 0, 1, 3, 10, 212596, 14, 16, 9, 23, 11875, 67, 7515, 42, 16388, 10048, 12203, 6688, 1, 15, 5652, 12802, 55, 11702, 73, 12785, 17, 2, 2, 9608, 7, 25187, 3, 18008, 17825, 418, 321958, 20, 3731, 8195, 312546, 4103, 7891, 378521, 4084, 54, 280330, 464, 3640, 7872, 17, 6, 39, 12897, 17837, 64, 382051, 6, 4130, 49, 9, 7, 4, 1, 2, 7884, 12892, 4663, 408, 58, 432900, 21, 84793, 51, 2, 4715, 507, 3732, 7, 7897, 3014, 17, 1, 6, 453, 3926, 7, 13207, 414, 4383, 5, 13286, 231631, 421, 3859, 5, 57, 38726, 6, 0, 20, 0, 17, 6, 0, 15, 5, 17878, 4, 289456, 3859, 6, 0, 17, 17, 235130, 17, 3880, 28, 7865, 859, 12008, 6434, 22, 13, 28845, 18345, 16, 2, 1, 28, 2, 122068, 1, 460, 3911, 92, 27, 596532, 4, 2, 2, 3, 12, 17, 5, 4, 10842, 4, 7, 74, 9, 5, 5, 2, 8975, 4, 3564, 72, 4, 4, 3, 28, 5466, 6, 2, 3, 12, 6, 2, 439, 3522, 8, 12, 7, 3665, 3675, 4, 4, 12, 7712, 144, 44, 25, 164, 44, 137, 397, 3416, 5, 470, 43, 11, 12264, 7, 2, 2, 12724, 18, 1, 2, 3, 15419, 475, 6, 2, 20, 34953, 127, 20, 6, 1, 32686, 3, 3, 5, 32621, 244998, 4, 19, 1, 23, 6092, 1, 1, 2, 4, 1, 3, 3908, 5, 3, 3055, 475, 60, 2, 5, 0, 3, 4301, 37, 3027, 2, 2, 4, 1, 4669, 27, 2968, 749, 73, 65, 2, 7, 7596, 2, 2, 5, 2, 16, 10807, 288, 122, 13, 7, 12, 9, 1, 11919, 8, 5, 7, 11509, 59, 3, 6, 11937, 1, 2, 5, 0, 2, 18, 2, 5, 35, 9414, 1422, 55, 24, 107, 21, 56, 22, 439, 1956, 3, 6, 2, 11, 6, 2648, 2, 20, 8, 20, 7870, 10300, 21, 9, 2548, 5, 14, 6, 15, 2, 69, 7975, 1, 7, 3, 22, 11738, 8, 24, 114, 11646, 10, 5, 17866, 2, 4339, 43, 1, 3678, 0, 8, 0, 2, 17, 10, 5477, 0, 2, 6, 15, 3990, 19745, 43, 12, 23, 8, 0, 13652, 13397, 0, 7, 17291, 0, 24, 0, 2, 6, 17610, 2, 6, 42, 1, 31272, 4, 71, 21, 32295, 2, 1, 19, 32465, 22, 1, 5798, 0, 7, 6016, 0, 482, 1, 13483, 1, 2, 5, 450, 8723, 0, 0, 7, 14, 0, 0, 8, 455, 7, 2372, 0, 22, 0, 0, 1, 7, 35, 9, 11, 1, 8333, 2885, 0, 50, 14, 0, 22, 2695, 20, 40, 3, 0, 4938, 1, 19, 7, 460, 2503, 20, 7, 1, 3092, 22, 17, 4, 7, 36, 3804, 7, 5, 4046, 73, 5, 6, 16, 0, 5, 6, 12102, 4013, 64, 7436, 6, 1, 7, 49, 7, 0, 7, 19968, 39, 6, 3204, 1, 6, 13, 6, 0, 1, 414, 20, 1, 60575, 8937, 4, 8, 9, 5, 6, 480, 2443, 10830, 68, 13388, 19, 1, 0, 7, 7608, 8, 12516, 40, 23, 34958, 19, 413374, 3546, 2, 581461, 3284, 6080, 9, 32933, 21, 43, 542125, 2, 6, 13, 2, 6, 379, 12, 8, 15, 2, 20, 107984, 392, 4216]\n"
     ]
    }
   ],
   "source": [
    "print(json_lines_raw[30000])\n",
    "print(len(delays))\n",
    "address1 = '32bf72d3-d707-4c37-b9b5-6318187de63f'\n",
    "address2 = '3be779a3-1e1a-4b79-8ad0-c555f5124e7c'\n",
    "print(localMac[address1])\n",
    "print(localMac[address2])\n",
    "print(delays[address1])\n",
    "print(delays[address2])"
   ]
  },
  {
   "cell_type": "code",
   "execution_count": 34,
   "metadata": {
    "collapsed": false
   },
   "outputs": [],
   "source": [
    "#computing statistics of all addresses\n",
    "import numpy as np\n",
    "averageDelay= dict()\n",
    "medianDelay = dict()\n",
    "stderrDelay = dict()\n",
    "for address in delays.keys():\n",
    "    if address not in averageDelay.keys():\n",
    "        if len(delays[address]) > 1:\n",
    "            delaysArray = np.array(delays[address])\n",
    "            averageDelay[address] = np.mean(delaysArray)\n",
    "            medianDelay[address] = np.median(delaysArray)\n",
    "            stderrDelay[address] = np.std(delaysArray)\n",
    "            "
   ]
  },
  {
   "cell_type": "code",
   "execution_count": 44,
   "metadata": {
    "collapsed": true
   },
   "outputs": [],
   "source": [
    "#computing statistics of non-randomized addresses\n",
    "averageDelay0= dict()\n",
    "medianDelay0 = dict()\n",
    "stderrDelay0 = dict()\n",
    "for address in delays.keys():\n",
    "    if localMac[address] == 0:\n",
    "        if address not in averageDelay0.keys():\n",
    "            if len(delays[address]) > 1:\n",
    "                delaysArray = np.array(delays[address])\n",
    "                averageDelay0[address] = np.mean(delaysArray)\n",
    "                medianDelay0[address] = np.median(delaysArray)\n",
    "                stderrDelay0[address] = np.std(delaysArray)"
   ]
  },
  {
   "cell_type": "code",
   "execution_count": 45,
   "metadata": {
    "collapsed": true
   },
   "outputs": [],
   "source": [
    "#computing statistics of randomized addresses\n",
    "averageDelay1= dict()\n",
    "medianDelay1 = dict()\n",
    "stderrDelay1 = dict()\n",
    "for address in delays.keys():\n",
    "    if localMac[address] == 1:\n",
    "        if address not in averageDelay0.keys():\n",
    "            if len(delays[address]) > 1:\n",
    "                delaysArray = np.array(delays[address])\n",
    "                averageDelay1[address] = np.mean(delaysArray)\n",
    "                medianDelay1[address] = np.median(delaysArray)\n",
    "                stderrDelay1[address] = np.std(delaysArray)"
   ]
  },
  {
   "cell_type": "code",
   "execution_count": 101,
   "metadata": {
    "collapsed": false
   },
   "outputs": [
    {
     "name": "stdout",
     "output_type": "stream",
     "text": [
      "5b24a9bc-4564-463b-bff4-8a11fb0af315\n",
      "c15d9f55-7b13-4ffc-906c-237fbe14f91e\n",
      "c40c0759-8022-43a9-9ee5-383f3a1dc585\n",
      "a470a8cb-cb67-4a26-9830-183f19abbc23\n",
      "aee6d072-1925-4832-a1c6-9b3602b1e741\n",
      "3996d462-0865-4cb0-9469-7b80123b6140\n",
      "b861b2a8-378d-4fbe-be78-ea02451c4b62\n",
      "168da057-19d9-43d7-bc16-2593ae68e9e9\n",
      "0924490d-4873-4db4-924b-88138023b958\n",
      "a300a56f-1164-4134-83d8-8c530b573f47\n",
      "09636e81-b73b-4438-8037-eeac3fbaae89\n",
      "ce7a8a20-52f6-4560-a724-3b7c74c9f9cc\n",
      "0b9478c7-0075-400e-adac-521796704666\n",
      "fb2803cd-5e20-4e3d-8eee-99c97a504589\n",
      "e033a43b-026a-49fd-8205-69f6ce80ac08\n",
      "8a3778f6-68f2-4341-a3b3-e80df986bc7c\n",
      "baa46528-6a88-41f9-9db9-89c348a5bed6\n",
      "9dc0793b-c3af-4ec9-91b8-101792c32946\n",
      "27e573c8-1640-4ea8-86d8-0733c800e9cd\n",
      "305cd3fd-8ae8-4df6-b739-f50dbf0e0cc9\n",
      "28595f5a-7e38-4580-84d5-680565d46846\n",
      "7fbc8ad5-110d-4e55-b41c-61f0a188478b\n",
      "9e10b66a-16c7-4a5c-9d33-572d7d72ea10\n",
      "f88adfbb-5f6a-46ad-a558-8cc24814da04\n",
      "42f4e76c-c1b1-4100-90be-55ab4c7c2116\n",
      "6cab229a-e15d-48b7-ab1e-5ddca3d7e283\n",
      "280e9a33-fe52-4129-ade5-23aa12cee33c\n",
      "45a6fbd5-372b-49c6-8258-3807165c0e27\n",
      "b8f3b96f-a4b6-4b74-828d-bcad1d7d349d\n",
      "31e94e80-c2f9-4f05-aa0b-4521e42d55da\n",
      "39331fc2-e53f-419c-921a-a9217a3eae56\n",
      "b9b06899-3584-4fc6-b7f1-d8927b9e56b6\n",
      "1e011310-2449-4432-862b-a1a62fa8c604\n",
      "657afda8-cbb9-4f72-bca2-72374bb6aabf\n",
      "74b541b4-3bf4-4845-adf5-4c0c545d4712\n",
      "f174f340-878a-4d6e-aa9b-50a129780844\n",
      "a82cb4df-dbc2-4f2f-aa2d-2c210ad115b6\n",
      "1c1295f7-4123-4c39-bc48-a3433859c79c\n",
      "a3aeee49-157b-428f-8c53-3d54bcddab2e\n",
      "55aa3558-2c0b-4395-a726-b2fdfddb5706\n",
      "85a84e08-c967-41d0-b56b-522574796776\n",
      "f6d549e4-83dd-45e2-9b0a-9a648422d119\n",
      "aecccf28-34b5-4adb-8568-e769d0d755c8\n",
      "94e0871c-1521-4f87-8eda-ba79e7c33174\n",
      "1ce7759b-c74d-4857-9d4a-a54d3a8613a1\n",
      "e1deda99-163f-4b68-9ade-e1f05d070bf2\n",
      "2c019c2d-7e9e-42b1-b3bd-1797c918d4a7\n",
      "ca705f81-d4ee-40b6-82fe-ff587944d703\n",
      "495d5fd4-c5cc-4cfb-9452-3729a3caf574\n",
      "f97a694c-36fa-456e-907c-024e5838ea18\n",
      "7a4213c0-7957-440a-81d6-39816a919717\n",
      "9f39ddb9-8442-47d8-b099-ade72b0944b9\n",
      "8ff7bb98-b590-4233-9a0a-1b52d9ac2a0d\n",
      "67374355-9580-46d4-8ba4-2e83d5b1aa3b\n",
      "c263e729-cbf4-4248-8632-3342044dfa72\n",
      "7543f8d3-73e0-48a1-ac4b-5a2c2d39c444\n",
      "84c371cf-289f-437c-bdfa-853b67f00f4b\n",
      "3620f07e-a673-4648-bd9b-a0681d574d6f\n",
      "560cef8b-8080-4412-a038-f8bd4c7f534b\n",
      "eec398a7-72cf-443c-ac7b-2d9748d19ab9\n",
      "b7e0c075-6c17-464e-94be-f096760918e0\n",
      "2d1ff804-c499-4163-b90f-003df1e4ec65\n",
      "78139758-6d8f-4d34-af47-dbdd7b954c6d\n",
      "0d727def-10c3-4a1e-b594-2ca873febd5d\n",
      "5ec08876-4369-4002-847d-c181dc96a78b\n",
      "0b14a3f9-7194-455d-a216-67becf84eb11\n",
      "62042a84-f904-4b2c-b79b-1e06c1ac980e\n",
      "1447ca16-56bf-46f8-b243-ecf1d4dc9d39\n",
      "ed04a416-52de-49d2-a01a-6c24c85c419b\n",
      "c35a13ba-516b-44c6-a182-52025e17d150\n",
      "6f658467-fd4c-4816-bc66-c20e189f0420\n",
      "7f7e144e-0978-4c2d-8d4b-91a43c976778\n",
      "0ceed227-1c07-4f39-8946-1a048d2d1a90\n",
      "18bd5dba-eef5-4979-9464-60d9affc0cd4\n",
      "87629e3e-5a18-423f-a55f-1ae9a04aa1dc\n",
      "8802dae1-ff38-49e2-85b2-b460003fd9e5\n",
      "590d020e-fe5f-4e1b-91f6-aa27385f1d50\n",
      "7fa5a56f-db40-4522-8e78-b863b3067a81\n",
      "8ca8a420-35ae-4a04-88e7-7f8d2a0bc64d\n",
      "51eea140-aa63-43e2-b19d-385e8894c31f\n",
      "a92cf168-2e46-4a5e-83d0-a90197281fc7\n",
      "5e2d9e60-e336-4c5a-a84e-588602971f33\n",
      "009ade39-2379-4323-a14b-717a16ac4852\n",
      "32fabe74-9dc7-4c29-b4e4-1fb7105fd2c7\n",
      "7fa0ec2e-f430-409f-b46d-5a6e4b1ced3d\n",
      "64c2eac1-4886-4136-92ec-b4c68b887534\n",
      "a21d5e85-3c9b-4852-8ae0-41dc5c4918ac\n",
      "1b1f284a-d3ac-4c3f-bf45-df7f77502200\n",
      "7989057e-37ac-414d-b77c-5c7bc8539780\n",
      "9e031133-be48-435f-be93-6fefa02496c0\n",
      "f61a8c24-2644-4f8a-a62e-fe3c4bfcdd74\n",
      "cfcba25a-513c-445d-b09f-e4fc9b19d763\n",
      "03858df4-e04f-43d2-9b82-5ee52595e0d4\n",
      "687b75d0-4a26-4dec-b93c-2bf120cc7756\n",
      "af5cc498-ff39-49d9-9414-fd90c7b51c96\n",
      "**********************************************************************\n",
      "8b8a2356-d11e-4bd5-bb35-d8370bf48b1e\n",
      "47f1b074-edf6-4a1b-ad81-a6d48477a9c8\n",
      "63ebe59e-9f89-44b2-aa31-9e2f183e5d2c\n"
     ]
    }
   ],
   "source": [
    "#computing statistics of non-randomized addresses for drone 112 (most overloaded drone)\n",
    "averageDelay0_112= dict()\n",
    "medianDelay0_112 = dict()\n",
    "stderrDelay0_112 = dict()\n",
    "for address in delays112.keys():\n",
    "    if localMac[address] == 0:\n",
    "        if address not in averageDelay0_112.keys():\n",
    "            if len(delays112[address]) > 1:\n",
    "                delaysArray = np.array(delays112[address])\n",
    "                averageDelay0_112[address] = np.mean(delaysArray)\n",
    "                medianDelay0_112[address] = np.median(delaysArray)\n",
    "                stderrDelay0_112[address] = np.std(delaysArray)\n",
    "                if len(delays112[address]) > 2000:\n",
    "                    print(address)\n",
    "print('**********************************************************************')                \n",
    "#computing statistics of randomized addresses for drone 112\n",
    "averageDelay1_112= dict()\n",
    "medianDelay1_112 = dict()\n",
    "stderrDelay1_112 = dict()\n",
    "for address in delays112.keys():\n",
    "    if localMac[address] == 1:\n",
    "        if address not in averageDelay0_112.keys():\n",
    "            if len(delays112[address]) > 1:\n",
    "                delaysArray = np.array(delays112[address])\n",
    "                averageDelay1_112[address] = np.mean(delaysArray)\n",
    "                medianDelay1_112[address] = np.median(delaysArray)\n",
    "                stderrDelay1_112[address] = np.std(delaysArray)       \n",
    "                if len(delays112[address]) > 2000:\n",
    "                    print(address)"
   ]
  },
  {
   "cell_type": "code",
   "execution_count": 102,
   "metadata": {
    "collapsed": true
   },
   "outputs": [],
   "source": [
    "#drawing the delays of some non-randomized address\n",
    "import matplotlib.pyplot as plt\n",
    "plt.plot(delays112['62042a84-f904-4b2c-b79b-1e06c1ac980e'])\n",
    "plt.ylabel('interarrival time (ms)')\n",
    "plt.xlabel('packet')\n",
    "#axes.set_ylim([0,200])\n",
    "axes = plt.gca()\n",
    "\n",
    "plt.show()"
   ]
  },
  {
   "cell_type": "code",
   "execution_count": 84,
   "metadata": {
    "collapsed": false
   },
   "outputs": [
    {
     "name": "stdout",
     "output_type": "stream",
     "text": [
      "[800, 44199, 31, 44966, 23, 721, 44255, 25, 19, 679, 44276, 23, 462, 44512, 737, 44261, 23, 447, 214, 44314, 24, 666]\n"
     ]
    }
   ],
   "source": [
    "\n",
    "#drawing the delays of some randomized address\n",
    "import matplotlib.pyplot as plt\n",
    "plt.plot(delays112['7a43a795-b538-4563-b702-6f0256588479'])\n",
    "plt.ylabel('interarrival time (ms)')\n",
    "plt.xlabel('packet')\n",
    "#axes.set_ylim([0,200])\n",
    "axes = plt.gca()\n",
    "print(delays112['7a43a795-b538-4563-b702-6f0256588479'])\n",
    "plt.show()"
   ]
  },
  {
   "cell_type": "code",
   "execution_count": 89,
   "metadata": {
    "collapsed": false
   },
   "outputs": [
    {
     "name": "stdout",
     "output_type": "stream",
     "text": [
      "[144882, 1390, 109, 1907, 453, 116, 562, 133927, 1666, 5170, 1128, 1028, 228, 111, 188, 374, 150, 522, 335, 714, 1534, 4045, 779, 901, 558, 905, 105, 1569, 92, 1263, 1229, 121, 1000, 450, 125, 1607, 402, 339, 328, 234, 230, 574279, 18344, 179882, 100, 1064, 3343, 680, 165, 279, 1690, 1008, 1122, 106, 347, 109, 82, 483, 446, 449, 3594, 1007, 3261, 170, 523, 204, 3466, 2611, 9, 1894, 1792, 1017, 551, 25915, 1048, 20, 503, 402, 2218, 935, 1685, 2038, 1336, 1340, 3036, 4160, 130, 19, 1046, 959, 2129, 449, 560, 97, 10, 1023, 1345, 113, 113, 17, 432, 2133, 1119, 3, 788, 677, 343, 213, 2179416, 226, 209, 685, 3027, 5731, 3469, 348, 565, 1124, 60, 724, 736, 48, 8, 56, 1194, 93, 562, 112, 669, 2025, 1911, 678, 103, 3040, 422, 17451, 903, 2698, 336, 114, 6852, 1117, 1014, 448, 451, 673, 682, 779, 2459, 579, 783, 794, 113, 107, 576, 208, 842, 395, 104, 25, 523, 14]\n"
     ]
    }
   ],
   "source": [
    "print(delays112['443200e5-5752-4e5e-92f4-00af19a293be'])#a randomized address\n"
   ]
  },
  {
   "cell_type": "code",
   "execution_count": 103,
   "metadata": {
    "collapsed": false
   },
   "outputs": [
    {
     "name": "stdout",
     "output_type": "stream",
     "text": [
      "[160, 104, 528, 791, 1583, 264, 528, 264, 1056, 11, 780, 265, 528, 792, 265, 527, 445, 347, 264, 1584, 265, 1055, 791, 263, 529, 47, 1010, 560, 231, 264, 264, 263, 529, 264, 264, 528, 798, 192, 330, 2346, 358, 264, 792, 145, 914, 525, 530, 263, 528, 793, 64, 200, 265, 792, 792, 264, 264, 264, 264, 792, 528, 527, 264, 264, 2112, 527, 638, 417, 264, 528, 264, 528, 264, 264, 1847, 792, 1913, 263, 264, 528, 1056, 184, 80, 264, 527, 1319, 529, 263, 265, 527, 266, 262, 527, 264, 43, 221, 528, 264, 528, 264, 1056, 263, 792, 264, 527, 433, 95, 264, 263, 527, 265, 527, 528, 264, 792, 1319, 264, 30, 1025, 263, 528, 2706, 264, 263, 529, 263, 528, 264, 264, 528, 264, 130, 134, 1585, 264, 264, 264, 264, 1319, 529, 792, 529, 264, 4487, 11944, 528, 264, 790, 1695, 679, 1849, 791, 1257, 2440, 793, 2111, 1056, 1915, 1319, 1055, 2320, 583, 2640, 528, 792, 793, 264, 528, 1582, 264, 2112, 264, 528, 265, 264, 528, 792, 264, 264, 663, 3097, 160392, 264, 1056, 264, 1319, 7981, 264, 725, 595, 792, 528, 1319, 528, 264, 264, 188, 340, 327, 201, 264, 264, 264, 264, 2343, 1088, 3169, 7982, 1056, 1056, 189, 75, 527, 264, 266, 1055, 1410, 172, 1848, 528, 792, 792, 264, 742, 49, 264, 264, 1056, 528, 528, 1319, 264, 528, 264, 1584, 264, 3231, 1319, 264, 1585, 1319, 792, 3170, 792, 4224, 791, 3431, 528, 264, 266, 2438, 2639, 4223, 790, 264, 608, 977, 3541, 683, 1320, 792, 2904, 791, 2176, 2903, 264, 4753, 1320, 528, 528, 263, 1320, 1846, 1057, 1320, 791, 264, 264, 528, 15900, 3166, 2902, 793, 1912, 1585, 792, 791, 264, 303, 1017, 263, 529, 1848, 264, 6334, 791, 792, 481, 46, 528, 528, 264, 793, 264, 264, 264, 264, 264, 2176, 264, 791, 792, 528, 528, 528, 263, 46, 218, 792, 527, 264, 264, 263, 528, 709, 82, 264, 1584, 2376, 4488, 2639, 264, 264, 6195, 206, 1056, 264, 35, 2483590, 864, 983, 3167, 1056, 264, 1056, 264, 2110, 264, 793, 333, 1843, 5806, 793, 790, 1321, 3432, 527, 2057, 55, 2112, 6228, 5186, 4539, 123600, 528, 264, 1079, 506, 325, 730, 2112, 746, 46, 528, 526, 264, 264, 528, 528, 792, 1057, 1056, 528, 1056, 2177, 790, 264, 25136, 195903, 3431, 4488, 2377, 792, 528, 67, 2902, 528, 1056, 791, 264, 528, 792, 529, 527, 264, 264, 1055, 1056, 264, 264, 1848, 1847, 527, 2845, 589, 264, 264, 528, 265, 527, 3760, 264, 1381, 203, 264, 1056, 37, 1283, 264, 527, 264, 528, 528, 263, 1056, 264, 529, 263, 1413, 1540, 477, 264, 1319, 792, 263, 793, 263, 1057, 1319, 2177, 264, 264, 530, 525, 264, 264, 1847, 792, 266, 2374, 5805, 1585, 264, 792, 1055, 1321, 1055, 2176, 1319, 528, 1583, 1079, 2356, 261, 1583, 952, 369, 1055, 1321, 1055, 442, 2726, 1055, 4024, 940, 380, 528, 264, 528, 792, 264, 528, 527, 264, 1056, 264, 527, 264, 529, 264, 528, 528, 715, 76, 528, 792, 2375, 5279, 10359, 59585, 8183, 1584, 792, 481, 4271, 2967, 1056, 203, 588, 264, 264, 264, 52397, 3168, 528, 529, 791, 1320, 264, 2176, 1055, 528, 1056, 527, 1847, 109, 155, 264, 1057, 527, 1319, 264, 792, 2640, 264, 791, 2378, 1055, 528, 264, 264, 264, 264, 264, 529, 27, 501, 1061, 1379, 264, 263, 46, 482, 264, 528, 528, 264, 264, 263, 265, 791, 264, 398, 1186, 792, 264, 263, 528, 264, 264, 264, 264, 264, 264, 528, 10, 254, 1304, 16, 264, 264, 263, 793, 529, 791, 681, 111, 529, 264, 1320, 264, 1320, 408, 6256, 263, 264, 528, 264, 1056, 263, 528, 528, 792, 263, 1782, 26275, 527, 1320, 86, 1498, 264, 792, 263, 792, 528, 528, 528, 791, 1056, 1584, 1849, 3332, 98, 528, 264, 264, 264, 529, 261, 264, 528, 266, 790, 1648, 265, 528, 263, 529, 528, 24, 239, 264, 528, 264, 250, 14, 265, 263, 264, 263, 264, 528, 264, 263, 264, 264, 5017, 5014, 2376, 7457, 1054, 18544, 73014, 1565, 67028, 6139, 791, 2641, 41306, 527, 264, 1848, 264, 264, 1056, 1550, 297, 1847, 265, 1056, 264, 531, 2372, 264, 1848, 1321, 790, 558, 1882, 2111, 791, 528, 528, 1055, 1586, 527, 264, 528, 791, 810, 246, 792, 263, 5806, 528, 4815, 792, 3169, 1055, 529, 1319, 264, 528, 264, 1584, 109, 1215, 1051, 1321, 3695, 528, 264, 264, 792, 263, 2176, 531, 790, 49, 2854, 1056, 1321, 265, 527, 409, 383, 263, 528, 1056, 793, 528, 1055, 552, 240, 527, 792, 2640, 528, 528, 1055, 3761, 2639, 265, 6071, 19226, 3008, 3697, 1583, 2638, 7458, 86250, 30478, 6664, 7873, 840, 1055, 528, 266, 261, 638, 418, 528, 263, 264, 84, 1764, 1056, 528, 242, 815, 1055, 264, 263, 2440, 792, 2376, 264, 1056, 3697, 2640, 1583, 529, 265, 789, 528, 2641, 793, 264, 264, 263, 528, 2969, 792, 792, 264, 792, 1057, 390, 138, 3431, 1579, 795, 264, 264, 264, 1054, 1847, 793, 2375, 792, 264, 2704, 528, 791, 2113, 1055, 792, 1405, 179, 8446, 528, 527, 528, 528, 1583, 264, 3233, 1319, 264, 1319, 3696, 527, 2640, 264, 791, 530, 264, 264, 528, 264, 264, 263, 528, 792, 135, 129, 1056, 791, 3232, 1847, 264, 501, 27, 1056, 1583, 792, 1056, 2112, 1319, 5541, 528, 528, 1056, 1320, 4818, 1318, 1320, 1054, 528, 903, 1209, 340, 716, 527, 264, 264, 791, 1056, 528, 989, 2442, 5402, 1002, 1054, 527, 528, 492, 36, 1848, 264, 1056, 264, 1850, 263, 792, 264, 265, 2374, 792, 1584, 2640, 1188, 1251, 528, 264, 528, 1583, 1319, 2111, 528, 792, 1321, 263, 3432, 6335, 5872, 87097, 11477, 19472, 32337, 527, 6600, 2904, 687, 368, 265, 528, 263, 264, 792, 1320, 490, 1094, 4287, 140277, 1320, 2639, 3495, 264, 1056, 793, 770, 20, 2639, 1056, 264, 3960, 5281, 264, 1057, 527, 1056, 527, 1648, 264, 791, 125, 403, 529, 791, 1848, 264, 264, 1056, 264, 264, 792, 2277, 99, 527, 1056, 2640, 1320, 792, 2376, 2704, 792, 528, 162, 1159, 264, 792, 9768, 792, 1056, 1319, 264, 528, 792, 6581, 9058, 5805, 3233, 792, 1056, 1847, 2905, 12142, 263, 528, 2704, 3431, 5015, 1056, 792, 7394, 898, 155, 4096, 458, 5278, 792, 1320, 2639, 2375, 2375, 4289, 1849, 356, 964, 1320, 264, 1583, 1018, 5844, 528, 528, 489, 39, 1056, 248, 1599, 4287, 1056, 263, 792, 792, 7785, 134, 6862, 5610, 1939, 172, 1846, 792, 2905, 14050, 264, 1585, 1641, 7598, 1583, 264, 6399, 5895, 1761, 4223, 1584, 529, 1584, 2112, 1055, 264, 4553, 4072, 6219, 264, 6335, 2968, 264, 792, 1583, 1056, 3789, 435, 528, 1056, 1590, 524, 1319, 528, 1583, 528, 4817, 791, 528, 1055, 4752, 7919, 7722, 2902, 2639, 1585, 2375, 2375, 2377, 1847, 6398, 2639, 1846, 2903, 1056, 2905, 528, 2110, 1056, 5344, 3697, 1318, 1056, 1055, 1848, 2375, 1585, 792, 1849, 1319, 527, 529, 3760, 264, 1318, 1321, 3695, 6336, 528, 791, 264, 3168, 3204, 28, 527, 2903, 1321, 359, 2279, 1583, 1056, 1320, 3432, 1320, 7190, 1056, 264, 3167, 5541, 792, 1430, 2264, 7192, 1585, 791, 1321, 264, 1848, 792, 263, 366, 162, 1303, 17, 1320, 1056, 527, 791, 1848, 4287, 528, 3960, 2640, 1583, 3432, 792, 2904, 527, 2112, 6400, 1848, 264, 1056, 1847, 528, 2639, 5015, 1056, 10623, 1319, 1057, 1318, 264, 528, 264, 528, 264, 264, 264, 1060, 1578, 3696, 1648, 896, 1744, 1584, 5279, 1729, 118, 792, 791, 3696, 791, 10886, 1017, 4791, 3961, 18, 246, 264, 1052, 269, 264, 2968, 264, 527, 265, 9239, 1848, 950, 106, 528, 528, 264, 1322, 263, 792, 522, 5, 1321, 2439, 1055, 264, 791, 1321, 1584, 263, 793, 3167, 277930, 401, 264, 1320, 792, 2114, 261, 2667, 37, 263, 793, 2904, 791, 264, 1319, 792, 264, 264, 264, 792, 1055, 263, 265, 528, 1320, 527, 264, 265, 790, 264, 1138, 181, 265, 263, 5606, 1320, 181, 1668, 1848, 112, 1207, 7920, 3168, 792, 2968, 792, 4884, 132, 3168, 1056, 264, 2112, 1319, 529, 1847, 1056, 792, 1055, 2439, 2640, 264, 1020, 299, 264, 264, 1320, 264, 264, 1847, 621, 171, 528, 792, 264, 1056, 785, 272, 264, 1056, 264, 527, 265, 2112, 528, 1056, 1912, 1154, 693, 793, 264, 528, 34, 494, 1056, 528, 264, 2111, 1584, 528, 264, 1056, 264, 264, 1056, 572, 1277, 528, 264, 5871, 264, 3432, 1361, 3126, 792, 264, 2378, 2373, 264, 337, 1776, 264, 1583, 743, 577, 2705, 1055, 2640, 264, 792, 2375, 3959, 171, 1414, 528, 264, 264, 1055, 263, 792, 528, 47, 1535, 528, 3764, 525, 1056, 421, 899, 528, 264, 3696, 792, 264, 1319, 1320, 264, 3432, 791, 333, 195, 791, 264, 1056, 2177, 793, 1319, 1848, 1319, 1320, 1057, 6336, 263, 1584, 1321, 1057, 527, 264, 3496, 792, 528, 1319, 263, 1250, 70, 264, 1584, 1679, 1225, 326, 730, 531, 525, 1584, 527, 793, 792, 264, 264, 2904, 1648, 1056, 1056, 5015, 1056, 528, 527, 390, 666, 893, 691, 1320, 1578, 5, 527, 528, 496, 296, 528, 792, 264, 1714, 1518, 264, 892, 1747, 264, 2375, 757, 1617, 530, 527, 264, 792, 264, 264, 792, 102, 426, 1133, 714, 792, 2638, 264, 1057, 9831, 5542, 3168, 4223, 2704, 2377, 1320, 82, 1237, 529, 528, 2903, 1056, 1848, 649, 1569, 2270, 264, 264, 528, 263, 792, 1912, 264, 792, 533, 260, 792, 1056, 1581, 1056, 1584, 2347, 3723, 2112, 5609, 264, 1055, 528, 264, 1056, 792, 528, 264, 791, 792, 6336, 5806, 264, 2440, 528, 791, 1850, 487, 568, 1056, 264, 792, 910, 2257, 528, 2353, 21, 264, 3696, 264, 2903, 2176, 1583, 264, 1056, 3697, 2640, 1849, 2374, 264, 264, 527, 1058, 791, 1320, 792, 792, 264, 1912, 367, 1745, 3167, 2113, 792, 933, 650, 528, 264, 527, 1847, 528, 1057, 2111, 792, 435, 94, 1463, 120, 1912, 4487, 264, 1054, 3, 528, 792, 3815, 1198, 1320, 1056, 1055, 2112, 529, 1319, 2176, 264, 791, 3961, 1847, 1056, 1056, 1055, 1848, 264, 528, 1057, 2639, 528, 792, 3233, 263, 3432, 1847, 1320, 528, 528, 264, 528, 264, 2808, 1415, 152, 113, 263, 792, 264, 264, 2903, 556, 500, 264, 3232, 528, 791, 1056, 1056, 1320, 5280, 1055, 528, 264, 791, 528, 1320, 263, 791, 264, 1056, 815, 4264, 264, 264, 1056, 1057, 3167, 1717, 1192, 786, 2110, 2254, 2762, 1320, 1060, 1644, 1041, 1861, 2904, 369, 686, 2375, 1849, 528, 791, 264, 264, 2906, 5341, 1055, 505, 1079, 263, 214, 842, 527, 1056, 1060, 100, 1479, 1583, 264, 791, 793, 527, 1848, 527, 264, 791, 264, 1153, 168, 264, 1056, 528, 3495, 792, 528, 995, 1908, 792, 264, 1056, 792, 2374, 528, 1025, 296, 1258, 1381, 1322, 908, 1556, 4461, 1321, 790, 792, 528, 1847, 1057, 1055, 793, 791, 3123, 572, 264, 1320, 264, 792, 2111, 1648, 856, 992, 1056, 528, 263, 529, 2111, 1321, 1056, 264, 2904, 264, 792, 1056, 784, 9, 527, 528, 263, 264, 264, 264, 264, 528, 528, 1694, 1800, 2639, 1848, 792, 3696, 264, 264, 791, 793, 1056, 1055, 264, 1847, 793, 248, 278, 264, 1055, 265, 1055, 2176, 528, 1055, 1584, 1847, 1320, 264, 1321, 1584, 264, 1056, 266, 1053, 169, 696, 718, 1585, 264, 263, 264, 1848, 264, 3231, 792, 264, 1056, 264, 264, 792, 1056, 791, 1321, 1543, 570, 792, 1055, 264, 3693, 792, 791, 1056, 4289, 792, 1320, 792, 1319, 1848, 1321, 264, 264, 527, 1526, 1906, 1674, 700, 3430, 264, 771, 21, 3496, 2110, 1056, 1583, 264, 792, 1055, 528, 2640, 950, 370, 3695, 1320, 2112, 6663, 528, 1881, 1023, 528, 15, 776, 2639, 528, 1319, 793, 1319, 528, 1056, 792, 1055, 2969, 528, 264, 1848, 792, 792, 528, 264, 528, 2111, 296, 497, 527, 528, 528, 3696, 791, 265, 1847, 1627, 2688, 503, 794, 261, 792, 3431, 8449, 4751, 1913, 2376, 1320, 792, 264, 1319, 1060, 1052, 528, 527, 373, 419, 264, 791, 81, 1503, 529, 528, 3432, 792, 264, 3232, 264, 1056, 527, 870, 186, 265, 527, 1583, 264, 766, 26, 264, 264, 1057, 527, 1057, 263, 794, 263, 1056, 1160, 424, 264, 264, 263, 1056, 264, 264, 791, 265, 792, 264, 264, 1057, 528, 1648, 2904, 125, 139, 264, 528, 792, 1056, 1320, 1320, 2112, 264, 528, 427, 628, 528, 403, 654, 1056, 791, 528, 527, 528, 1056, 14, 250, 264, 264, 264, 3231, 2112, 1319, 264, 264, 528, 1056, 529, 528, 2100, 1330, 264, 792, 528, 528, 146, 381, 1055, 528, 528, 528, 792, 154, 110, 264, 800, 784, 1912, 264, 791, 528, 264, 529, 1583, 264, 263, 645, 411, 528, 619, 173, 531, 261, 527, 264, 1056, 2111, 264, 1320, 264, 528, 1320, 1585, 264, 264, 1583, 25, 239, 264, 1914, 789, 264, 1057, 1321, 263, 264, 264, 264, 528, 404, 389, 1319, 264, 265, 790, 266, 262, 792, 264, 528, 264, 1584, 528, 264, 528, 1057, 264, 697, 359, 792, 264, 264, 264, 264, 1056, 793, 1912, 264, 792, 793, 1056, 264, 794, 262, 264, 265, 1582, 1322, 791, 265, 264, 263, 1411, 437, 1132, 190, 262, 264, 264, 528, 792, 792, 792, 264, 791, 207, 321, 528, 263, 528, 2441, 264, 791, 264, 264, 264, 528, 264, 251, 541, 264, 528, 264, 528, 792, 1057, 488, 40, 528, 1056, 792, 264, 2902, 793, 792, 1057, 264, 1584, 246, 282, 264, 1056, 2440, 264, 1320, 528, 527, 1056, 264, 265, 1128, 191, 266, 526, 1320, 264, 263, 49, 712, 559, 2113, 264, 670, 2233, 264, 1583, 1064, 256, 264, 792, 2931, 37, 1320, 264, 264, 1319, 1055, 1585, 264, 263, 792, 264, 1308, 12, 1585, 528, 264, 528, 792, 528, 2111, 1056, 792, 263, 4024, 529, 1055, 528, 791, 264, 528, 264, 792, 792, 115, 1562, 434, 1320, 380, 412, 1583, 792, 793, 528, 264, 793, 264, 264, 931, 1181, 530, 1054, 2440, 791, 528, 415, 888, 17, 791, 1849, 263, 264, 1056, 528, 791, 528, 528, 528, 528, 264, 1321, 792, 263, 265, 528, 792, 528, 263, 2377, 263, 2967, 1847, 264, 792, 528, 528, 1322, 527, 2901, 1057, 264, 264, 264, 527, 792, 1840, 1063, 263, 264, 528, 264, 264, 942, 115, 1055, 394, 134, 791, 1912, 1056, 1588, 260, 264, 264, 264, 263, 1057, 264, 529, 791, 1320, 264, 528, 264, 792, 263, 264, 264, 791, 1056, 267, 261, 794, 263, 264, 527, 512, 808, 1320, 264, 529, 527, 264, 3760, 793, 794, 526, 528, 264, 264, 264, 1055, 529, 264, 248, 16, 264, 264, 1584, 264, 1208, 111, 1583, 264, 1320, 751, 1097, 263, 1056, 265, 264, 528, 264, 529, 528, 264, 1648, 264, 264, 1583, 264, 1320, 264, 264, 1319, 792, 793, 266, 525, 264, 528, 264, 1320, 264, 527, 1468, 381, 792, 264, 1320, 790, 529, 1080, 504, 264, 791, 528, 1913, 528, 529, 1848, 527, 416, 111, 529, 265, 790, 528, 529, 264, 577, 214, 792, 529, 263, 264, 529, 262, 792, 264, 529, 792, 263, 1319, 792, 1321, 263, 263, 4817, 1849, 263, 264, 792, 1320, 528, 527, 263, 1056, 264, 793, 265, 791, 1583, 792, 528, 264, 527, 264, 792, 791, 528, 1055, 528, 264, 838, 1571, 1613, 264, 792, 264, 264, 1055, 792, 1200, 384, 1319, 265, 528, 791, 264, 528, 528, 1055, 529, 264, 1056, 1584, 1215, 105, 528, 791, 264, 265, 264, 791, 264, 528, 264, 54, 738, 1648, 528, 792, 9, 256, 792, 266, 262, 2111, 1320, 264, 264, 2905, 527, 264, 265, 528, 265, 36, 1810, 527, 265, 994, 326, 264, 792, 792, 527, 264, 792, 264, 2442, 527, 1320, 56, 208, 528, 791, 1584, 264, 265, 263, 792, 1056, 2377, 527, 532, 596, 985, 591, 728, 527, 265, 527, 1584, 264, 528, 264, 528, 264, 528, 1911, 264, 792, 265, 790, 1583, 1849, 792, 792, 263, 2377, 527, 1584, 1056, 528, 1847, 1056, 264, 791, 528, 528, 264, 182, 874, 1912, 264, 792, 528, 793, 263, 1056, 449, 78, 528, 294, 761, 265, 528, 792, 791, 2015, 1153, 791, 264, 264, 1321, 264, 1584, 1583, 791, 528, 199, 329, 1912, 528, 528, 1056, 528, 264, 791, 529, 263, 264, 264, 529, 1584, 23, 504, 1056, 264, 528, 1056, 264, 1585, 792, 264, 884, 1227, 1584, 1056, 264, 1319, 1649, 1319, 2640, 264, 264, 264, 3695, 264, 792, 264, 264, 264, 1847, 264, 792, 528, 791, 528, 1057, 264, 1382, 466, 792, 264, 527, 2176, 1321, 264, 1055, 969, 87, 1320, 264, 528, 528, 792, 264, 264, 1057, 1320, 264, 264, 264, 528, 263, 528, 1055, 792, 264, 1319, 1056, 528, 346, 1238, 2706, 529, 1319, 528, 791, 744, 1368, 264, 528, 792, 642, 413, 264, 792, 528, 264, 528, 1586, 1056, 265, 527, 507, 21, 263, 1058, 264, 528, 264, 264, 791, 154, 110, 793, 2440, 792, 113, 151, 793, 792, 792, 1075, 244, 796, 261, 527, 528, 270, 786, 264, 264, 264, 264, 527, 264, 264, 1056, 528, 1056, 263, 529, 308, 1013, 528, 1057, 1320, 738, 581, 528, 478, 1171, 528, 791, 792, 264, 264, 264, 1058, 263, 528, 528, 528, 1850, 263, 271, 520, 528, 1009, 311, 792, 264, 264, 1057, 527, 264, 264, 792, 529, 527, 793, 264, 75, 716, 1429, 156, 265, 263, 1912, 791, 792, 264, 1056, 791, 264, 264, 264, 793, 1319, 529, 792, 791, 264, 264, 264, 1119, 994, 237, 1611, 263, 528, 266, 526, 2112, 1056, 527, 528, 2968, 528, 264, 528, 264, 1020, 1620, 264, 264, 791, 636, 155, 1056, 264, 83, 180, 264, 528, 265, 527, 1320, 1056, 528, 263, 264, 1320, 264, 792, 529, 528, 264, 264, 792, 264, 264, 263, 264, 2440, 266, 525, 793, 528, 265, 790, 1321, 264, 264, 1057, 264, 1056, 791, 113, 150, 264, 528, 528, 264, 264, 264, 1847, 72, 192, 767, 25, 791, 264, 528, 791, 264, 1057, 264, 264, 528, 791, 1649, 792, 792, 2375, 265, 263, 264, 263, 528, 1056, 791, 528, 265, 526, 627, 429, 264, 791, 76, 452, 528, 265, 791, 264, 1320, 1056, 264, 265, 790, 264, 791, 264, 529, 263, 529, 264, 1911, 1056, 264, 528, 313, 215, 791, 1848, 792, 529, 1056, 528, 264, 264, 1320, 263, 264, 792, 264, 528, 264, 264, 263, 265, 527, 1320, 528, 1056, 264, 264, 529, 528, 528, 263, 918, 1522, 265, 264, 264, 1848, 87, 177, 263, 792, 264, 528, 792, 1056, 264, 1320, 264, 264, 264, 264, 527, 264, 264, 264, 1056, 264, 791, 264, 528, 791, 528, 793, 1042, 278, 791, 266, 262, 264, 264, 528, 263, 264, 1649, 1055, 264, 265, 527, 1583, 792, 54, 473, 793, 527, 264, 528, 263, 264, 530, 263, 1254, 858, 264, 529, 265, 526, 528, 626, 166, 1390, 458, 263, 529, 528, 527, 265, 264, 791, 264, 264, 3231, 792, 790, 264, 264, 793, 263, 793, 1584, 42, 1014, 263, 1056, 264, 264, 728, 855, 265, 529, 263, 1847, 264, 1057, 264, 1055, 264, 528, 527, 1056, 528, 528, 1912, 2377, 791, 3217, 214, 792, 527, 264, 1320, 1056, 980, 75, 528, 528, 263, 265, 791, 528, 609, 976, 1319, 264, 264, 528, 264, 263, 4553, 1320, 1319, 1056, 862, 457, 1585, 1056, 793, 264, 1009, 310, 1321, 264, 263, 264, 266, 902, 151, 265, 791, 264, 1584, 528, 2968, 793, 791, 264, 264, 1056, 264, 264, 792, 1055, 264, 622, 170, 264, 1320, 264, 527, 1321, 1847, 1848, 527, 792, 794, 527, 264, 792, 3232, 792, 528, 528, 264, 264, 791, 1056, 994, 326, 264, 791, 1057, 264, 2111, 337, 722, 261, 264, 263, 264, 1056, 756, 301, 264, 792, 527, 529, 1207, 642, 792, 127, 137, 2440, 264, 1320, 81, 447, 264, 264, 2377, 791, 528, 264, 264, 792, 264, 944, 376, 264, 528, 263, 264, 264, 264, 528, 528, 793, 264, 264, 563, 493, 1056, 264, 1847, 263, 264, 2705, 264, 1056, 1055, 264, 264, 264, 528, 527, 1057, 792, 267, 1052, 250, 14, 1321, 1055, 264, 938, 118, 1320, 263, 793, 264, 528, 791, 1056, 27, 501, 264, 528, 264, 1320, 264, 1912, 529, 527, 791, 791, 125, 931, 529, 99, 2207, 67, 528, 782, 273, 1056, 263, 264, 264, 1056, 391, 1569, 679, 529, 263, 264, 264, 1057, 527, 5, 1050, 264, 242, 1077, 264, 1913, 1056, 527, 264, 264, 1056, 1321, 1056, 791, 529, 527, 792, 264, 1056, 1584, 264, 1849, 133, 394, 528, 264, 370, 1216, 526, 1057, 528, 264, 1055, 264, 1648, 264, 530, 526, 264, 264, 1320, 527, 1319, 264, 528, 264, 264, 93, 699, 528, 528, 423, 371, 1049, 5, 264, 528, 528, 25841, 1055, 863, 721, 264, 264, 264, 264, 527, 528, 1320, 992, 327, 3241, 1508, 793, 530, 261, 267, 525, 265, 264, 747, 307, 792, 264, 792, 264, 263, 888, 167, 1914, 527, 1057, 529, 81, 2293, 529, 1055, 263, 1321, 2374, 264, 1320, 122, 671, 1057, 267, 260, 264, 528, 527, 1056, 264, 791, 264, 264, 528, 529, 264, 527, 2440, 264, 264, 528, 792, 540, 2364, 1056, 1319, 264, 528, 446, 346, 1586, 265, 525, 792, 1056, 594, 201, 525, 528, 264, 264, 528, 264, 264, 528, 1057, 265, 527, 2177, 469, 850, 528, 528, 527, 1056, 92, 437, 528, 264, 528, 529, 1056, 931, 1446, 262, 264, 792, 1061, 260, 1056, 791, 792, 528, 792, 527, 264, 1320, 2969, 527, 264, 530, 527, 794, 526, 264, 1055, 1056, 264, 117, 147, 528, 528, 264, 792, 1325, 522, 1035, 549, 527, 264, 264, 792, 528, 1585, 261, 370, 422, 264, 528, 1016, 40, 262, 2440, 528, 746, 309, 793, 481, 310, 1320, 264, 264, 1583, 792, 528, 62, 1258, 1585, 1056, 528, 263, 1320, 264, 265, 1054, 1321, 527, 264, 791, 265, 263, 3497, 1847, 792, 528, 1055, 2904, 263, 528, 264, 793, 264, 264, 1304, 16, 263, 1583, 264, 528, 793, 262, 528, 1848, 606, 185, 530, 527, 1650, 262, 264, 1585, 264, 1018, 565, 1586, 265, 1317, 791, 627, 956, 264, 1056, 267, 260, 264, 528, 1538, 574, 263, 264, 264, 264, 264, 264, 528, 1584, 527, 366, 690, 265, 1647, 264, 792, 264, 264, 791, 528, 527, 264, 529, 262, 1584, 264, 264, 264, 264, 1056, 264, 791, 264, 528, 316, 476, 264, 264, 264, 528, 1056, 750, 306, 264, 983, 72, 528, 528, 264, 1056, 527, 2970, 528, 264, 228, 564, 307, 220, 1056, 264, 264, 264, 1055, 464, 1556, 884, 264, 264, 264, 264, 1057, 791, 1847, 264, 1584, 527, 736, 56, 527, 792, 1584, 262, 792, 416, 1496, 1056, 1056, 264, 528, 535, 256, 264, 529, 265, 529, 264, 528, 264, 528, 194, 71, 263, 792, 264, 791, 1056, 792, 792, 329, 464, 263, 1319, 793, 265, 488, 566, 792, 528, 264, 264, 528, 792, 1912, 793, 528, 1766, 610, 263, 264, 527, 528, 528, 270, 257, 264, 736, 1640, 264, 264, 264, 267, 260, 528, 1055, 597, 196, 795, 261, 264, 529, 791, 3169, 264, 264, 527, 2705, 527, 264, 264, 792, 527, 795, 262, 792, 265, 1320, 264, 1054, 1056, 215, 49, 264, 793, 264, 264, 264, 528, 265, 527, 1056, 528, 263, 265, 527, 528, 529, 1847, 528, 527, 265, 231, 1683, 261, 792, 264, 793, 264, 264, 1319, 264, 528, 264, 791, 264, 81, 1767, 265, 263, 264, 2377, 226, 38, 264, 791, 792, 528, 264, 264, 792, 792, 629, 163, 264, 263, 528, 528, 468, 589, 528, 267, 3230, 528, 528, 264, 264, 1320, 264, 528, 264, 527, 132, 1189, 528, 792, 264, 263, 264, 792, 264, 792, 2, 1053, 264, 1056, 527, 792, 528, 1320, 528, 793, 263, 264, 3760, 528, 264, 1042, 542, 1583, 1584, 264, 264, 908, 411, 265, 264, 3170, 1316, 264, 792, 264, 264, 792, 264, 528, 791, 1056, 791, 264, 1648, 528, 528, 528, 1055, 264, 507, 286, 264, 1055, 264, 527, 528, 264, 528, 792, 527, 104, 425, 1056, 92, 700, 792, 264, 1056, 530, 260, 2, 264, 264, 528, 791, 264, 529, 528, 2375, 2176, 264, 264, 1584, 1057, 264, 1582, 792, 264, 1319, 1056, 2111, 5541, 1320, 2112, 2273, 1750, 4969, 2421, 3433, 264, 264, 528, 384, 145, 263, 264, 528, 250, 14, 264, 264, 264, 264, 264, 528, 263, 264, 264, 264, 265, 411, 116, 1912, 264, 265, 263, 528, 264, 793, 1402, 182, 264, 264, 1847, 1849, 264, 264, 1055, 265, 1057, 264, 264, 528, 264, 264, 264, 264, 265, 264, 264, 264, 264, 264, 264, 528, 528, 49, 215, 264, 527, 264, 265, 263, 1321, 262, 2440, 264, 264, 264, 264, 932, 123, 527, 1583, 264, 1055, 3431, 8445, 3, 525, 263, 792, 307674, 4797, 1009, 1584, 530, 790, 792, 264, 193, 335, 528, 528, 5567, 569, 1320, 264, 263, 265, 263, 528, 264, 733, 586, 530, 528, 528, 264, 264, 528, 528, 527, 792, 89, 1495, 62, 202, 264, 264, 528, 265, 263, 263, 264, 264, 264, 528, 223, 41, 264, 1056, 264, 264, 264, 264, 263, 910, 146, 264, 1650, 1056, 528, 528, 79, 183, 264, 528, 265, 527, 264, 528, 792, 527, 1056, 199, 593, 791, 263, 264, 529, 265, 1055, 1321, 264, 264, 528, 792, 263, 1057, 528, 264, 264, 528, 264, 264, 792, 528, 263, 528, 2175, 264, 264, 264, 264, 264, 620, 436, 792, 528, 264, 1320, 263, 264, 264, 264, 264, 527, 529, 529, 264, 204, 324, 527, 528, 264, 529, 264, 264, 264, 527, 264, 264, 528, 612, 180, 791, 264, 264, 718, 74, 1320, 264, 264, 264, 528, 264, 264, 1913, 264, 198, 66, 1056, 3959, 1584, 527, 791, 792, 528, 2640, 2111, 264, 2111, 1057, 263, 792, 3233, 1320, 527, 1056, 263, 528, 528, 6070, 2905, 2903, 527, 528, 793, 264, 528, 2440, 528, 1056, 2376, 7127, 528, 528, 527, 264, 793, 2231, 145, 263, 264, 264, 793, 527, 264, 264, 264, 1912, 264, 1848, 762, 558, 264, 264, 792, 528, 1847, 528, 264, 264, 264, 791, 264, 792, 263, 264, 2110, 219, 309, 1319, 264, 264, 264, 1584, 528, 528, 264, 793, 264, 1649, 264, 528, 2595, 571, 528, 264, 206, 58, 264, 264, 528, 263, 264, 528, 264, 264, 1320, 529, 1056, 1055, 264, 528, 17, 1568, 527, 264, 528, 529, 264, 528, 264, 420, 108, 528, 528, 393, 399, 3231, 264, 792, 1320, 1585, 528, 792, 1055, 528, 932, 388, 792, 265, 1846, 1848, 263, 264, 529, 1847, 2255, 649, 2704, 7655, 13259, 528, 528, 625, 2279, 264, 527, 1056, 792, 23295, 1320, 3431, 263, 1056, 13001, 7127, 528, 2639, 264, 1321, 4024, 529, 4619, 1713, 1848, 1055, 125750, 527, 264, 528, 528, 528, 2111, 264, 1583, 264, 264, 264, 1055, 528, 1057, 528, 264, 264, 528, 528, 1648, 527, 265, 263, 528, 263, 264, 2112, 3317, 643, 923, 661, 528, 264, 267, 790, 264, 3167, 1321, 264, 1056, 527, 1055, 528, 4551, 264, 10029, 528, 1055, 528, 3960, 134267, 2640, 1055, 73, 191, 792, 2641, 1556, 1348, 2375, 264, 264, 882, 1495, 263, 2441, 1319, 1055, 1057, 214, 842, 3167, 792, 1056, 529, 264, 1056, 528, 792, 791, 528, 264, 1319, 264, 1735, 1169, 264, 529, 2176, 527, 2112, 6069, 1320, 263, 1848, 1849, 18544, 3167, 1583, 1056, 527, 16695, 264, 264, 528, 1167, 945, 3167, 16169, 1053, 151700, 264, 264, 1320, 3494, 1057, 527, 528, 264, 2112, 263, 264, 580, 477, 792, 290, 501, 265, 527, 264, 263, 265, 527, 265, 709, 874, 792, 263, 1320, 3168, 3496, 529, 263, 264, 264, 528, 264, 264, 694, 98, 528, 264, 528, 264, 264, 264, 793, 263, 1056, 39, 753, 45, 482, 264, 5543, 264, 264, 4223, 4288, 16668, 2927, 1584, 264, 143852, 2904, 3959, 792, 1847, 528, 528, 1056, 791, 792, 264, 1848, 792, 1583, 792, 528, 46, 2130, 265, 528, 264, 793, 528, 527, 264, 197, 67, 1055, 1319, 264, 792, 89, 3343, 1846, 2376, 528, 630, 2536, 4288, 1056, 2376, 527, 2207, 11885, 5242, 529, 10819, 65390, 263, 6133, 264, 264, 528, 264, 528, 528, 793, 61, 201, 816, 1299, 264, 263, 3167, 792, 528, 264, 1055, 1055, 74, 190, 1357, 491, 791, 264, 1319, 4024, 528, 264, 137, 126, 528, 264, 793, 528, 1320, 39, 10294, 12695, 3883, 1396, 165, 890, 6070, 5873, 21972, 6070, 264, 101412, 1056, 528, 2639, 3167, 264, 1320, 264, 791, 269, 245, 15, 262, 265, 526, 1320, 264, 264, 528, 263, 792, 633, 1279, 1056, 792, 264, 1321, 792, 791, 1056, 793, 264, 263, 2641, 264, 1055, 7546, 108, 2440, 527, 1056, 100, 1220, 264, 1320, 1168, 1196, 1597, 264, 264, 2112, 528, 528, 792, 263, 265, 791, 264, 528, 528, 264, 791, 525, 3, 793, 264, 529, 262, 264, 2175, 264, 793, 529, 393, 134, 264, 1173, 1203, 528, 263, 265, 263, 264, 264, 528, 3, 261, 264, 1055, 792, 264, 527, 264, 528, 264, 792, 130, 134, 791, 629, 427, 265, 528, 263, 264, 1586, 789, 1585, 4022, 793, 792, 1319, 264, 88, 440, 263, 264, 264, 1056, 3, 525, 767, 290, 527, 264, 1056, 263, 265, 264, 263, 529, 264, 792, 264, 121, 671, 1319, 1584, 12, 1571, 264, 2176, 229, 35, 264, 263, 1057, 1056, 916, 140, 528, 527, 264, 264, 265, 263, 265, 263, 1323, 262, 791, 2, 262, 1055, 235, 1350, 1055, 527, 654, 402, 791, 264, 94, 170, 792, 528, 264, 792, 265, 527, 258, 6, 2672, 31, 1321, 208, 319, 793, 264, 792, 265, 264, 910, 1201, 263, 102, 1219, 1055, 1847, 528, 2519, 385, 1056, 118, 3049, 2176, 264, 1319, 792, 224, 40, 264, 527, 264, 1056, 264, 265, 264, 791, 2376, 264, 2374, 3696, 528, 264, 1584, 263, 264, 264, 3497, 264, 2374, 1056, 264, 1583, 528, 528, 1319, 792, 264, 329, 1255, 264, 264, 264, 527, 793, 12047, 2801, 528, 263, 264, 1320, 1321, 264, 792, 1319, 3696, 264, 264, 264, 264, 528, 264, 529, 264, 264, 2440, 528, 1320, 5543, 2113, 2903, 6866, 2440, 264, 1584, 3697, 6600, 791, 1319, 2111, 528, 527, 529, 264, 264, 264, 264, 264, 263, 2440, 2375, 2113, 264, 264, 264, 1122, 198, 264, 16962, 1319, 155384, 264, 2639, 527, 529, 263, 527, 528, 528, 264, 792, 528, 264, 527, 264, 264, 1319, 1913, 264, 527, 265, 688, 104, 528, 792, 1057, 5545, 793, 4488, 646, 146, 263, 791, 265, 87, 176, 264, 264, 264, 793, 264, 264, 1915, 260, 264, 264, 264, 528, 792, 264, 791, 187, 342, 264, 1318, 1056, 2110, 264, 792, 264, 264, 264, 264, 528, 264, 264, 2024, 88, 1055, 792, 264, 264, 1583, 528, 528, 528, 1912, 264, 25, 239, 1056, 792, 264, 264, 264, 713, 78, 530, 527, 792, 1056, 264, 264, 264, 264, 264, 264, 528, 65, 1552, 494, 1056, 264, 264, 264, 264, 1005, 52, 792, 264, 264, 528, 527, 264, 264, 265, 529, 264, 264, 889, 166, 5873, 528, 3432, 1582, 24086, 264, 38670, 9503, 1319, 3744, 6350, 528, 13789, 792, 15836, 14057, 1584, 529, 264, 264, 1848, 264, 14843, 10030, 3495, 264, 116, 1204, 14518, 5871, 48170, 792, 203020, 1848, 3231, 528, 2374, 264, 166, 98, 528, 528, 528, 528, 263, 792, 264, 528, 528, 264, 792, 792, 3249, 1766, 264, 264, 263, 528, 528, 528, 792, 528, 2970, 1583, 528, 528, 528, 3695, 527, 1320, 264, 1319, 528, 265, 528, 264, 263, 265, 264, 264, 361, 694, 855, 200, 1583, 264, 264, 264, 264, 1055, 264, 978, 934, 264, 264, 528, 792, 792, 792, 529, 264, 9768, 791, 793, 1319, 264, 1320, 264, 264, 264, 527, 2969, 2638, 793, 2446, 985, 1056, 4223, 27513, 21178, 8247, 10028, 9571, 8726, 246, 3695, 264, 5078, 264, 528, 1848, 792, 2904, 1584, 2376, 8184, 85779, 10887, 28309, 791, 264, 10625, 1319, 3168, 1319, 792, 264, 264, 1056, 263, 1056, 1584, 77332, 5807, 4752, 91651, 1847, 4351, 30491, 19596, 6596, 792, 263, 3694, 17998, 2124, 7655, 2968, 1319, 4752, 10823, 5609, 527, 2903, 528, 3694, 264, 529, 264, 264, 527, 261, 3, 264, 264, 528, 264, 264, 528, 265, 526, 687, 106, 264, 264, 527, 264, 134, 130, 528, 264, 264, 264, 2110, 16, 1633, 264, 264, 264, 792, 793, 264, 1319, 1849, 526, 266, 261, 528, 792, 528, 264, 264, 528, 264, 264, 264, 264, 1056, 528, 528, 264, 264, 528, 527, 1319, 527, 129, 928, 528, 790, 264, 264, 528, 1649, 264, 263, 264, 264, 264, 264, 263, 264, 264, 491, 37, 264, 264, 529, 462, 328, 1584, 1584, 99, 958, 528, 82, 446, 1847, 2112, 263, 264, 264, 528, 264, 264, 1055, 264, 793, 264, 264, 264, 791, 1914, 528, 263, 264, 792, 527, 1320, 792, 226, 38, 264, 264, 264, 793, 264, 1320, 410, 384, 789, 528, 264, 264, 264, 264, 2902, 1584, 1056, 1847, 1320, 2968, 528, 264, 792, 264, 1056, 765, 290, 1272, 2426, 16959, 11108, 44976, 16699, 263, 264, 1056, 21656, 2696, 1317, 264, 865, 3188, 1027, 264, 792, 2572, 4027, 264, 863, 985, 528, 45, 219, 264, 263, 528, 264, 264, 264, 528, 264, 528, 528, 264, 1055, 528, 796, 2699, 528, 264, 528, 264, 1055, 1068, 253, 3961, 263, 528, 528, 264, 264, 264, 264, 619, 173, 264, 264, 528, 264, 64, 200, 264, 527, 264, 264, 527, 264, 264, 264, 264, 484, 44, 1056, 264, 192, 71, 264, 264, 264, 264, 264, 1648, 264, 792, 1584, 264, 5016, 3430, 264, 264, 264, 793, 2164, 211, 528, 529, 263, 263, 528, 264, 792, 264, 264, 264, 264, 264, 1648, 528, 529, 264, 265, 263, 264, 528, 264, 264, 263, 528, 264, 264, 527, 264, 264, 528, 264, 264, 32, 232, 528, 264, 264, 264, 792, 264, 264, 528, 194, 334, 264, 264, 529, 264, 263, 264, 264, 264, 263, 621, 172, 263, 265, 527, 264, 67, 197, 264, 791, 264, 529, 264, 263, 264, 264, 529, 528, 1002, 911, 264, 527, 792, 189, 76, 263, 264, 528, 264, 527, 529, 792, 527, 264, 1113, 206, 264, 265, 263, 264, 264, 793, 264, 264, 264, 485, 306, 264, 792, 194, 70, 264, 264, 264, 264, 264, 527, 793, 901, 156, 264, 528, 528, 528, 265, 263, 263, 528, 792, 300, 1348, 264, 264, 264, 263, 264, 265, 475, 53, 1058, 449, 605, 264, 264, 263, 265, 264, 264, 264, 264, 263, 528, 84, 180, 264, 528, 263, 264, 62, 466, 529, 264, 264, 264, 264, 264, 264, 792, 228, 299, 264, 264, 264, 264, 263, 264, 529, 264, 264, 264, 528, 264, 792, 792, 264, 264, 264, 528, 264, 264, 1648, 531, 260, 264, 265, 263, 264, 264, 264, 264, 264, 792, 209, 320, 264, 263, 264, 264, 264, 264, 264, 264, 264, 264, 264, 377, 151, 264, 263, 528, 264, 87, 177, 528, 528, 264, 528, 528, 528, 528, 264, 792, 264, 226, 37, 264, 264, 264, 264, 528, 264, 528, 528, 651, 141, 264, 527, 264, 367, 424, 1913, 264, 66, 198, 264, 528, 264, 264, 528, 264, 528, 264, 498, 296, 790, 526, 264, 527, 264, 264, 264, 791, 264, 1057, 1055, 1057, 264, 528, 527, 1320, 528, 529, 263, 264, 1319, 901, 154, 1320, 1913, 1847, 2111, 8447, 26987, 6664, 2376, 528, 264, 264, 264, 264, 264, 528, 210, 319, 264, 264, 264, 263, 264, 264, 264, 264, 264, 264, 264, 381, 147, 264, 1056, 92, 172, 264, 264, 263, 264, 528, 528, 528, 263, 529, 263, 264, 528, 487, 41, 264, 264, 528, 264, 2442, 264, 264, 263, 264, 528, 264, 3431, 264, 264, 264, 264, 264, 263, 794, 1319, 222, 2681, 2470, 1753, 2113, 2703, 1270, 51, 1585, 791, 529, 527, 264, 1057, 22082, 1210, 2903, 2639, 179272, 1585, 207, 2960, 1848, 791, 265, 1319, 2111, 527, 479, 843, 791, 528, 527, 264, 528, 264, 264, 1145, 438, 793, 264, 264, 406, 2297, 1847, 3959, 2376, 265, 82, 5459, 1319, 528, 264, 33391, 6597, 134205, 2968, 264, 793, 792, 263, 793, 263, 264, 264, 1057, 1057, 873, 446, 528, 1584, 791, 264, 264, 263, 1848, 528, 1319, 264, 264, 791, 1058, 82, 182, 528, 263, 264, 264, 264, 264, 264, 1648, 1319, 264, 264, 1056, 1056, 2376, 1321, 2903, 528, 1550, 1353, 264, 527, 792, 264, 528, 8247, 1056, 264, 264, 791, 180, 84, 264, 528, 53715, 1847, 3232, 264, 7390, 1056, 1583, 1057, 1321, 264, 1320, 530, 526, 792, 791, 264, 264, 3496, 264, 791, 2111, 1319, 264, 264, 1320, 528, 2376, 528, 264, 1056, 528, 263, 265, 793, 1583, 101, 692, 792, 2119, 520, 2178, 264, 1057, 792, 528, 791, 264, 528, 264, 1056, 1847, 264, 264, 264, 792, 264, 791, 1056, 264, 264, 528, 264, 263, 3167, 1319, 264, 4287, 1319, 226, 565, 3167, 264, 792, 528, 264, 793, 1583, 782, 538, 1019, 301, 264, 1321, 5577, 229, 2440, 2639, 532, 1315, 264, 527, 264, 1320, 1128, 719, 2906, 528, 264, 264, 1320, 1583, 1848, 1319, 1913, 1848, 527, 1558, 818, 1847, 528, 792, 2904, 264, 527, 264, 1056, 4223, 660, 1558, 158, 3233, 264, 264, 790, 1056, 2112, 793, 263, 528, 527, 1847, 1133, 450, 264, 792, 264, 2113, 527, 792, 1321, 680, 376, 792, 528, 3495, 1320, 264, 1056, 1319, 230, 34, 792, 527, 4223, 265, 527, 264, 265, 263, 264, 528, 786, 1060, 1583, 4816, 528, 1583, 1057, 528, 2904, 1056, 527, 1585, 1847, 265, 353, 439, 792, 1583, 1583, 792, 3232, 527, 528, 1320, 1848, 319, 3639, 1319, 1055, 2712, 1513, 263, 3167, 791, 2970, 1847, 2377, 264, 1583, 264, 1558, 26, 2640, 792, 1585, 264, 1056, 793, 264, 792, 792, 88, 176, 263, 528, 270, 258, 266, 4286, 791, 1320, 1848, 527, 89, 440, 264, 264, 2376, 528, 1847, 1472, 1434, 261, 528, 528, 528, 528, 264, 3497, 401, 391, 264, 775, 16, 264, 264, 2641, 1056, 1055, 2376, 1583, 792, 1320, 1056, 528, 264, 688, 1424, 527, 1848, 1912, 2112, 8, 1048, 528, 1055, 1318, 264, 264, 1847, 357, 963, 2376, 528, 528, 263, 1055, 528, 528, 528, 2111, 263, 529, 264, 529, 1914, 1583, 792, 263, 206, 58, 1056, 792, 527, 1321, 1320, 908, 1731, 1055, 801, 5271, 265, 263, 263, 264, 264, 528, 2440, 264, 264, 1056, 527, 264, 1319, 1320, 264, 263, 264, 265, 263, 264, 264, 792, 263, 1056, 1847, 528, 2358, 282, 264, 1319, 528, 2375, 528, 3496, 264, 528, 791, 2640, 263, 264, 792, 264, 264, 263, 528, 264, 1055, 791, 329, 4685, 529, 2375, 264, 263, 2177, 1846, 810, 1038, 791, 264, 1507, 1660, 264, 1056, 264, 1319, 528, 4222, 1585, 1057, 262, 4288, 1055, 529, 1848, 264, 263, 264, 528, 527, 264, 3169, 792, 3430, 264, 264, 1320, 264, 450, 605, 527, 419, 109, 264, 264, 792, 3760, 264, 527, 792, 2111, 527, 5805, 264, 1584, 1321, 264, 528, 264, 2111, 140, 124, 1055, 2968, 87, 970, 528, 1056, 264, 264, 521, 534, 1055, 1848, 264, 528, 792, 264, 1319, 528, 528, 3166, 1583, 792, 3499, 2977, 2299, 529, 1848, 791, 528, 264, 1055, 1322, 262, 1056, 264, 4752, 528, 263, 528, 2179, 527, 264, 264, 654, 1549, 700, 792, 1583, 528, 1849, 264, 791, 792, 527, 2473, 430, 529, 528, 793, 1582, 264, 791, 3496, 792, 791, 1320, 528, 527, 605, 451, 264, 1849, 2375, 1846, 528, 264, 791, 528, 264, 1584, 1582, 530, 3687, 73, 262, 1319, 528, 264, 528, 792, 263, 334, 458, 317, 475, 3168, 1319, 1848, 264, 529, 1584, 1584, 2112, 792, 528, 1914, 495, 560, 990, 329, 264, 264, 792, 3960, 791, 2335, 40, 264, 264, 528, 264, 264, 1961, 1205, 793, 528, 2639, 3499, 2111, 527, 1848, 1584, 527, 264, 528, 791, 1848, 1056, 528, 1319, 527, 264, 264, 792, 264, 1057, 1848, 2968, 528, 264, 3434, 792, 1055, 1584, 1055, 1056, 707, 1140, 262, 531, 1055, 1319, 264, 528, 264, 1179, 141, 264, 2705, 1056, 1054, 1584, 1584, 264, 792, 264, 1056, 1847, 370, 157, 264, 264, 264, 1056, 528, 2377, 247, 281, 264, 263, 792, 528, 1585, 792, 1912, 1422, 426, 527, 792, 792, 1048, 1591, 527, 792, 2233, 1199, 264, 528, 264, 264, 3167, 264, 266, 2109, 528, 1451, 4420, 264, 528, 264, 527, 2377, 792, 792, 792, 793, 1451, 1980, 1583, 528, 792, 257, 271, 1055, 2968, 792, 264, 1583, 528, 1057, 264, 792, 1055, 793, 264, 4223, 1320, 264, 264, 265, 2374, 264, 1056, 5082, 1848, 4750, 179, 877, 279, 513, 1583, 2640, 264, 145, 647, 263, 1849, 264, 582, 211, 4815, 264, 1847, 2375, 5279, 529, 264, 1056, 528, 792, 528, 528, 527, 1056, 4816, 792, 1055, 255, 9, 264, 4488, 528, 1056, 528, 791, 264, 25594, 1846, 528, 528, 3, 261, 264, 1055, 264, 264, 528, 529, 3430, 265, 527, 528, 1056, 264, 1320, 264, 264, 264, 528, 527, 792, 264, 6661, 1582, 2377, 527, 792, 264, 264, 912, 1198, 381, 1995, 528, 5280, 264, 527, 128, 141, 2698, 528, 528, 3958, 1056, 264, 189, 867, 263, 263, 1319, 864, 984, 1056, 3167, 263, 264, 1320, 265, 263, 2968, 792, 527, 3169, 263, 264, 527, 1057, 264, 712, 608, 263, 1056, 1848, 3432, 264, 1274, 47, 262, 1583, 4815, 2374, 529, 790, 792, 1321, 2901, 529, 2641, 528, 552, 1031, 1057, 4553, 263, 791, 141, 123, 793, 263, 528, 1320, 528, 38, 1557, 252, 2375, 1056, 528, 1847, 264, 1320, 263, 1056, 3698, 263, 972, 1996, 686, 370, 792, 1584, 2903, 791, 528, 793, 981, 602, 529, 431, 623, 2377, 792, 1320, 44, 220, 529, 527, 528, 528, 2440, 3433, 2639, 597, 1251, 264, 528, 1056, 792, 264, 2111, 1848, 629, 1218, 1055, 791, 264, 529, 2704, 1319, 264, 1056, 1056, 1056, 263, 264, 264, 1056, 264, 252, 539, 264, 2639, 991, 2441, 5014, 2176, 1320, 264, 1754, 4579, 792, 1055, 528, 2640, 1585, 1848, 1321, 1114, 205, 264, 1648, 558, 1027, 1319, 1584, 1056, 179, 1141, 792, 1055, 1350, 2083, 1320, 528, 792, 1252, 596, 264, 528, 791, 1319, 92, 172, 1649, 527, 529, 264, 1847, 1056, 264, 1055, 529, 2112, 792, 1583, 2162, 1005, 793, 1584, 223, 41, 267, 524, 1584, 3495, 528, 264, 264, 264, 590, 1566, 1012, 2375, 198, 330, 264, 264, 528, 1321, 2112, 264, 3693, 1056, 1848, 264, 1648, 529, 1319, 265, 263, 3168, 527, 265, 263, 264, 1585, 791, 264, 528, 3432, 1057, 1583, 791, 265, 527, 764, 28, 264, 264, 528, 264, 2439, 264, 2375, 528, 858, 989, 1056, 792, 265, 1317, 793, 1321, 2216, 160, 1319, 82, 182, 1319, 528, 1056, 495, 1090, 3157, 75, 264, 264, 528, 792, 528, 1584, 1057, 264, 264, 264, 528, 263, 1056, 1055, 527, 792, 528, 1848, 529, 264, 2113, 97, 1486, 1319, 1648, 264, 264, 791, 792, 264, 986, 70, 264, 264, 1057, 791, 529, 791, 264, 2903, 527, 528, 1321, 1319, 1056, 647, 144, 528, 792, 264, 1319, 528, 264, 2176, 263, 792, 264, 792, 1055, 264, 1583, 265, 263, 2178, 462, 264, 264, 792, 264, 528, 264, 264, 264, 528, 528, 1055, 2903, 2112, 588, 467, 1912, 528, 792, 4140, 84, 263, 264, 264, 528, 792, 527, 264, 584, 207, 1321, 264, 3431, 265, 2638, 792, 528, 528, 3017, 4175, 1320, 1057, 527, 793, 1056, 1321, 265, 527, 1846, 264, 264, 1585, 264, 263, 264, 791, 528, 791, 1056, 2176, 792, 264, 1055, 46, 482, 1056, 263, 794, 527, 1056, 2375, 792, 3166, 1056, 1320, 792, 792, 1848, 528, 264, 374, 3122, 1584, 2376, 792, 529, 791, 792, 264, 265, 262, 263, 792, 526, 1315, 1325, 3096, 5944, 791, 3959, 263, 528, 1055, 528, 529, 5542, 1585, 19862, 2112, 134262, 2640, 528, 264, 192, 336, 264, 528, 264, 529, 1677, 433, 529, 527, 67, 197, 264, 264, 264, 1584, 264, 528, 231, 1353, 528, 263, 269, 260, 263, 264, 529, 264, 264, 792, 528, 527, 263, 265, 13525, 2639, 9306, 6332, 5807, 762, 8805, 793, 1319, 6068, 1126, 10817, 1848, 3960, 1508, 1659, 127342, 1584, 1320, 791, 714, 78, 1055, 1056, 1585, 528, 264, 1056, 2704, 1080, 240, 264, 263, 792, 263, 264, 529, 263, 264, 10824, 791, 792, 7719, 1583, 14519, 18013, 528, 3432, 7454, 143167, 4249, 840, 264, 529, 264, 263, 793, 2112, 1056, 264, 1056, 528, 796, 1580, 264, 528, 264, 527, 793, 264, 791, 529, 263, 528, 792, 792, 263, 13000, 561, 231, 2375, 9038, 15839, 955, 5444, 5014, 2639, 1320, 4753, 527, 793, 3906, 143821, 1430, 947, 3761, 264, 263, 1321, 1301, 283, 1270, 577, 528, 264, 1319, 1056, 264, 1584, 264, 528, 528, 380, 148, 528, 528, 247, 281, 527, 264, 1056, 1584, 1055, 264, 792, 264, 1648, 264, 1055, 328, 464, 527, 792, 1057, 528, 221, 4266, 792, 97, 167, 264, 793, 792, 792, 1847, 505, 288, 1848, 264, 3496, 15045, 1056, 7590, 8314, 3958, 12735, 59320, 2903, 528, 264, 1056, 264, 684, 108, 1584, 5542, 264, 793, 793, 2903, 528, 2968, 1585, 264, 792, 40, 752, 264, 1055, 264, 528, 264, 454, 74, 263, 264, 1057, 529, 792, 265, 262, 1056, 602, 190, 792, 264, 325, 203, 528, 264, 264, 263, 264, 1584, 529, 527, 264, 264, 528, 264, 2176, 2904, 527, 67, 1780, 264, 793, 1056, 1056, 203, 324, 791, 264, 264, 264, 264, 263, 264, 264, 621, 172, 264, 264, 792, 69, 195, 264, 264, 264, 264, 264, 264, 263, 528, 264, 266, 478, 47, 528, 528, 264, 191, 73, 529, 264, 1648, 528, 264, 264, 264, 264, 528, 264, 264, 269, 1051, 264, 299, 493, 319, 210, 265, 264, 264, 264, 264, 264, 264, 263, 268, 260, 264, 498, 294, 264, 527, 480, 577, 528, 264, 264, 528, 266, 262, 264, 528, 111, 153, 264, 528, 263, 265, 85, 178, 264, 268, 260, 264, 264, 264, 383, 155, 255, 264, 528, 255, 8, 264, 1912, 492, 301, 264, 792, 212, 54, 525, 264, 528, 264, 527, 265, 264, 792, 121, 147, 260, 528, 264, 263, 264, 264, 264, 264, 263, 268, 260, 264, 264, 264, 264, 528, 232, 32, 264, 264, 264, 529, 264, 528, 266, 261, 264, 265, 403, 125, 263, 264, 528, 264, 113, 151, 264, 264, 264, 264, 264, 264, 263, 264, 529, 810, 246, 1648, 264, 264, 264, 528, 265, 527, 264, 793, 526, 264, 792, 528, 1056, 793, 372, 155, 792, 264, 528, 2376, 1848, 528, 1056, 264, 792, 263, 264, 528, 264, 2112, 1912, 264, 264, 264, 1829, 1073, 264, 223, 569, 264, 528, 2640, 791, 1583, 2112, 1320, 264, 1055, 528, 1320, 528, 528, 792, 527, 2175, 264, 323, 205, 264, 264, 1055, 1584, 223, 41, 792, 791, 264, 528, 527, 630, 162, 264, 1149, 962, 1320, 792, 791, 265, 1319, 264, 792, 528, 792, 264, 527, 264, 1058, 5080, 3167, 1847, 1585, 1055, 2112, 792, 264, 42, 751, 252, 12, 791, 2112, 6402, 1584, 12402, 289375, 432027, 1597, 792, 792, 527, 528, 264, 528, 264, 264, 528, 1056, 2248, 458, 527, 528, 264, 791, 264, 264, 497, 295, 264, 792, 210, 54, 264, 265, 790, 528, 528, 264, 1320, 528, 264, 342, 2033, 4223, 10095, 1583, 1319, 4222, 315904, 477265, 10360, 6420, 15280, 1848, 264, 4753, 39719, 264, 12671, 264, 2968, 264, 528, 1337, 774, 1055, 6863, 1583, 1055, 1586, 2904, 1055, 5344, 528, 527, 1584, 264, 528, 264, 11349, 528, 792, 2176, 1056, 1056, 263, 528, 528, 529, 304, 6196, 99, 264, 2376, 792, 529, 793, 314, 741, 264, 264, 1056, 528, 1056, 1912, 458, 333, 1320, 264, 1056, 3694, 6598, 3694, 13263, 18276, 4225, 527, 2375, 527, 5017, 5607, 2113, 23819, 1319, 1057, 264, 264, 792, 1055, 1320, 264, 1056, 264, 1584, 1055, 1319, 264, 847, 1857, 1055, 264, 1320, 792, 2539, 364, 264, 527, 264, 529, 528, 264, 264, 1319, 1055, 264, 264, 528, 264, 264, 264, 264, 528, 264, 1583, 424, 1688, 32332, 35398, 12770, 4224, 6399, 264, 528, 791, 264, 792, 5280, 2905, 1584, 7192, 528, 264, 9765, 5545, 5651, 6292, 528, 5542, 3964, 5871, 264, 90137, 791, 5805, 3760, 1849, 9767, 10888, 264, 264, 791, 2112, 527, 73045, 2902, 17226, 932, 8108, 1284, 564, 792, 1320, 2112, 1056, 2916, 2363, 2786, 908, 264, 2408, 3199, 792, 5394, 148, 2113, 2639, 2374, 1584, 2113, 2441, 1847, 264, 5542, 662, 2770, 527, 4222, 1319, 1056, 1055, 2178, 1589, 262, 526, 4223, 266, 5540, 1588, 260, 1318, 1320, 5344, 888, 5446, 528, 1055, 1697, 1734, 10096, 3167, 263, 1846, 7654, 2095, 281, 6661, 264, 1320, 35, 757, 3169, 3960, 264, 2375, 6337, 4025, 1582, 103, 427, 8442, 11151, 5542, 1585, 3696, 6306, 1676, 5278, 2639, 528, 4752, 5542, 6929, 5806, 5280, 264, 10626, 1054, 3431, 2828, 33463, 28837, 264, 1846, 2640, 1074, 1830, 49293, 1056, 2111, 264, 1850, 95803, 791, 10095, 527, 11352, 197028, 264, 5544, 8447, 1320, 55623, 120220, 1583, 1848, 264, 3229, 995, 1056, 2904, 103785, 792, 264, 792, 1584, 528, 264, 294, 234, 264, 1056, 263, 264, 1321, 528, 263, 792, 1319, 2177, 5806, 1319, 952, 1161, 264, 528, 263, 793, 264, 1584, 310, 1009, 528, 264, 264, 264, 1256, 591, 528, 3499, 264, 264, 263, 265, 527, 793, 264, 263, 528, 264, 286, 770, 51, 1268, 792, 264, 263, 1056, 2111, 528, 264, 264, 264, 791, 793, 74, 1246, 311, 217, 528, 266, 1055, 527, 1006, 50, 2705, 528, 1057, 1583, 1848, 4223, 792, 527, 2113, 264, 3168, 1056, 1320, 528, 264, 264, 2705, 791, 214, 50, 528, 264, 527, 1055, 264, 265, 790, 528, 528, 263, 792, 1584, 1275, 44, 264, 793, 1847, 264, 1938, 5518, 263, 1586, 527, 263, 264, 792, 264, 264, 264, 528, 1055, 264, 2376, 339, 188, 1848, 793, 753, 302, 529, 1848, 1055, 528, 2903, 1648, 264, 264, 2641, 1583, 528, 4223, 264, 528, 1320, 264, 1056, 264, 1057, 263, 265, 264, 792, 528, 528, 264, 921, 135, 264, 264, 263, 528, 2968, 264, 1056, 264, 264, 264, 1848, 1055, 1584, 8182, 2903, 4025, 1583, 5280, 1319, 3696, 528, 792, 791, 264, 1030, 27, 264, 528, 528, 264, 528, 4287, 264, 792, 264, 97, 1751, 1320, 792, 1584, 1056, 792, 528, 926, 657, 792, 528, 4222, 793, 3232, 264, 264, 528, 264, 792, 649, 407, 528, 3168, 792, 9240, 348833, 171, 1056, 528, 1055, 3958, 1949, 162, 1056, 528, 792, 527, 1321, 1056, 264, 1321, 792, 528, 264, 528, 264, 1912, 791, 529, 1584, 791, 792, 528, 2112, 263, 1001, 224377, 26985, 3432, 264, 1847, 21443, 792, 44737, 4815, 879, 177, 264, 5018, 3961, 792, 139, 13914, 792, 3694, 8463, 1040, 3760, 264, 264, 264, 264, 264, 527, 264, 264, 651, 141, 1319, 99, 1485, 1320, 528, 792, 263, 264, 264, 264, 528, 263, 264, 2113, 263, 266, 262, 529, 264, 528, 264, 264, 264, 264, 793, 43, 221, 264, 527, 264, 264, 14, 250, 264, 2161, 14, 264, 4752, 8878, 361, 1320, 2577, 3568, 2366, 2640, 528, 2374, 5280, 265, 447, 80, 264, 1207, 1698, 263, 528, 3232, 264, 528, 158, 898, 276, 515, 1056, 528, 528, 264, 792, 263, 264, 791, 136, 1184, 1320, 264, 264, 791, 264, 528, 529, 0, 264, 1056, 792, 1583, 2376, 528, 2441, 264, 1056, 528, 2117, 258, 7655, 24347, 1320, 80241, 3115, 7825, 27201, 4748, 176053, 2907, 1257, 4876, 793, 264, 530, 263, 4222, 2640, 1848, 1319, 264, 792, 334, 194, 1584, 1056, 4024, 791, 264, 264, 264, 264, 528, 2200, 176, 1320, 527, 264, 264, 529, 263, 264, 263, 528, 528, 210, 1901, 1699, 678, 2375, 264, 528, 2705, 1055, 2112, 528, 264, 528, 527, 264, 529, 1320, 528, 791, 264, 2112, 774, 18, 264, 264, 528, 793, 791, 792, 264, 264, 264, 2373, 79, 713, 2176, 1319, 528, 263, 264, 264, 264, 464, 1567, 82, 1056, 791, 792, 869, 979, 264, 320, 736, 791, 264, 264, 792, 792, 1583, 528, 1055, 793, 792, 263, 83, 181, 528, 2441, 527, 589, 730, 2813, 89, 264, 264, 528, 266, 1582, 263, 997, 853, 527, 793, 527, 1057, 263, 528, 2375, 263, 264, 264, 792, 264, 1319, 1912, 528, 263, 265, 527, 277, 516, 265, 2109, 1056, 1055, 143, 649, 793, 1584, 528, 1848, 1320, 264, 791, 264, 6400, 264, 792, 1094, 489, 2112, 529, 528, 263, 528, 704, 352, 264, 1056, 264, 263, 792, 264, 528, 264, 230, 34, 1055, 1585, 264, 264, 3168, 264, 792, 528, 1912, 264, 1056, 528, 791, 431, 1153, 263, 1850, 264, 263, 264, 468, 59, 1495, 89, 1320, 1583, 528, 263, 1361, 751, 264, 263, 264, 264, 792, 264, 1320, 263, 2967, 264, 265, 264, 528, 1320, 1320, 1056, 264, 280, 248, 264, 264, 264, 791, 528, 264, 264, 528, 178, 1143, 2110, 528, 265, 264, 37, 811, 736, 264, 2111, 6138, 264, 264, 528, 792, 1847, 61, 203, 264, 264, 264, 264, 528, 263, 264, 1321, 264, 1056, 528, 1055, 264, 3959, 1319, 3231, 264, 1321, 1230, 90, 527, 264, 2641, 528, 528, 264, 528, 528, 527, 792, 264, 4858, 1740, 22767, 10887, 19860, 32267, 2903, 13263, 6863, 1056, 40516, 4552, 1319, 26466, 1583, 5280, 14805, 7697, 11679, 1321, 20388, 12141, 6315, 2988, 8710, 3167, 12470, 94495, 16827, 392, 791, 19335, 528, 687, 105, 2112, 3168, 1055, 4287, 4488, 264, 266, 525, 794, 1054, 17, 248, 263, 791, 248, 280, 2376, 1057, 528, 264, 263, 795, 1844, 257, 271, 529, 264, 264, 264, 2178, 21, 243, 792, 264, 263, 1, 264, 264, 264, 263, 264, 528, 264, 264, 264, 264, 528, 158, 105, 264, 264, 528, 264, 264, 264, 528, 264, 264, 263, 528, 264, 4, 260, 793, 264, 264, 264, 264, 264, 265, 263, 264, 263, 264, 264, 265, 459, 69, 263, 264, 528, 264, 161, 103, 264, 264, 264, 264, 264, 264, 265, 262, 264, 264, 264, 591, 201, 1649, 528, 527, 528, 528, 264, 14, 250, 264, 264, 264, 264, 263, 264, 264, 264, 264, 264, 264, 434, 94, 264, 264, 792, 264, 264, 264, 264, 264, 264, 264, 264, 264, 264, 264, 264, 527, 47, 217, 264, 528, 264, 266, 28, 234, 264, 793, 793, 263, 264, 264, 528, 194, 70, 264, 791, 264, 264, 264, 527, 266, 262, 2177, 264, 264, 264, 264, 264, 264, 264, 264, 568, 225, 264, 529, 263, 264, 25, 239, 263, 264, 793, 264, 264, 265, 264, 263, 528, 199, 65, 264, 264, 264, 264, 264, 264, 263, 264, 264, 264, 264, 264, 528, 264, 264, 192, 336, 263, 66, 726, 264, 264, 264, 529, 264, 263, 264, 264, 491, 37, 264, 792, 465, 326, 264, 264, 264, 528, 1648, 264, 264, 264, 264, 264, 264, 264, 264, 264, 264, 528, 264, 233, 31, 528, 311, 217, 528, 264, 264, 527, 265, 263, 528, 264, 473, 55, 264, 793, 264, 193, 335, 264, 264, 263, 264, 267, 261, 528, 528, 528, 87, 177, 264, 528, 264, 263, 62, 466, 264, 264, 264, 528, 264, 264, 264, 1012, 43, 264, 264, 264, 264, 1912, 264, 793, 166, 98, 264, 264, 264, 264, 264, 264, 264, 264, 264, 527, 528, 67, 197, 264, 792, 264, 42, 222, 263, 264, 264, 264, 264, 264, 527, 529, 527, 201, 63, 264, 264, 263, 264, 264, 530, 263, 264, 264, 265, 263, 527, 264, 264, 191, 337, 263, 64, 200, 264, 264, 264, 264, 264, 528, 527, 264, 264, 482, 46, 264, 264, 982, 1194, 264, 264, 792, 163, 101, 264, 264, 263, 264, 529, 264, 264, 263, 264, 264, 264, 945, 110, 793, 34, 230, 527, 263, 264, 528, 264, 264, 527, 264, 449, 608, 528, 264, 167, 361, 264, 264, 264, 264, 527, 264, 264, 264, 264, 528, 57, 470, 528, 264, 264, 30, 497, 528, 529, 264, 264, 264, 264, 264, 2441, 264, 263, 431, 625, 528, 265, 150, 114, 263, 264, 264, 264, 264, 264, 264, 263, 264, 264, 264, 528, 37, 227, 263, 529, 264, 264, 264, 264, 264, 264, 264, 264, 264, 264, 264, 264, 264, 527, 185, 344, 264, 264, 264, 528, 528, 264, 264, 264, 264, 528, 265, 263, 161, 366, 325, 203, 264, 264, 529, 264, 528, 264, 264, 1649, 264, 264, 264, 264, 264, 527, 264, 264, 264, 972, 83, 264, 264, 264, 528, 264, 264, 264, 264, 793, 527, 264, 264, 139, 389, 263, 61, 467, 528, 528, 264, 527, 264, 1584, 1584, 264, 792, 1319, 528, 1584, 264, 264, 264, 2176, 792, 1056, 1510, 1393, 166, 890, 1848, 861, 458, 1097, 487, 1320, 264, 265, 264, 1003, 52, 528, 528, 791, 529, 264, 527, 528, 1849, 1650, 588, 995, 264, 308, 748, 263, 528, 264, 264, 264, 264, 264, 729, 855, 264, 792, 1848, 1404, 708, 1055, 3696, 792, 264, 192474, 43859, 3696, 5014, 264, 264, 528, 7, 257, 267, 526, 264, 253, 11, 264, 265, 263, 264, 791, 528, 264, 939, 645, 265, 264, 529, 527, 527, 264, 264, 839, 2129, 264, 528, 1847, 264, 2111, 264, 527, 792, 125, 402, 1151, 698, 1054, 792, 464, 583, 274, 527, 266, 262, 264, 527, 528, 264, 671, 385, 264, 528, 528, 791, 2705, 528, 529, 527, 264, 530, 526, 264, 791, 237, 27, 265, 263, 264, 264, 264, 528, 528, 264, 1584, 796, 108, 945, 264, 1847, 1055, 530, 526, 264, 264, 529, 264, 264, 264, 264, 263, 264, 792, 147, 117, 263, 528, 264, 264, 2704, 1056, 263, 792, 264, 1306, 13, 527, 1056, 1320, 1584, 1847, 264, 265, 1055, 1319, 1056, 792, 2905, 5605, 12934, 1017, 830, 528, 1584, 229815, 14580, 54504, 37087, 36813, 10822, 137173, 25669, 7391, 9832, 25666, 8184, 2111, 27850, 3695, 5276, 3432, 16959, 5016, 1847, 91647, 1848, 791, 1849, 264, 264, 1945, 7557, 264, 792, 264, 791, 1914, 264, 264, 1319, 458, 333, 327, 465, 528, 264, 264, 529, 265, 791, 495, 33, 264, 792, 792, 1583, 264, 1416, 1561, 718, 264, 792, 529, 264, 264, 528, 249, 15, 264, 264, 264, 264, 264, 264, 264, 263, 264, 3496, 264, 263, 793, 1584, 263, 5808, 793, 264, 660, 395, 264, 791, 104, 424, 264, 792, 792, 264, 264, 791, 1320, 243, 549, 2176, 528, 792, 264, 266, 1318, 528, 264, 793, 264, 528, 264, 1057, 264, 263, 528, 792, 528, 36028, 10292, 4225, 5870, 2376, 2376, 1462, 5928, 10889, 172, 2733, 3166, 5543, 264, 528, 265, 529, 527, 4552, 792, 263, 264, 264, 791, 264, 1057, 2112, 264, 264, 15, 513, 6335, 1847, 265, 791, 11148, 528, 1585, 19596, 2376, 2904, 7656, 791, 6664, 1319, 1056, 1584, 6600, 528, 791, 2639, 2440, 792, 2554, 349, 8179, 2377, 528, 527, 264, 793, 264, 792, 263, 1320, 264, 2177, 23, 241, 264, 528, 264, 261, 3, 528, 792, 264, 263, 528, 264, 264, 1057, 267, 260, 263, 1584, 528, 527, 280, 776, 263, 1321, 264, 528, 792, 264, 451, 77, 263, 264, 528, 421, 107, 264, 264, 264, 264, 792, 264, 264, 528, 528, 56, 207, 1649, 264, 264, 1055, 799, 257, 264, 264, 263, 264, 264, 1056, 527, 792, 792, 264, 131, 925, 264, 264, 528, 264, 264, 527, 528, 264, 792, 1057, 264, 265, 528, 264, 528, 527, 528, 264, 264, 1056, 264, 264, 264, 528, 1677, 1292, 1056, 528, 528, 264, 264, 528, 264, 527, 264, 264, 527, 264, 263, 264, 1319, 151, 377, 264, 528, 264, 264, 264, 791, 1056, 528, 792, 1056, 264, 528, 527, 529, 263, 792, 263, 528, 264, 264, 264, 1057, 2810, 158, 264, 264, 792, 264, 528, 527, 792, 3, 261, 528, 264, 1319, 529, 263, 1056, 528, 407, 385, 264, 528, 791, 263, 264, 1321, 264, 1068, 780, 793, 264, 528, 264, 1055, 264, 264, 2440, 1056, 128, 400, 264, 264, 263, 1057, 528, 792, 1056, 527, 6, 523, 263, 792, 792, 1219, 629, 1056, 264, 264, 792, 263, 996, 60, 528, 305, 751, 1848, 264, 264, 528, 263, 264, 528, 1648, 264, 1055, 149, 379, 264, 264, 264, 263, 1584, 792, 528, 792, 528, 528, 264, 264, 792, 264, 962, 93, 264, 264, 1056, 264, 264, 791, 1583, 793, 264, 792, 280, 512, 264, 263, 264, 264, 1055, 264, 1648, 792, 528, 528, 264, 792, 264, 120, 144, 2112, 264, 264, 823, 233, 264, 1053, 2, 264, 263, 528, 264, 263, 794, 263, 264, 528, 792, 264, 791, 264, 264, 264, 264, 1056, 263, 264, 792, 12, 779, 264, 264, 264, 264, 264, 264, 264, 2703, 265, 263, 264, 264, 528, 264, 528, 111, 946, 527, 100, 428, 528, 264, 263, 674, 382, 264, 1056, 1056, 263, 528, 264, 528, 264, 792, 263, 792, 1056, 264, 264, 792, 264, 1584, 1319, 264, 1912, 793, 792, 528, 263, 528, 264, 792, 528, 792, 101, 163, 791, 1056, 793, 264, 792, 264, 792, 528, 791, 793, 264, 527, 264, 792, 1057, 528, 264, 264, 1057, 791, 89, 175, 528, 264, 528, 1648, 528, 9, 1048, 527, 264, 264, 264, 264, 263, 528, 264, 263, 529, 528, 141, 387, 263, 1320, 1321, 777, 279, 808, 247, 1319, 1057, 264, 264, 1056, 790, 265, 264, 791, 264, 264, 264, 528, 264, 839, 2393, 1584, 256, 8, 264, 264, 264, 791, 264, 792, 263, 264, 528, 1056, 383, 674, 264, 264, 1055, 264, 264, 264, 792, 793, 264, 272, 784, 264, 528, 264, 264, 264, 528, 527, 264, 264, 264, 527, 265, 264, 263, 529, 264, 264, 264, 1133, 779, 528, 264, 792, 263, 810, 246, 264, 528, 522, 6, 528, 264, 264, 264, 264, 527, 264, 1055, 152, 376, 264, 264, 529, 263, 264, 264, 528, 264, 791, 160, 1689, 264, 528, 264, 791, 527, 703, 89, 528, 791, 145, 119, 264, 529, 528, 2177, 528, 107, 685, 264, 527, 264, 528, 1321, 12, 252, 528, 527, 528, 264, 791, 264, 529, 1056, 264, 264, 263, 264, 1585, 263, 528, 1584, 263, 264, 264, 792, 264, 527, 264, 792, 529, 172, 92, 527, 793, 2704, 264, 528, 264, 264, 264, 263, 528, 264, 528, 528, 25, 1295, 264, 528, 529, 527, 264, 264, 528, 792, 264, 263, 264, 528, 265, 791, 264, 264, 264, 1056, 1095, 1545, 792, 1320, 263, 793, 1648, 264, 264, 1583, 264, 264, 528, 793, 264, 264, 1055, 264, 528, 264, 34, 494, 528, 792, 527, 264, 264, 264, 451, 77, 1056, 264, 264, 264, 792, 1056, 792, 594, 463, 792, 792, 263, 264, 528, 528, 528, 1912, 264, 264, 264, 528, 792, 1214, 633, 1057, 528, 791, 2152, 225, 527, 528, 264, 264, 264, 264, 264, 264, 728, 327, 530, 1055, 528, 264, 264, 791, 264, 1056, 528, 265, 528, 264, 3497, 264, 528, 528, 1527, 321, 528, 528, 264, 527, 792, 264, 1057, 527, 264, 89, 439, 264, 264, 1319, 528, 1056, 264, 528, 480, 312, 528, 264, 264, 264, 264, 264, 264, 528, 528, 263, 264, 1147, 174, 528, 1648, 263, 264, 1849, 264, 264, 264, 2109, 202, 326, 528, 792, 263, 528, 1056, 264, 264, 791, 324, 468, 264, 264, 263, 528, 264, 264, 1320, 264, 264, 264, 1056, 263, 530, 264, 264, 528, 264, 791, 264, 266, 1910, 1057, 1056, 56, 472, 264, 264, 2374, 217, 47, 264, 265, 263, 265, 1056, 1055, 375, 417, 264, 528, 528, 264, 792, 264, 264, 529, 264, 528, 791, 2112, 264, 2639, 1649, 891, 692, 792, 1320, 528, 792, 528, 1055, 1056, 263, 264, 528, 792, 264, 264, 1056, 107, 157, 1055, 264, 792, 264, 1847, 527, 264, 528, 264, 264, 528, 264, 528, 1178, 1790, 791, 264, 264, 264, 264, 528, 529, 1055, 528, 1320, 264, 263, 264, 264, 528, 264, 792, 791, 265, 264, 527, 891, 165, 1585, 1055, 264, 264, 264, 264, 264, 528, 528, 528, 792, 217, 47, 264, 527, 793, 1912, 264, 264, 527, 264, 1057, 528, 528, 528, 338, 454, 264, 263, 528, 528, 264, 528, 792, 265, 792, 483, 45, 790, 264, 265, 527, 529, 265, 264, 643, 148, 264, 528, 264, 264, 90, 2124, 161, 263, 792, 242, 22, 264, 264, 264, 527, 1648, 265, 528, 265, 187, 1133, 263, 1057, 1161, 1480, 1054, 265, 263, 793, 1055, 244, 20, 264, 527, 528, 529, 791, 264, 2224, 1736, 792, 265, 263, 539, 253, 263, 1041, 1135, 264, 264, 1321, 264, 792, 264, 264, 1055, 264, 391, 137, 264, 2641, 264, 1847, 265, 792, 791, 264, 265, 1057, 262, 528, 264, 681, 111, 264, 527, 528, 528, 264, 264, 527, 1057, 1912, 264, 793, 797, 259, 264, 528, 507, 286, 791, 791, 265, 264, 2112, 264, 264, 792, 263, 792, 528, 528, 529, 264, 264, 264, 264, 1056, 263, 264, 264, 264, 264, 453, 602, 954, 104, 527, 528, 263, 264, 264, 528, 2704, 528, 264, 527, 264, 1322, 264, 264, 264, 527, 264, 264, 264, 263, 1321, 793, 264, 163, 101, 263, 527, 264, 264, 264, 792, 264, 264, 792, 1849, 528, 528, 264, 264, 264, 263, 264, 727, 594, 528, 264, 264, 264, 264, 2443, 264, 527, 529, 264, 792, 792, 82, 974, 263, 265, 62, 465, 264, 264, 528, 528, 792, 1057, 792, 527, 792, 527, 264, 528, 264, 792, 263, 1848, 264, 528, 264, 778, 1071, 264, 234, 30, 263, 1648, 735, 321, 264, 528, 1584, 906, 151, 527, 792, 1319, 263, 264, 264, 1055, 528, 264, 264, 528, 1056, 1584, 528, 792, 105, 951, 527, 2376, 264, 793, 2440, 491, 301, 264, 528, 464, 329, 264, 264, 264, 264, 263, 792, 264, 792, 103, 952, 602, 454, 792, 792, 792, 527, 238, 26, 791, 265, 529, 527, 265, 1184, 399, 264, 1319, 264, 264, 529, 2123, 1373, 1847, 1056, 527, 264, 265, 263, 263, 264, 792, 264, 792, 1408, 1232, 528, 528, 528, 263, 794, 791, 264, 233, 559, 792, 263, 264, 264, 264, 1585, 528, 527, 1057, 264, 264, 2705, 264, 792, 1320, 264, 528, 2111, 264, 264, 528, 792, 136, 128, 791, 264, 367, 425, 264, 792, 1055, 264, 786, 271, 264, 264, 792, 264, 528, 264, 264, 264, 1055, 528, 265, 263, 794, 263, 1649, 1055, 1320, 527, 264, 528, 264, 263, 782, 10, 265, 1055, 1056, 264, 264, 693, 364, 791, 264, 528, 264, 264, 1584, 1056, 528, 527, 264, 528, 264, 264, 1848, 791, 160, 369, 2336, 105, 527, 528, 791, 264, 1320, 528, 1067, 517, 528, 1056, 527, 264, 264, 264, 1848, 26398, 265, 263, 792, 1548, 299, 264, 264, 264, 528, 792, 264, 264, 528, 123, 141, 792, 265, 1055, 529, 264, 873, 1238, 7, 521, 528, 1055, 527, 264, 264, 1057, 920, 399, 265, 262, 527, 264, 528, 794, 1647, 265, 795, 789, 264, 264, 529, 249, 14, 263, 1847, 528, 263, 2113, 528, 263, 528, 264, 264, 528, 264, 529, 528, 15, 1041, 264, 255, 273, 792, 264, 792, 265, 1054, 264, 529, 262, 265, 791, 529, 2440, 264, 527, 528, 792, 264, 527, 2, 263, 1057, 236, 556, 264, 264, 264, 527, 266, 1318, 141, 387, 528, 264, 792, 263, 265, 266, 262, 792, 263, 265, 527, 264, 792, 793, 528, 529, 263, 264, 1057, 791, 529, 527, 1913, 263, 265, 263, 264, 528, 529, 265, 265, 262, 264, 528, 264, 1056, 28, 1292, 1056, 264, 1321, 264, 528, 1055, 529, 529, 1056, 2641, 263, 264, 264, 529, 264, 528, 590, 466, 255, 273, 1913, 503, 289, 793, 264, 264, 263, 529, 528, 528, 528, 1172, 147, 264, 528, 616, 440, 791, 908, 412, 264, 774, 17, 264, 528, 265, 527, 792, 527, 264, 398, 130, 263, 265, 527, 1056, 267, 260, 264, 529, 527, 264, 264, 2968, 792, 793, 203, 323, 263, 264, 528, 264, 263, 1320, 1056, 1585, 264, 263, 792, 1557, 27, 263, 265, 792, 200, 64, 528, 527, 528, 264, 792, 793, 1319, 792, 264, 792, 264, 1021, 1155, 791, 528, 264, 792, 2112, 263, 264, 264, 1057, 263, 1319, 528, 264, 264, 54, 737, 263, 529, 264, 265, 527, 264, 528, 2112, 264, 264, 263, 264, 792, 264, 1143, 441, 527, 792, 2439, 264, 528, 263, 264, 264, 265, 264, 793, 719, 73, 528, 264, 527, 528, 264, 1055, 529, 1319, 792, 264, 791, 264, 528, 264, 746, 310, 264, 529, 792, 1321, 527, 264, 264, 264, 528, 107, 157, 1056, 264, 1649, 263, 794, 528, 264, 528, 264, 266, 526, 1320, 263, 265, 1021, 300, 264, 792, 1319, 264, 528, 121, 143, 264, 528, 264, 263, 96, 961, 528, 1056, 792, 265, 263, 264, 1320, 262, 264, 529, 264, 1583, 1649, 264, 263, 1321, 792, 264, 264, 791, 264, 264, 264, 1051, 5, 527, 264, 264, 265, 791, 265, 262, 264, 791, 1057, 1056, 528, 264, 527, 264, 792, 528, 264, 532, 1051, 529, 793, 263, 527, 264, 2704, 263, 794, 648, 407, 792, 264, 94, 170, 264, 792, 527, 264, 528, 527, 792, 1321, 264, 528, 264, 528, 791, 265, 916, 932, 264, 264, 264, 264, 264, 264, 264, 263, 264, 528, 27, 501, 528, 263, 266, 263, 527, 264, 264, 264, 529, 1912, 264, 264, 264, 1584, 527, 528, 113, 151, 1055, 348, 443, 264, 528, 1056, 265, 262, 792, 792, 264, 264, 263, 792, 265, 527, 394, 1454, 105, 159, 1055, 264, 265, 263, 263, 529, 264, 522, 6, 527, 1023, 34, 793, 2439, 264, 264, 1585, 263, 264, 1057, 528, 362, 693, 792, 263, 528, 793, 528, 528, 528, 265, 239, 288, 527, 264, 264, 791, 264, 264, 264, 648, 407, 528, 791, 528, 264, 264, 1742, 370, 264, 264, 1912, 491, 37, 1057, 264, 211, 317, 1055, 264, 264, 264, 528, 1321, 791, 355, 173, 263, 792, 264, 1056, 791, 235, 29, 264, 264, 528, 264, 528, 264, 264, 792, 792, 264, 528, 792, 528, 264, 793, 264, 263, 264, 1057, 1913, 264, 470, 57, 528, 528, 1056, 264, 264, 528, 1056, 1056, 1056, 119, 409, 264, 264, 527, 1056, 264, 263, 528, 10, 254, 1306, 278, 528, 792, 264, 528, 264, 264, 527, 264, 528, 791, 529, 263, 264, 264, 264, 964, 1741, 264, 264, 264, 263, 1321, 264, 528, 264, 528, 1850, 264, 263, 264, 792, 264, 263, 265, 527, 528, 264, 793, 792, 300, 228, 528, 1583, 264, 528, 791, 2113, 153, 903, 2440, 527, 264, 264, 264, 264, 264, 792, 604, 452, 528, 278, 1042, 264, 791, 528, 1056, 263, 792, 265, 141, 122, 529, 792, 264, 264, 528, 263, 1321, 1056, 30, 498, 527, 2553, 614, 527, 1912, 1055, 528, 264, 264, 528, 264, 264, 263, 1586, 264, 528, 1055, 792, 264, 264, 264, 529, 1056, 1056, 264, 528, 792, 1494, 881, 264, 528, 2376, 1056, 528, 1648, 264, 1585, 527, 264, 528, 1055, 528, 528, 1320, 31, 760, 792, 264, 792, 263, 1320, 792, 264, 527, 264, 263, 264, 265, 264, 528, 1055, 264, 264, 792, 264, 17, 246, 528, 264, 528, 264, 264, 3234, 528, 792, 264, 528, 410, 118, 264, 263, 528, 264, 1058, 527, 527, 264, 1055, 791, 1056, 264, 264, 263, 264, 264, 528, 160, 104, 264, 1320, 265, 527, 528, 791, 265, 791, 1849, 264, 528, 1913, 264, 263, 1320, 264, 264, 1321, 264, 792, 528, 527, 1056, 529, 527, 528, 1056, 1318, 792, 264, 792, 1055, 264, 265, 263, 528, 263, 264, 791, 264, 793, 47, 217, 264, 1848, 1912, 264, 528, 264, 1056, 264, 792, 528, 528, 791, 145, 1175, 264, 264, 264, 264, 528, 263, 563, 230, 792, 264, 281, 1039, 1056, 1510, 73, 264, 264, 264, 527, 528, 528, 529, 792, 264, 1111, 209, 264, 1649, 526, 28, 236, 264, 528, 528, 264, 528, 264, 264, 264, 528, 1497, 352, 263, 264, 792, 528, 792, 264, 792, 264, 527, 264, 792, 264, 264, 264, 1056, 528, 471, 586, 982, 74, 263, 528, 792, 264, 264, 263, 529, 527, 83, 181, 2704, 264, 144, 648, 527, 264, 793, 1056, 3168, 263, 529, 1584, 263, 792, 264, 528, 530, 263, 528, 1319, 529, 1012, 308, 264, 528, 264, 264, 528, 792, 653, 1523, 264, 1585, 883, 173, 264, 528, 264, 264, 67, 461, 792, 264, 264, 264, 263, 528, 1320, 264, 528, 528, 264, 528, 263, 792, 263, 1056, 86, 442, 264, 264, 528, 1319, 264, 512, 280, 264, 1847, 528, 1912, 264, 265, 1583, 885, 699, 528, 264, 65, 991, 264, 1320, 264, 264, 495, 33, 263, 1583, 264, 265, 264, 527, 264, 264, 528, 792, 527, 528, 792, 528, 264, 528, 528, 528, 2375, 1648, 264, 528, 791, 264, 264, 792, 264, 529, 2111, 572, 219, 792, 265, 527, 264, 527, 1056, 528, 264, 1056, 264, 528, 264, 623, 169, 264, 1583, 264, 264, 264, 1320, 264, 762, 557, 528, 470, 1178, 528, 264, 792, 527, 528, 792, 2112, 255, 801, 45, 219, 264, 264, 1583, 528, 264, 468, 324, 1056, 528, 264, 1321, 528, 528, 792, 792, 599, 458, 264, 264, 528, 792, 527, 1648, 264, 527, 1320, 264, 975, 610, 528, 792, 528, 264, 264, 1056, 1584, 264, 264, 1320, 1291, 292, 1583, 1056, 264, 791, 264, 1056, 1056, 792, 264, 264, 1649, 527, 1057, 791, 264, 1056, 263, 1584, 792, 1057, 528, 527, 350, 178, 264, 527, 264, 264, 264, 792, 528, 528, 265, 264, 529, 791, 264, 1320, 264, 528, 264, 528, 1320, 264, 101, 428, 1912, 264, 528, 528, 529, 528, 264, 264, 264, 791, 1, 527, 791, 234, 30, 793, 264, 1055, 792, 792, 264, 528, 792, 264, 263, 264, 528, 264, 528, 264, 1055, 264, 264, 264, 264, 1055, 265, 264, 527, 528, 1319, 132, 132, 2703, 265, 791, 264, 67, 725, 264, 528, 264, 528, 1298, 23, 529, 527, 263, 264, 264, 1319, 792, 264, 528, 264, 527, 264, 264, 264, 264, 264, 529, 528, 264, 792, 1056, 247, 809, 263, 264, 264, 264, 792, 264, 527, 138, 2038, 1056, 264, 793, 792, 264, 264, 264, 263, 792, 264, 264, 517, 275, 264, 528, 264, 264, 264, 264, 529, 791, 264, 264, 264, 1056, 1320, 264, 264, 265, 263, 528, 958, 98, 791, 264, 8, 256, 529, 263, 264, 528, 264, 527, 264, 2440, 263, 528, 528, 264, 264, 527, 1585, 84, 444, 264, 264, 527, 792, 1056, 239, 25, 264, 264, 264, 264, 264, 264, 528, 1056, 411, 1173, 264, 264, 264, 263, 527, 264, 264, 264, 265, 262, 528, 1585, 263, 264, 1321, 1912, 792, 528, 264, 264, 264, 914, 142, 264, 263, 529, 263, 99, 693, 1584, 264, 528, 1585, 504, 552, 264, 527, 264, 528, 264, 1057, 264, 264, 527, 528, 529, 264, 791, 264, 528, 237, 291, 792, 18, 1301, 1648, 792, 264, 528, 1320, 264, 791, 264, 528, 528, 527, 528, 264, 264, 264, 264, 528, 264, 792, 264, 786, 7, 264, 264, 527, 527, 264, 264, 528, 264, 264, 793, 792, 264, 528, 264, 264, 264, 264, 263, 264, 1584, 35, 229, 264, 1064, 1378, 264, 792, 261, 3, 264, 264, 527, 264, 264, 263, 792, 264, 264, 414, 114, 1056, 391, 666, 791, 792, 264, 264, 1056, 263, 528, 264, 262, 2, 264, 264, 527, 1319, 264, 264, 529, 149, 641, 264, 1057, 792, 264, 264, 528, 264, 79, 186, 1647, 1320, 1057, 3165, 13991, 4205, 1388, 805, 528, 264, 528, 2112, 2639, 3448, 1040, 266, 1054, 264, 264, 691, 364, 264, 529, 528, 6400, 1322, 262, 264, 1055, 527, 793, 528, 161, 103, 264, 264, 528, 264, 264, 528, 264, 791, 528, 1056, 264, 30, 233, 264, 264, 264, 264, 1056, 263, 264, 707, 1141, 264, 263, 2440, 128, 136, 1417, 694, 791, 264, 791, 1033, 551, 2111, 528, 1848, 792, 528, 264, 528, 1595, 10613, 2904, 792, 256, 3703, 4752, 528, 528, 529, 264, 791, 264, 2968, 529, 264, 528, 1320, 2374, 265, 264, 529, 2902, 31475, 1912, 264, 2640, 264, 264, 791, 1321, 528, 1320, 264, 264, 792, 3695, 2816, 1407, 2112, 1637, 1595, 72, 192, 528, 292, 236, 1055, 264, 3432, 1586, 262, 264, 529, 264, 1055, 792, 264, 264, 528, 264, 263, 265, 264, 792, 264, 264, 528, 209, 319, 263, 264, 264, 264, 263, 264, 264, 264, 264, 264, 264, 363, 165, 528, 1648, 528, 528, 263, 574, 219, 264, 1080, 504, 263, 528, 2112, 4486, 528, 307, 748, 6862, 2176, 5014, 264, 264, 264, 959, 5377, 1584, 792, 1584, 5080, 1056, 3960, 264, 528, 1583, 4487, 792, 3959, 10362, 3960, 5015, 792, 1320, 1056, 1057, 3757, 1319, 2638, 792, 1319, 264, 46, 746, 528, 265, 790, 2904, 5017, 263, 7984, 7389, 2641, 1055, 2641, 264, 12206, 4752, 7454, 528, 528, 1056, 1584, 791, 200, 64, 264, 264, 1584, 1847, 264, 1583, 792, 529, 1563, 1549, 3487, 108, 156, 1397, 1944, 12562, 1849, 6399, 528, 3433, 1583, 6071, 11799, 143, 528, 3958, 511, 545, 528, 264, 793, 2902, 6071, 6137, 792, 5014]\n"
     ]
    }
   ],
   "source": [
    "print(delays112['8b8a2356-d11e-4bd5-bb35-d8370bf48b1e'])# a randomized address"
   ]
  },
  {
   "cell_type": "code",
   "execution_count": null,
   "metadata": {
    "collapsed": true
   },
   "outputs": [],
   "source": [
    "#drawing the delays of some randomized address (the previous)\n",
    "import matplotlib.pyplot as plt\n",
    "plt.plot(delays112['8b8a2356-d11e-4bd5-bb35-d8370bf48b1e'])\n",
    "plt.ylabel('interarrival time (ms)')\n",
    "plt.xlabel('packet')\n",
    "#axes.set_ylim([0,200])\n",
    "axes = plt.gca()\n",
    "plt.show()"
   ]
  },
  {
   "cell_type": "code",
   "execution_count": 66,
   "metadata": {
    "collapsed": false
   },
   "outputs": [],
   "source": [
    "arr = np.array(delays['32bf72d3-d707-4c37-b9b5-6318187de63f'])"
   ]
  },
  {
   "cell_type": "code",
   "execution_count": 67,
   "metadata": {
    "collapsed": false
   },
   "outputs": [],
   "source": [
    "plt.hist(arr, bins = 500)\n",
    "plt.ylabel('frequency')\n",
    "plt.xlabel('delay')\n",
    "axes.set_xlim([0,200000])\n",
    "\n",
    "axes = plt.gca()\n",
    "\n",
    "plt.show()"
   ]
  },
  {
   "cell_type": "code",
   "execution_count": 50,
   "metadata": {
    "collapsed": false
   },
   "outputs": [],
   "source": [
    "#plotting histogram of average delay for non-randomized\n",
    "averagedelaysList = []\n",
    "for address in averageDelay0.keys():\n",
    "    averagedelaysList.append(averageDelay[address])\n",
    "averagedelays = np.array(averagedelaysList)\n",
    "plt.hist(averagedelays, bins = 2000)\n",
    "plt.ylabel('frequency')\n",
    "plt.xlabel('average packet delay for non-randomized addresses')\n",
    "\n",
    "#axes.set_xlim([0,200000])\n",
    "\n",
    "axes = plt.gca()\n",
    "\n",
    "plt.show()"
   ]
  },
  {
   "cell_type": "code",
   "execution_count": 49,
   "metadata": {
    "collapsed": true
   },
   "outputs": [],
   "source": [
    "#plotting histogram of average delay for randomized\n",
    "averagedelaysList = []\n",
    "for address in averageDelay1.keys():\n",
    "    averagedelaysList.append(averageDelay[address])\n",
    "averagedelays = np.array(averagedelaysList)\n",
    "plt.hist(averagedelays, bins = 2000)\n",
    "plt.ylabel('frequency')\n",
    "plt.xlabel('average packet delay for randomized addresses')\n",
    "\n",
    "#axes.set_xlim([0,200000])\n",
    "\n",
    "axes = plt.gca()\n",
    "\n",
    "plt.show()"
   ]
  },
  {
   "cell_type": "code",
   "execution_count": 51,
   "metadata": {
    "collapsed": true
   },
   "outputs": [],
   "source": [
    "def plotHistogramOfDictionary(dictionary, xlabel, ylabel, nbins):\n",
    "    dictionaryList = []\n",
    "    for address in dictionary.keys():\n",
    "        dictionaryList.append(dictionary[address])\n",
    "    dictArray = np.array(dictionaryList)\n",
    "    plt.hist(dictArray, bins = nbins)\n",
    "    plt.ylabel(ylabel)\n",
    "    plt.xlabel(xlabel)\n",
    "    axes = plt.gca()\n",
    "    plt.show()\n"
   ]
  },
  {
   "cell_type": "code",
   "execution_count": 91,
   "metadata": {
    "collapsed": true
   },
   "outputs": [],
   "source": [
    "plotHistogramOfDictionary(averageDelay0, 'freq', 'average packet delay for non-randomized addresses ',2000 )"
   ]
  },
  {
   "cell_type": "code",
   "execution_count": null,
   "metadata": {
    "collapsed": true
   },
   "outputs": [],
   "source": [
    "plotHistogramOfDictionary(medianDelay0_112, 'freq', 'median packet delay for non-randomized addresses for dron 112',2000 )"
   ]
  },
  {
   "cell_type": "code",
   "execution_count": 92,
   "metadata": {
    "collapsed": true
   },
   "outputs": [],
   "source": [
    "plotHistogramOfDictionary(stderrDelay0_112, 'freq', 'stdev packet delay for non-randomized addresses for dron 112',2000 )"
   ]
  },
  {
   "cell_type": "code",
   "execution_count": 138,
   "metadata": {
    "collapsed": false
   },
   "outputs": [
    {
     "name": "stdout",
     "output_type": "stream",
     "text": [
      "224\n",
      "224\n"
     ]
    }
   ],
   "source": [
    "# checking the trajectory of a certain address, error used is sample error (not error of the estimation of the mean) \n",
    "lines = []#will contain only the lines for that address\n",
    "for line in json_lines:\n",
    "    address = line[\"value\"][\"sourceMac\"]\n",
    "    if (address == '27e573c8-1640-4ea8-86d8-0733c800e9cd'):#this is the address we are checking for\n",
    "        lines.append(line)\n",
    "       \n",
    "x_coord = []\n",
    "y_coord = []\n",
    "times = []\n",
    "x_errors = []\n",
    "y_errors = []\n",
    "for line in lines:\n",
    "    if (get_x_sample_error(line) <2 ):   \n",
    "        coordinates = line[\"value\"][\"averagecoordinate\"][\"avg\"][\"coordinates\"]\n",
    "        time = math.floor(line[\"measurementTimestamp\"]/1000)        \n",
    "        if time not in times:\n",
    "            x_coord.append( coordinates[0])\n",
    "            y_coord.append(coordinates[1])\n",
    "            x_errors.append(get_x_sample_error(line)*2)# for a 95% confidence\n",
    "            y_errors.append(get_y_sample_error(line)*2)# for a 95% confidence\n",
    "            times.append(time)\n",
    "    \n",
    "print(len(x_errors)) \n",
    "print(len(x_coord))"
   ]
  },
  {
   "cell_type": "code",
   "execution_count": 74,
   "metadata": {
    "collapsed": false
   },
   "outputs": [],
   "source": [
    "import matplotlib.pyplot as plt\n",
    "plt.plot(times,x_coord)\n",
    "plt.ylabel('x coordinate')\n",
    "plt.xlabel('time')\n",
    "#axes.set_ylim([0,200])\n",
    "axes = plt.gca()\n",
    "plt.show()"
   ]
  },
  {
   "cell_type": "code",
   "execution_count": 139,
   "metadata": {
    "collapsed": false
   },
   "outputs": [],
   "source": [
    "import numpy as np\n",
    "import matplotlib.pyplot as plt\n",
    "\n",
    "# example data\n",
    "x = times\n",
    "y = x_coord\n",
    "# example error bar values that vary with x-position\n",
    "error = x_errors \n",
    "# error bar values w/ different -/+ errors\n",
    "lower_error = error\n",
    "upper_error = error\n",
    "asymmetric_error = [lower_error, upper_error]\n",
    "\n",
    "fig, (ax0, ax1) = plt.subplots(nrows=2, sharex=True)\n",
    "ax0.errorbar(x, y, yerr=error, fmt='-o')\n",
    "ax0.set_title('x-coordinate with error')\n",
    "\n",
    "ax1.errorbar(x, y, yerr=asymmetric_error, fmt='o')\n",
    "ax1.set_title('x-coordinate with error')\n",
    "#ax1.set_yscale('log')\n",
    "plt.show()\n"
   ]
  },
  {
   "cell_type": "code",
   "execution_count": null,
   "metadata": {
    "collapsed": true
   },
   "outputs": [],
   "source": []
  }
 ],
 "metadata": {
  "kernelspec": {
   "display_name": "Python 3",
   "language": "python",
   "name": "python3"
  },
  "language_info": {
   "codemirror_mode": {
    "name": "ipython",
    "version": 3
   },
   "file_extension": ".py",
   "mimetype": "text/x-python",
   "name": "python",
   "nbconvert_exporter": "python",
   "pygments_lexer": "ipython3",
   "version": "3.5.1"
  }
 },
 "nbformat": 4,
 "nbformat_minor": 0
}
