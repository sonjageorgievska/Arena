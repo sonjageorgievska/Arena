{
 "cells": [
  {
   "cell_type": "code",
   "execution_count": null,
   "metadata": {
    "collapsed": true
   },
   "outputs": [],
   "source": [
    "# Packet rate analysis + signal strengths plotting"
   ]
  },
  {
   "cell_type": "code",
   "execution_count": null,
   "metadata": {
    "collapsed": false
   },
   "outputs": [],
   "source": [
    "######################################################################## packet rate analysis\n",
    "#reading from raw data\n",
    "import fileinput\n",
    "import json \n",
    "json_lines_raw = []\n",
    "for line in fileinput.input(['arena/2015-07-05_raw.json']):\n",
    "    jsline = json.loads(line)\n",
    "    data = []\n",
    "    data.append(jsline[\"value\"][\"sourceMac\"])\n",
    "    data.append(jsline[\"value\"][\"localMac\"])\n",
    "    data.append(jsline[\"measurementTimestamp\"])\n",
    "    data.append(jsline[\"value\"][\"droneId\"])\n",
    "    data.append(jsline[\"value\"][\"signal\"])\n",
    "    json_lines_raw.append(data)\n",
    "print(json_lines_raw[0])\n",
    "              "
   ]
  },
  {
   "cell_type": "code",
   "execution_count": 2,
   "metadata": {
    "collapsed": false
   },
   "outputs": [
    {
     "name": "stdout",
     "output_type": "stream",
     "text": [
      "112\n",
      "2920472\n"
     ]
    }
   ],
   "source": [
    "#finding the most overloaded drone (112)\n",
    "numberOfMeasurementsForDrone = dict()\n",
    "for line in json_lines_raw:\n",
    "    droneId = line[3]\n",
    "    if droneId not in numberOfMeasurementsForDrone.keys():\n",
    "        numberOfMeasurementsForDrone[droneId] = 0\n",
    "    numberOfMeasurementsForDrone[droneId] +=1    \n",
    "maxMeasurements = 0\n",
    "\n",
    "maxDroneId = 0\n",
    "for droneId in numberOfMeasurementsForDrone.keys():\n",
    "    if numberOfMeasurementsForDrone[droneId] > maxMeasurements:\n",
    "        maxMeasurements = numberOfMeasurementsForDrone[droneId]\n",
    "        maxDroneId = droneId\n",
    "print(maxDroneId)\n",
    "print(maxMeasurements)"
   ]
  },
  {
   "cell_type": "code",
   "execution_count": 3,
   "metadata": {
    "collapsed": true
   },
   "outputs": [],
   "source": [
    "#computing the timestamps for every address visible at drone 112\n",
    "timestamps112 = dict()\n",
    "for line in json_lines_raw:\n",
    "    if line[3]==\"112\":\n",
    "        address = line[0]\n",
    "        if address not in timestamps112.keys():\n",
    "            timestamps112[address] = []        \n",
    "        timestamps112[address].append(line[2])\n",
    "for address in timestamps112.keys():\n",
    "    timestamps112[address].sort()  "
   ]
  },
  {
   "cell_type": "code",
   "execution_count": 5,
   "metadata": {
    "collapsed": true
   },
   "outputs": [],
   "source": [
    "#plotting packet arrival rate at drone 112\n",
    "import matplotlib.pyplot as plt\n",
    "#myAddress = 'e1deda99-163f-4b68-9ade-e1f05d070bf2'#the largest one\n",
    "myAddress = '8b8a2356-d11e-4bd5-bb35-d8370bf48b1e'#randomized\n",
    "times112MyAddress = []\n",
    "minTime = 1436047367297\n",
    "for timestamp in timestamps112[myAddress]:\n",
    "    time = (timestamp - minTime)/1000\n",
    "    times112MyAddress.append(time)\n",
    "plt.hist(times112MyAddress, bins = 2000)\n",
    "plt.ylabel('number of packets')\n",
    "plt.xlabel('time(sec)')\n",
    "axes = plt.gca()\n",
    "plt.show()\n"
   ]
  },
  {
   "cell_type": "code",
   "execution_count": 11,
   "metadata": {
    "collapsed": true
   },
   "outputs": [],
   "source": [
    "#computing the timestamps for every address for any drone\n",
    "timestamps = dict()\n",
    "localMac = dict()\n",
    "for line in json_lines_raw:\n",
    "    address = line[0]\n",
    "    if address not in timestamps.keys():\n",
    "        timestamps[address] = []        \n",
    "    timestamps[address].append(line[2])\n",
    "    if address not in localMac.keys():   \n",
    "        localMac[address] = line[1]\n",
    "#sorting the timestamps for every address\n",
    "for address in timestamps.keys():\n",
    "    timestamps[address].sort()        \n",
    "        "
   ]
  },
  {
   "cell_type": "code",
   "execution_count": null,
   "metadata": {
    "collapsed": true
   },
   "outputs": [],
   "source": [
    "#plotting packet arrival rate at any drone\n",
    "myAddress = 'e1deda99-163f-4b68-9ade-e1f05d070bf2'#the largest one\n",
    "#myAddress = '8b8a2356-d11e-4bd5-bb35-d8370bf48b1e'#randomized\n",
    "timesMyAddress = []\n",
    "minTime = 1436047367297\n",
    "for timestamp in timestamps[myAddress]:\n",
    "    time = (timestamp - minTime)/1000\n",
    "    timesMyAddress.append(time)\n",
    "plt.hist(timesMyAddress, bins = 2000)\n",
    "plt.ylabel('number of packets')\n",
    "plt.xlabel('time(sec)')\n",
    "axes = plt.gca()\n",
    "plt.show()"
   ]
  },
  {
   "cell_type": "code",
   "execution_count": null,
   "metadata": {
    "collapsed": true
   },
   "outputs": [],
   "source": [
    "#computing the interarrival times for every address\n",
    "delays = dict()\n",
    "for address in timestamps.keys():\n",
    "    if address not in delays.keys():\n",
    "        delays[address] = []\n",
    "    oldTimeStamp = 0        \n",
    "    for timestamp in timestamps[address]:\n",
    "        if oldTimeStamp > 0:\n",
    "            delay = (timestamp - oldTimeStamp)\n",
    "            delays[address].append(delay)\n",
    "        oldTimeStamp = timestamp\n",
    "                            "
   ]
  },
  {
   "cell_type": "code",
   "execution_count": 6,
   "metadata": {
    "collapsed": true
   },
   "outputs": [],
   "source": [
    "#computing the interarrival times for every address at drone 112\n",
    "delays112 = dict()\n",
    "for address in timestamps112.keys():\n",
    "    if address not in delays112.keys():\n",
    "        delays112[address] = []\n",
    "    oldTimeStamp = 0        \n",
    "    for timestamp in timestamps112[address]:\n",
    "        if oldTimeStamp > 0:\n",
    "            delay = (timestamp - oldTimeStamp)\n",
    "            delays112[address].append(delay)\n",
    "        oldTimeStamp = timestamp"
   ]
  },
  {
   "cell_type": "code",
   "execution_count": null,
   "metadata": {
    "collapsed": true
   },
   "outputs": [],
   "source": [
    "print(json_lines_raw[30000])\n",
    "print(len(delays))\n",
    "address1 = '32bf72d3-d707-4c37-b9b5-6318187de63f'\n",
    "address2 = '3be779a3-1e1a-4b79-8ad0-c555f5124e7c'\n",
    "print(localMac[address1])\n",
    "print(localMac[address2])\n",
    "print(delays[address1])\n",
    "print(delays[address2])"
   ]
  },
  {
   "cell_type": "code",
   "execution_count": null,
   "metadata": {
    "collapsed": true
   },
   "outputs": [],
   "source": [
    "#print(json_lines_raw[30000])\n",
    "#print(len(delays))\n",
    "address1 = '32bf72d3-d707-4c37-b9b5-6318187de63f'\n",
    "address2 = '3be779a3-1e1a-4b79-8ad0-c555f5124e7c'\n",
    "\n",
    "print(delays112[address1])\n",
    "print(delays112[address2])"
   ]
  },
  {
   "cell_type": "code",
   "execution_count": null,
   "metadata": {
    "collapsed": true
   },
   "outputs": [],
   "source": [
    "#computing statistics of packet interarrival times of all addresses\n",
    "import numpy as np\n",
    "averageDelay= dict()\n",
    "medianDelay = dict()\n",
    "stderrDelay = dict()\n",
    "for address in delays.keys():\n",
    "    if address not in averageDelay.keys():\n",
    "        if len(delays[address]) > 1:\n",
    "            delaysArray = np.array(delays[address])\n",
    "            averageDelay[address] = np.mean(delaysArray)\n",
    "            medianDelay[address] = np.median(delaysArray)\n",
    "            stderrDelay[address] = np.std(delaysArray)\n",
    "            "
   ]
  },
  {
   "cell_type": "code",
   "execution_count": null,
   "metadata": {
    "collapsed": true
   },
   "outputs": [],
   "source": [
    "#computing statistics of non-randomized addresses\n",
    "averageDelay0= dict()\n",
    "medianDelay0 = dict()\n",
    "stderrDelay0 = dict()\n",
    "for address in delays.keys():\n",
    "    if localMac[address] == 0:\n",
    "        if address not in averageDelay0.keys():\n",
    "            if len(delays[address]) > 1:\n",
    "                delaysArray = np.array(delays[address])\n",
    "                averageDelay0[address] = np.mean(delaysArray)\n",
    "                medianDelay0[address] = np.median(delaysArray)\n",
    "                stderrDelay0[address] = np.std(delaysArray)\n",
    "               "
   ]
  },
  {
   "cell_type": "code",
   "execution_count": null,
   "metadata": {
    "collapsed": true
   },
   "outputs": [],
   "source": [
    "#computing statistics of packet interarrival times of randomized addresses\n",
    "averageDelay1= dict()\n",
    "medianDelay1 = dict()\n",
    "stderrDelay1 = dict()\n",
    "for address in delays.keys():\n",
    "    if localMac[address] == 1:\n",
    "        if address not in averageDelay0.keys():\n",
    "            if len(delays[address]) > 1:\n",
    "                delaysArray = np.array(delays[address])\n",
    "                averageDelay1[address] = np.mean(delaysArray)\n",
    "                medianDelay1[address] = np.median(delaysArray)\n",
    "                stderrDelay1[address] = np.std(delaysArray)"
   ]
  },
  {
   "cell_type": "code",
   "execution_count": null,
   "metadata": {
    "collapsed": true
   },
   "outputs": [],
   "source": [
    "#computing statistics of non-randomized addresses for drone 112 (most overloaded drone)\n",
    "averageDelay0_112= dict()\n",
    "medianDelay0_112 = dict()\n",
    "stderrDelay0_112 = dict()\n",
    "for address in delays112.keys():\n",
    "    if localMac[address] == 0:\n",
    "        if address not in averageDelay0_112.keys():\n",
    "            if len(delays112[address]) > 1:\n",
    "                delaysArray = np.array(delays112[address])\n",
    "                averageDelay0_112[address] = np.mean(delaysArray)\n",
    "                medianDelay0_112[address] = np.median(delaysArray)\n",
    "                stderrDelay0_112[address] = np.std(delaysArray)\n",
    "                if len(delays112[address]) > 200:\n",
    "                    print(address)\n",
    "                if len(delays112[address])> 1000:    \n",
    "                    print(\"long \" +  address)\n",
    "print('**********************************************************************')                \n",
    "#computing statistics of randomized addresses for drone 112\n",
    "averageDelay1_112= dict()\n",
    "medianDelay1_112 = dict()\n",
    "stderrDelay1_112 = dict()\n",
    "for address in delays112.keys():\n",
    "    if localMac[address] == 1:\n",
    "        if address not in averageDelay0_112.keys():\n",
    "            if len(delays112[address]) > 1:\n",
    "                delaysArray = np.array(delays112[address])\n",
    "                averageDelay1_112[address] = np.mean(delaysArray)\n",
    "                medianDelay1_112[address] = np.median(delaysArray)\n",
    "                stderrDelay1_112[address] = np.std(delaysArray)       \n",
    "                if len(delays112[address]) > 200:\n",
    "                    print(address)\n",
    "                if len(delays112[address])> 1000:    \n",
    "                    print(\"long \" +  address)    "
   ]
  },
  {
   "cell_type": "code",
   "execution_count": null,
   "metadata": {
    "collapsed": true
   },
   "outputs": [],
   "source": [
    "#drawing the delays of some non-randomized address\n",
    "import matplotlib.pyplot as plt\n",
    "#plt.plot(delays112['62042a84-f904-4b2c-b79b-1e06c1ac980e'])\n",
    "plt.plot(delays['e1deda99-163f-4b68-9ade-e1f05d070bf2'])\n",
    "plt.plot()\n",
    "plt.ylabel('packet interarrival time (ms) at any drone')\n",
    "plt.xlabel('# packet from address e1deda99-163f-4b68-9ade-e1f05d070bf2 ')\n",
    "#axes.set_ylim([0,200])\n",
    "axes = plt.gca()\n",
    "\n",
    "plt.show()"
   ]
  },
  {
   "cell_type": "code",
   "execution_count": null,
   "metadata": {
    "collapsed": true
   },
   "outputs": [],
   "source": [
    "#drawing the delays of some randomized address\n",
    "import matplotlib.pyplot as plt\n",
    "plt.plot(delays112['7a43a795-b538-4563-b702-6f0256588479'])\n",
    "plt.ylabel('interarrival time (ms)')\n",
    "plt.xlabel('packet')\n",
    "#axes.set_ylim([0,200])\n",
    "axes = plt.gca()\n",
    "print(delays112['7a43a795-b538-4563-b702-6f0256588479'])\n",
    "plt.show()"
   ]
  },
  {
   "cell_type": "code",
   "execution_count": null,
   "metadata": {
    "collapsed": true
   },
   "outputs": [],
   "source": [
    "print(delays112['443200e5-5752-4e5e-92f4-00af19a293be'])#a randomized address\n"
   ]
  },
  {
   "cell_type": "code",
   "execution_count": null,
   "metadata": {
    "collapsed": true
   },
   "outputs": [],
   "source": [
    "print(delays112['8b8a2356-d11e-4bd5-bb35-d8370bf48b1e'])# a randomized address"
   ]
  },
  {
   "cell_type": "code",
   "execution_count": null,
   "metadata": {
    "collapsed": true
   },
   "outputs": [],
   "source": [
    "arr = np.array(delays['32bf72d3-d707-4c37-b9b5-6318187de63f'])"
   ]
  },
  {
   "cell_type": "code",
   "execution_count": null,
   "metadata": {
    "collapsed": true
   },
   "outputs": [],
   "source": [
    "plt.hist(arr, bins = 500)\n",
    "plt.ylabel('frequency')\n",
    "plt.xlabel('delay')\n",
    "axes.set_xlim([0,200000])\n",
    "\n",
    "axes = plt.gca()\n",
    "\n",
    "plt.show()"
   ]
  },
  {
   "cell_type": "code",
   "execution_count": null,
   "metadata": {
    "collapsed": true
   },
   "outputs": [],
   "source": [
    "#plotting histogram of average delay for non-randomized\n",
    "averagedelaysList = []\n",
    "for address in averageDelay0.keys():\n",
    "    averagedelaysList.append(averageDelay[address])\n",
    "averagedelays = np.array(averagedelaysList)\n",
    "plt.hist(averagedelays, bins = 2000)\n",
    "plt.ylabel('frequency')\n",
    "plt.xlabel('average packet delay for non-randomized addresses')\n",
    "\n",
    "#axes.set_xlim([0,200000])\n",
    "\n",
    "axes = plt.gca()\n",
    "\n",
    "plt.show()"
   ]
  },
  {
   "cell_type": "code",
   "execution_count": null,
   "metadata": {
    "collapsed": true
   },
   "outputs": [],
   "source": [
    "#plotting histogram of average delay for randomized\n",
    "averagedelaysList = []\n",
    "for address in averageDelay1.keys():\n",
    "    averagedelaysList.append(averageDelay[address])\n",
    "averagedelays = np.array(averagedelaysList)\n",
    "plt.hist(averagedelays, bins = 2000)\n",
    "plt.ylabel('frequency')\n",
    "plt.xlabel('average packet delay for randomized addresses')\n",
    "\n",
    "#axes.set_xlim([0,200000])\n",
    "\n",
    "axes = plt.gca()\n",
    "\n",
    "plt.show()"
   ]
  },
  {
   "cell_type": "code",
   "execution_count": null,
   "metadata": {
    "collapsed": true
   },
   "outputs": [],
   "source": [
    "plotHistogramOfDictionary(averageDelay0, 'freq', 'average packet delay for non-randomized addresses ',2000 )"
   ]
  },
  {
   "cell_type": "code",
   "execution_count": null,
   "metadata": {
    "collapsed": true
   },
   "outputs": [],
   "source": [
    "plotHistogramOfDictionary(medianDelay0_112, 'freq', 'median packet delay for non-randomized addresses for dron 112',2000 )"
   ]
  },
  {
   "cell_type": "code",
   "execution_count": null,
   "metadata": {
    "collapsed": true
   },
   "outputs": [],
   "source": [
    "plotHistogramOfDictionary(stderrDelay0_112, 'freq', 'stdev packet delay for non-randomized addresses for dron 112',2000 )"
   ]
  },
  {
   "cell_type": "code",
   "execution_count": null,
   "metadata": {
    "collapsed": true
   },
   "outputs": [],
   "source": [
    "plt.hist(arr, bins = 500)\n",
    "plt.ylabel('frequency')\n",
    "plt.xlabel('delay')\n",
    "axes.set_xlim([0,200000])\n",
    "\n",
    "axes = plt.gca()\n",
    "\n",
    "plt.show()"
   ]
  },
  {
   "cell_type": "code",
   "execution_count": null,
   "metadata": {
    "collapsed": true
   },
   "outputs": [],
   "source": [
    "#let us check the stability of the signal strengths\n",
    "# line: ['32bf72d3-d707-4c37-b9b5-6318187de63f', 0, 1436047299132, '107', -68]\n",
    "# line: [address, localmac, time, drone, signal]\n",
    "def GetSignalStrengthPerDroneForAddress(address):\n",
    "    signalsDictionary = dict()\n",
    "    for line in json_lines_raw: \n",
    "        mac = line[0]\n",
    "        time = line[2]\n",
    "        drone = line[3]\n",
    "        signal = line[4]\n",
    "        if mac == address:            \n",
    "            pair=[time, signal]\n",
    "            if drone not in signalsDictionary.keys():\n",
    "                signalsDictionary[drone] = []                \n",
    "            signalsDictionary[drone].append(pair)\n",
    "    return signalsDictionary\n",
    "    \n"
   ]
  },
  {
   "cell_type": "code",
   "execution_count": null,
   "metadata": {
    "collapsed": true
   },
   "outputs": [],
   "source": [
    "signalsDict = GetSignalStrengthPerDroneForAddress('e1deda99-163f-4b68-9ade-e1f05d070bf2')\n",
    "print(len(signalsDict))\n",
    "print (signalsDict['112'])"
   ]
  },
  {
   "cell_type": "code",
   "execution_count": null,
   "metadata": {
    "collapsed": true
   },
   "outputs": [],
   "source": [
    "#drawing signal strengths for drone 126 and address e1deda99-163f-4b68-9ade-e1f05d070bf2\n",
    "import numpy as np\n",
    "import matplotlib.pyplot as plt\n",
    "\n",
    "pairs = signalsDict['126']\n",
    "xx = []\n",
    "yy=[]\n",
    "for pair in pairs:\n",
    "    xx.append(pair[0])\n",
    "    yy.append(pair[1])\n",
    "fig, (ax0, ax1) = plt.subplots(nrows=2, sharex=True)\n",
    "ax0.errorbar(xx, yy, yerr=0, fmt='o')\n",
    "ax0.set_title('signal')\n",
    "plt.xlabel('timestamp(ms)')=\n",
    "\n",
    "ax1.errorbar(xx, yy, yerr=0, fmt='o')\n",
    "ax1.set_title('signal')\n",
    "\n",
    "plt.show()"
   ]
  },
  {
   "cell_type": "code",
   "execution_count": null,
   "metadata": {
    "collapsed": true
   },
   "outputs": [],
   "source": [
    "print(signalsDict.keys())"
   ]
  },
  {
   "cell_type": "code",
   "execution_count": 7,
   "metadata": {
    "collapsed": true
   },
   "outputs": [],
   "source": [
    "#computing the timestamps for every address visible at drone 122 -- on the other side of the stadium\n",
    "timestamps122 = dict()\n",
    "for line in json_lines_raw:\n",
    "    if line[3]==\"122\":\n",
    "        address = line[0]\n",
    "        if address not in timestamps122.keys():\n",
    "            timestamps122[address] = []        \n",
    "        timestamps122[address].append(line[2])\n",
    "for address in timestamps122.keys():\n",
    "    timestamps122[address].sort() "
   ]
  },
  {
   "cell_type": "code",
   "execution_count": 14,
   "metadata": {
    "collapsed": false
   },
   "outputs": [
    {
     "name": "stdout",
     "output_type": "stream",
     "text": [
      "eeac5a44-c042-48d5-969f-e561166ccb78 0\n",
      "ac840ed9-063a-4e05-9258-02147c56eee2 0\n",
      "9de184ad-f6a3-4919-874a-a1364fae52ea 0\n",
      "ad90b545-4300-4551-b537-0c64ed3619f3 0\n",
      "898d2f27-43f7-4c43-bbdd-fb2ae4080e4f 0\n",
      "85a84e08-c967-41d0-b56b-522574796776 0\n",
      "90ad65b6-2113-49b0-9773-87351eb6a655 0\n",
      "f343caa3-5395-4f45-8ea6-c308cc5f0a27 0\n",
      "4769f36f-1ab9-4df4-b668-962b8ad13af0 0\n",
      "8a3778f6-68f2-4341-a3b3-e80df986bc7c 0\n",
      "c266c50f-af08-4878-9c19-8e2fe58dd9d2 0\n",
      "baa46528-6a88-41f9-9db9-89c348a5bed6 0\n",
      "0924490d-4873-4db4-924b-88138023b958 0\n",
      "42cf8de5-7b1c-45f7-a279-72a287eec7c5 0\n",
      "ef9b8957-8261-4cd0-80d1-19354b0f23eb 0\n",
      "1b95eda0-491f-46ee-b838-57b016bc85c1 0\n",
      "ce7a8a20-52f6-4560-a724-3b7c74c9f9cc 0\n",
      "d797010d-752a-403c-a868-f4b34568cac0 0\n",
      "36e8d6ff-bab5-426b-b753-cf1852e5cb69 0\n",
      "84c371cf-289f-437c-bdfa-853b67f00f4b 0\n",
      "5b4d68bb-8fc6-440e-86f6-a876ffb3e19a 0\n",
      "49dc3d98-0a0c-41b4-b08c-94cf53a0ed92 0\n",
      "b9b06899-3584-4fc6-b7f1-d8927b9e56b6 0\n",
      "a16a7b8d-ac0c-48ac-a05c-ea995c16c154 1\n",
      "7ff787a0-a354-48e8-b557-c9eeca9bda7b 0\n",
      "885219df-c730-4bb6-91c8-9c732c36751b 0\n",
      "f2287767-34ab-4b25-8c10-0444b744f9a8 0\n",
      "4d7a7c64-b319-4dd0-92a9-886af8f5cbec 0\n",
      "4efd2c72-18fd-4919-9436-98b9a8c2ffe1 0\n",
      "9e10b66a-16c7-4a5c-9d33-572d7d72ea10 0\n",
      "1afbadf5-4585-48ca-a576-749b2bcaf5b0 0\n",
      "c88ece6d-8c5a-437b-bc15-4bc907366d2d 0\n",
      "7f25d660-510b-4427-9816-967f94a2bd3c 0\n",
      "ddd71ccb-066a-4b90-8d79-1488024850c0 0\n",
      "0a5ca814-ed0f-4ff7-b890-929c8c88e578 0\n",
      "094968bf-6c76-45e9-aba9-31a321fdafb1 0\n",
      "c82f2d9d-ac80-4602-9871-1579f05a912a 0\n",
      "8b5a8d5b-412e-46a3-82e6-eff7a2f870f1 0\n",
      "89725c8c-157d-4c41-9d5b-ba21fa16b945 0\n",
      "25246ad7-8e8d-4190-8d99-4906096afd6f 0\n",
      "03e58b8c-636e-4ea0-9ca3-b1d45c8364b7 0\n",
      "2c3efe77-5057-4e36-b506-0d7682b59ab1 0\n",
      "e2a55d7c-5f9e-4e27-ae20-6ccdf7de7b9b 0\n",
      "ca161dff-fd4a-4344-aa63-cc73fbc91a6a 0\n",
      "bd55b1d1-d19e-45a0-bb81-6eb53bce42ab 0\n",
      "168da057-19d9-43d7-bc16-2593ae68e9e9 0\n",
      "7d9fd0cb-e970-46a4-beb3-7be75425e6ca 0\n",
      "18bd5dba-eef5-4979-9464-60d9affc0cd4 0\n",
      "bb9b3033-96f3-4ae7-93d4-f36beeac87c0 0\n",
      "6a0db77e-89de-4533-a9ca-b68870e09598 0\n",
      "b8f3b96f-a4b6-4b74-828d-bcad1d7d349d 0\n",
      "7d926908-697f-46db-a526-545b8bb81ad3 0\n",
      "f88adfbb-5f6a-46ad-a558-8cc24814da04 0\n"
     ]
    }
   ],
   "source": [
    "for address in timestamps122.keys():\n",
    "    if len(timestamps122[address]) > 1000:\n",
    "        print(address + \" \" + str(localMac[address]))\n"
   ]
  },
  {
   "cell_type": "code",
   "execution_count": null,
   "metadata": {
    "collapsed": true
   },
   "outputs": [],
   "source": []
  }
 ],
 "metadata": {
  "kernelspec": {
   "display_name": "Python 3",
   "language": "python",
   "name": "python3"
  },
  "language_info": {
   "codemirror_mode": {
    "name": "ipython",
    "version": 3
   },
   "file_extension": ".py",
   "mimetype": "text/x-python",
   "name": "python",
   "nbconvert_exporter": "python",
   "pygments_lexer": "ipython3",
   "version": "3.5.1"
  }
 },
 "nbformat": 4,
 "nbformat_minor": 0
}
