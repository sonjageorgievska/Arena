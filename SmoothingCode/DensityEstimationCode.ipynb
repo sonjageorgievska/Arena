{
 "cells": [
  {
   "cell_type": "code",
   "execution_count": null,
   "metadata": {
    "collapsed": false
   },
   "outputs": [],
   "source": [
    "# create artificial dataset\n",
    "\n",
    "import pandas as pd\n",
    "\n",
    "data = {'measurementTimestamp': [1000000000000,\n",
    "                                 1000000000001,\n",
    "                                 1000000000002,\n",
    "                                 1000000000003,\n",
    "                                 1000000000004],\n",
    "       'sourceMac': ['2d1ff804-c499-4163-b90f-003df1e4ec65',\n",
    "                     '85a84e08-c967-41d0-b56b-522574796776',\n",
    "                     '2c019c2d-7e9e-42b1-b3bd-1797c918d4a7',\n",
    "                     '2c019c2d-7e9e-42b1-b3bd-1797c918d4a8',\n",
    "                     'e1deda99-163f-4b68-9ade-e1f05d070bf2'],\n",
    "       'coordinates': [[20,20],\n",
    "                       [-20,40],\n",
    "                       [-50,50],\n",
    "                       [60,-20],\n",
    "                       [40,30]],\n",
    "       'x_error': [10,10,10,10,10],\n",
    "       'y_error': [10,10,10,10,10]}\n",
    "        \n",
    "frame = pd.DataFrame(data)"
   ]
  },
  {
   "cell_type": "code",
   "execution_count": null,
   "metadata": {
    "collapsed": true
   },
   "outputs": [],
   "source": [
    "# create artificial dataset\n",
    "\n",
    "import pandas as pd\n",
    "\n",
    "data = {'measurementTimestamp': [1000000000001],\n",
    "       'sourceMac': ['2d1ff804-c499-4163-b90f-003df1e4ec65'],\n",
    "       'coordinates': [[20,20]],\n",
    "       'x_error': [20],\n",
    "       'y_error': [20]}\n",
    "        \n",
    "frame = pd.DataFrame(data)"
   ]
  },
  {
   "cell_type": "code",
   "execution_count": null,
   "metadata": {
    "collapsed": true
   },
   "outputs": [],
   "source": [
    "# real dataset\n",
    "\n",
    "import json\n",
    "\n",
    "data = []\n",
    "with open(\"/Users/philip/Documents/PhD/data/ArenaData/arena_fits/2015-07-05.json\") as f:\n",
    "    data = f.readlines()\n",
    "\n",
    "json_lines = []\n",
    "\n",
    "for line in data:\n",
    "    jsline = json.loads(line)\n",
    "    json_lines.append(jsline)"
   ]
  },
  {
   "cell_type": "code",
   "execution_count": null,
   "metadata": {
    "collapsed": true
   },
   "outputs": [],
   "source": [
    "def randomMac():\n",
    "   return str(uuid.uuid4())"
   ]
  },
  {
   "cell_type": "code",
   "execution_count": null,
   "metadata": {
    "collapsed": true
   },
   "outputs": [],
   "source": [
    "# create artificial dataset\n",
    "\n",
    "import pandas as pd\n",
    "import numpy as np\n",
    "import uuid\n",
    "\n",
    "data = {'sourceMac': pd.Series([randomMac() for i in range(1000)])}\n",
    "frame = pd.DataFrame(data)\n",
    "\n",
    "timestamps = np.arange(1000000000000,1000000001000,1)\n",
    "coordinates = pd.Series([[0,0] for i in range(1000)])\n",
    "x_error = pd.Series(np.ones(1000)) * 3.65\n",
    "y_error = pd.Series(np.ones(1000)) * 3.65\n",
    "frame['measurementTimestamp'] = timestamps\n",
    "frame['coordinates'] = coordinates\n",
    "frame['x_error'] = x_error\n",
    "frame['y_error'] = y_error"
   ]
  },
  {
   "cell_type": "code",
   "execution_count": null,
   "metadata": {
    "collapsed": true
   },
   "outputs": [],
   "source": [
    "len(frame)"
   ]
  },
  {
   "cell_type": "code",
   "execution_count": null,
   "metadata": {
    "collapsed": true
   },
   "outputs": [],
   "source": [
    "data = {'sourceMac': pd.Series([mac for mac in set(frame['sourceMac'])])}\n",
    "\n",
    "for i in range(1,10):\n",
    "    \n",
    "    df = pd.DataFrame(data)\n",
    "    \n",
    "    timestamps = np.arange(1000000000000 + i * 120000,\\\n",
    "                           1000000000000 + i * 120000 + 1000,1)\n",
    "    coordinates = []\n",
    "    for k in range(1000):\n",
    "        x = frame['coordinates'].values[(i-1)*1000+k][0]\n",
    "        y = frame['coordinates'].values[(i-1)*1000+k][1]\n",
    "        for m in range(120):\n",
    "            r1 = np.random.randn()\n",
    "            r2 = np.random.randn()\n",
    "            x += r1\n",
    "            y += r2\n",
    "        coordinates.append([x,y])\n",
    "    coordinates = pd.Series(coordinates)\n",
    "    x_error = pd.Series(np.zeros(1000))\n",
    "    y_error = pd.Series(np.zeros(1000))\n",
    "    df['measurementTimestamp'] = timestamps\n",
    "    df['coordinates'] = coordinates\n",
    "    df['x_error'] = x_error\n",
    "    df['y_error'] = y_error\n",
    "    \n",
    "    dfs = [frame, df]\n",
    "    \n",
    "    frame = pd.concat(dfs)"
   ]
  },
  {
   "cell_type": "code",
   "execution_count": null,
   "metadata": {
    "collapsed": true
   },
   "outputs": [],
   "source": [
    "len(frame)"
   ]
  },
  {
   "cell_type": "code",
   "execution_count": null,
   "metadata": {
    "collapsed": true
   },
   "outputs": [],
   "source": [
    "# real dataset\n",
    "\n",
    "import pandas as pd\n",
    "\n",
    "frame = pd.DataFrame.from_dict(json_lines)"
   ]
  },
  {
   "cell_type": "code",
   "execution_count": null,
   "metadata": {
    "collapsed": true
   },
   "outputs": [],
   "source": [
    "# rebuild dataframe\n",
    "# make dataframe of dicts nested in 'value' column\n",
    "value = pd.DataFrame(list(frame['value']))\n",
    "del frame['value']\n",
    "\n",
    "# make dataframe of dicts nested in 'trackeeHistory' column\n",
    "trackee = pd.DataFrame(list(value['trackeeHistory']))\n",
    "del value['trackeeHistory']\n",
    "\n",
    "chi2PerDof = pd.DataFrame(list(trackee['chi2PerDof']))\n",
    "chi2PerDof.columns = ['chi2PerDof']\n",
    "probChi2 = pd.DataFrame(list(trackee['probChi2']))\n",
    "probChi2.columns = ['probChi2']\n",
    "nMeasurements = pd.DataFrame(list(trackee['nMeasurements']))\n",
    "nMeasurements.columns = ['nMeasurements']"
   ]
  },
  {
   "cell_type": "code",
   "execution_count": null,
   "metadata": {
    "collapsed": true
   },
   "outputs": [],
   "source": [
    "# make dataframe with a 'coordinates' column\n",
    "averagecoordinate = pd.DataFrame(list(value['averagecoordinate']))\n",
    "coordinates = pd.DataFrame(list(averagecoordinate['avg']))\n",
    "averagecoordinate = averagecoordinate.join(coordinates)\n",
    "error = pd.DataFrame(list(averagecoordinate['error']))\n",
    "errorcoordinates = pd.DataFrame(list(error['coordinates']))\n",
    "del errorcoordinates[2]\n",
    "errorcoordinates.columns = ['x_error','y_error']\n",
    "\n",
    "del averagecoordinate['avg']\n",
    "del value['averagecoordinate']\n",
    "\n",
    "# join dataframes\n",
    "frame = frame.join(value.join(averagecoordinate))\n",
    "frame = frame.join(chi2PerDof)\n",
    "frame = frame.join(probChi2)\n",
    "frame = frame.join(errorcoordinates)\n",
    "frame = frame.join(nMeasurements)\n",
    "del frame['regionsNodesIds']\n",
    "del frame['error']\n",
    "del frame['type']"
   ]
  },
  {
   "cell_type": "code",
   "execution_count": null,
   "metadata": {
    "collapsed": true
   },
   "outputs": [],
   "source": [
    "frame = frame.sort_values(by='measurementTimestamp')"
   ]
  },
  {
   "cell_type": "code",
   "execution_count": null,
   "metadata": {
    "collapsed": false
   },
   "outputs": [],
   "source": [
    "frame[:3]"
   ]
  },
  {
   "cell_type": "code",
   "execution_count": null,
   "metadata": {
    "collapsed": true
   },
   "outputs": [],
   "source": [
    "def movingWindow(k):\n",
    "    start = min(frame['measurementTimestamp']) + k * timestep\n",
    "    stop = start + interval\n",
    "\n",
    "    window = frame[(frame['measurementTimestamp'] >= start) & \n",
    "                       (frame['measurementTimestamp'] < stop)]\n",
    "\n",
    "    return window"
   ]
  },
  {
   "cell_type": "code",
   "execution_count": null,
   "metadata": {
    "collapsed": true
   },
   "outputs": [],
   "source": [
    "def createHistograms(window):\n",
    "    grids = np.zeros((len(set(window['sourceMac'])), height,width))\n",
    "\n",
    "    # dictionary of histograms (with mac addresses as keys)\n",
    "    histos = dict(zip(set(window['sourceMac']), grids))\n",
    "    histos_old = dict(zip(set(window['sourceMac']), grids))\n",
    "    \n",
    "    # dictionary of normalization counts \n",
    "    norm_counts = dict( zip(set(window['sourceMac']), np.zeros(len(set(window['sourceMac'])))))\n",
    "    \n",
    "    return histos, norm_counts, histos_old"
   ]
  },
  {
   "cell_type": "code",
   "execution_count": null,
   "metadata": {
    "collapsed": true
   },
   "outputs": [],
   "source": [
    "def resetHistograms(histos):\n",
    "    \n",
    "    #print(histos_old['2d1ff804-c499-4163-b90f-003df1e4ec65'].sum())\n",
    "    #print(histos['2d1ff804-c499-4163-b90f-003df1e4ec65'].sum())\n",
    "    histos_old = copy.deepcopy(histos)\n",
    "    #print(histos_old['2d1ff804-c499-4163-b90f-003df1e4ec65'].sum())\n",
    "    \n",
    "    grids = np.zeros((len(histos), height,width))\n",
    "    histos = dict(zip(histos.keys(), grids))\n",
    "    \n",
    "    # dictionary of normalization counts \n",
    "    norm_counts = dict( zip(histos.keys(), np.zeros(len(histos))))\n",
    "    \n",
    "    return histos, norm_counts, histos_old"
   ]
  },
  {
   "cell_type": "code",
   "execution_count": null,
   "metadata": {
    "collapsed": true
   },
   "outputs": [],
   "source": [
    "def kernel(x, sigma): \n",
    "    return 1/(sqrt(2*pi) * sigma) * exp(-(x**2)/(2*sigma**2))"
   ]
  },
  {
   "cell_type": "code",
   "execution_count": null,
   "metadata": {
    "collapsed": false
   },
   "outputs": [],
   "source": [
    "def smoothHistogram(window, i, xbin, ybin):\n",
    "    #### kernel density estimation #########################################\n",
    "\n",
    "    sigma_x = window['x_error'].values[i] / 3\n",
    "    sigma_y = window['y_error'].values[i] / 3\n",
    "    \n",
    "    smooth_bins = np.zeros((height, width))\n",
    "    \n",
    "    if sigma_x > 0.4 or sigma_y > 0.4:\n",
    "        for u in range(width):\n",
    "            for v in range(height):\n",
    "                smooth_bins[v][u] += kernel((u - xbin), sigma_x) \\\n",
    "                * kernel((v - ybin), sigma_y)\n",
    "    else:\n",
    "        smooth_bins[ybin][xbin] += 1\n",
    "    \n",
    "    '''\n",
    "    if sigma_x > 0.4 and sigma_y > 0.4:\n",
    "        var = multivariate_normal(mean=[xbin,ybin], cov=[[sigma_x**2,0],[0,sigma_y**2]])\n",
    "        for u in range(width):\n",
    "                for v in range(height):\n",
    "                    smooth_bins[v][u] += var.pdf([u,v])\n",
    "    \n",
    "    '''\n",
    "    #if i > 30 and i < 60:\n",
    "    #    print(sigma_x, sigma_y, smooth_bins.sum())\n",
    "\n",
    "    ######################################################################\n",
    "    \n",
    "    return smooth_bins"
   ]
  },
  {
   "cell_type": "code",
   "execution_count": null,
   "metadata": {
    "collapsed": true
   },
   "outputs": [],
   "source": [
    "def updateHistograms(window, histos, norm_counts):\n",
    "    \n",
    "    for i in range(len(window)):\n",
    "        # bin positions\n",
    "        xbin = width/2  + floor(window['coordinates'].values[i][0] / 3)\n",
    "        ybin = height/2 + floor(window['coordinates'].values[i][1] / 3)\n",
    "\n",
    "        if xbin >= 0 and xbin < width and ybin >= 0 and ybin < height:\n",
    "            \n",
    "            smooth_bins = smoothHistogram(window, i, xbin, ybin)\n",
    "            \n",
    "            # update density histograms\n",
    "            if not window['sourceMac'].values[i] in histos:\n",
    "                histos[window['sourceMac'].values[i]] = np.zeros((height,width))\n",
    "                norm_counts[window['sourceMac'].values[i]] = 0\n",
    "                \n",
    "            histos[window['sourceMac'].values[i]] += smooth_bins\n",
    "            norm_counts[window['sourceMac'].values[i]] += 1\n",
    "            \n",
    "    return histos, norm_counts"
   ]
  },
  {
   "cell_type": "code",
   "execution_count": null,
   "metadata": {
    "collapsed": true
   },
   "outputs": [],
   "source": [
    "def normalizeHistograms(histos, histos_old, norm_counts):\n",
    "    # total density histogram per period\n",
    "    total_dens_histo = np.zeros((height, width))\n",
    "    \n",
    "    # generate weighting function with dispersion set to \n",
    "    # Brownian motion with v = 1 m/s and t = 120 sec\n",
    "    \n",
    "    var = multivariate_normal(mean=[39,29], cov=[[13.33,0],[0,13.33]])\n",
    "    \n",
    "    weights = np.zeros((60,80))\n",
    "    for i in np.arange(80):\n",
    "        for j in np.arange(60):\n",
    "            weights[j][i] += var.pdf([i,j])\n",
    "    \n",
    "    for mac in histos.keys():\n",
    "        if norm_counts[mac] == 0:\n",
    "            # smooth existing pdf from previous time interval\n",
    "            # apply a convolution\n",
    "                    \n",
    "            conv = signal.convolve2d(histos_old[mac], weights, boundary='wrap', mode='same')\n",
    "            \n",
    "            histos[mac] = conv\n",
    "            \n",
    "            total_dens_histo += conv\n",
    "        else:\n",
    "            total_dens_histo += histos[mac] / norm_counts[mac]\n",
    "                \n",
    "    return total_dens_histo, histos"
   ]
  },
  {
   "cell_type": "code",
   "execution_count": null,
   "metadata": {
    "collapsed": true
   },
   "outputs": [],
   "source": [
    "def runDataAnalysis():\n",
    "    \n",
    "    for k in range(periods):\n",
    "        window = movingWindow(k)\n",
    "        \n",
    "        if k < 1:\n",
    "            histos, norm_counts, histos_old = createHistograms(window)   \n",
    "        else:\n",
    "            histos, norm_counts, histos_old = resetHistograms(histos)\n",
    "           \n",
    "        histos, norm_counts = updateHistograms(window, histos, norm_counts)\n",
    "        \n",
    "        total_dens_histo, histos = normalizeHistograms(histos, histos_old, norm_counts)\n",
    "        \n",
    "        np.savetxt('output/test-com-histo_%d.csv' %  k, total_dens_histo, delimiter=',')\n",
    "        print('Time window:', k)      "
   ]
  },
  {
   "cell_type": "code",
   "execution_count": null,
   "metadata": {
    "collapsed": false
   },
   "outputs": [],
   "source": [
    "from math import floor, ceil, sqrt, pi, exp\n",
    "import numpy as np\n",
    "from scipy.stats import multivariate_normal\n",
    "from scipy import signal\n",
    "import copy\n",
    "\n",
    "# size of binned region (number of bins 3x3m)\n",
    "width = 80; height = 60\n",
    "# numbers of time intervals\n",
    "periods = 30\n",
    "timestep = 30000\n",
    "interval = 120000\n",
    "\n",
    "runDataAnalysis()"
   ]
  },
  {
   "cell_type": "code",
   "execution_count": null,
   "metadata": {
    "collapsed": false
   },
   "outputs": [],
   "source": [
    "from mpl_toolkits.mplot3d import Axes3D\n",
    "import matplotlib.pyplot as plt\n",
    "import numpy as np\n",
    "\n",
    "fig = plt.figure(figsize=(16,10))\n",
    "\n",
    "#col = ['r', 'y', 'c', 'k', 'c','r'] * height * width\n",
    "col = ['w','r','w','w','w','w'] * height * width\n",
    "# colors = np.random.choice(col, height*width)\n",
    "\n",
    "for k in range(15,periods):\n",
    "    \n",
    "    ax = fig.add_subplot(111, projection='3d')\n",
    "\n",
    "    x_data, y_data = np.meshgrid( np.arange(width),\n",
    "                                  np.arange(height)*(-1) )\n",
    "\n",
    "    x_data = x_data.flatten()\n",
    "    y_data = y_data.flatten()\n",
    "\n",
    "    z_data = np.loadtxt('output/test-com-histo_%d.csv' % k, delimiter=',').flatten()\n",
    "    #z_data = total_dens_histos[k].flatten()\n",
    "    ax.set_zlim3d(0, 18)\n",
    "    ax.bar3d( x_data,\n",
    "              y_data,\n",
    "              np.zeros(len(z_data)),\n",
    "              1, 1, z_data, color=col) # \n",
    "    if k < 10:\n",
    "        number = '000' + str(k)\n",
    "    elif k > 9:\n",
    "        number = '00' + str(k)\n",
    "    elif k > 99:\n",
    "        number = '0' + str(k)\n",
    "    plt.savefig('output/com-histograms-%s.png' % number)\n",
    "\n",
    "#plt.show()"
   ]
  },
  {
   "cell_type": "code",
   "execution_count": null,
   "metadata": {
    "collapsed": true
   },
   "outputs": [],
   "source": []
  }
 ],
 "metadata": {
  "kernelspec": {
   "display_name": "Python 3",
   "language": "python",
   "name": "python3"
  },
  "language_info": {
   "codemirror_mode": {
    "name": "ipython",
    "version": 3
   },
   "file_extension": ".py",
   "mimetype": "text/x-python",
   "name": "python",
   "nbconvert_exporter": "python",
   "pygments_lexer": "ipython3",
   "version": "3.5.1"
  }
 },
 "nbformat": 4,
 "nbformat_minor": 0
}
