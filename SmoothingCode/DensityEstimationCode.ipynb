{
 "cells": [
  {
   "cell_type": "code",
   "execution_count": null,
   "metadata": {
    "collapsed": false
   },
   "outputs": [],
   "source": [
    "# create artificial dataset\n",
    "\n",
    "import pandas as pd\n",
    "\n",
    "data = {'measurementTimestamp': [1000000000000,\n",
    "                                 1000000000001,\n",
    "                                 1000000000002,\n",
    "                                 1000000000003,\n",
    "                                 1000000000004],\n",
    "       'sourceMac': ['2d1ff804-c499-4163-b90f-003df1e4ec65',\n",
    "                     '85a84e08-c967-41d0-b56b-522574796776',\n",
    "                     '2c019c2d-7e9e-42b1-b3bd-1797c918d4a7',\n",
    "                     '2c019c2d-7e9e-42b1-b3bd-1797c918d4a8',\n",
    "                     'e1deda99-163f-4b68-9ade-e1f05d070bf2'],\n",
    "       'coordinates': [[20,20],\n",
    "                       [-20,40],\n",
    "                       [-50,50],\n",
    "                       [70,-20],\n",
    "                       [40,30]],\n",
    "       'x_error': [20,20,20,20,20],\n",
    "       'y_error': [20,20,1,1.3,20]}\n",
    "        \n",
    "frame = pd.DataFrame(data)"
   ]
  },
  {
   "cell_type": "code",
   "execution_count": 16,
   "metadata": {
    "collapsed": true
   },
   "outputs": [],
   "source": [
    "# create artificial dataset\n",
    "\n",
    "import pandas as pd\n",
    "\n",
    "data = {'measurementTimestamp': [1000000000001],\n",
    "       'sourceMac': ['2d1ff804-c499-4163-b90f-003df1e4ec65'],\n",
    "       'coordinates': [[80,50]],\n",
    "       'x_error': [50],\n",
    "       'y_error': [50]}\n",
    "        \n",
    "frame = pd.DataFrame(data)"
   ]
  },
  {
   "cell_type": "code",
   "execution_count": 21,
   "metadata": {
    "collapsed": true
   },
   "outputs": [],
   "source": [
    "# real dataset\n",
    "\n",
    "import json\n",
    "\n",
    "data = []\n",
    "with open(\"/Users/philip/Documents/PhD/data/ArenaData/arena_fits/2015-07-05.json\") as f:\n",
    "    data = f.readlines()\n",
    "\n",
    "json_lines = []\n",
    "\n",
    "for line in data:\n",
    "    jsline = json.loads(line)\n",
    "    json_lines.append(jsline)"
   ]
  },
  {
   "cell_type": "code",
   "execution_count": 22,
   "metadata": {
    "collapsed": true
   },
   "outputs": [],
   "source": [
    "import pandas as pd\n",
    "\n",
    "frame = pd.DataFrame.from_dict(json_lines)"
   ]
  },
  {
   "cell_type": "code",
   "execution_count": 23,
   "metadata": {
    "collapsed": true
   },
   "outputs": [],
   "source": [
    "# rebuild dataframe\n",
    "# make dataframe of dicts nested in 'value' column\n",
    "value = pd.DataFrame(list(frame['value']))\n",
    "del frame['value']\n",
    "\n",
    "# make dataframe of dicts nested in 'trackeeHistory' column\n",
    "trackee = pd.DataFrame(list(value['trackeeHistory']))\n",
    "del value['trackeeHistory']\n",
    "\n",
    "chi2PerDof = pd.DataFrame(list(trackee['chi2PerDof']))\n",
    "chi2PerDof.columns = ['chi2PerDof']\n",
    "probChi2 = pd.DataFrame(list(trackee['probChi2']))\n",
    "probChi2.columns = ['probChi2']\n",
    "nMeasurements = pd.DataFrame(list(trackee['nMeasurements']))\n",
    "nMeasurements.columns = ['nMeasurements']"
   ]
  },
  {
   "cell_type": "code",
   "execution_count": 24,
   "metadata": {
    "collapsed": true
   },
   "outputs": [],
   "source": [
    "# make dataframe with a 'coordinates' column\n",
    "averagecoordinate = pd.DataFrame(list(value['averagecoordinate']))\n",
    "coordinates = pd.DataFrame(list(averagecoordinate['avg']))\n",
    "averagecoordinate = averagecoordinate.join(coordinates)\n",
    "error = pd.DataFrame(list(averagecoordinate['error']))\n",
    "errorcoordinates = pd.DataFrame(list(error['coordinates']))\n",
    "del errorcoordinates[2]\n",
    "errorcoordinates.columns = ['x_error','y_error']\n",
    "\n",
    "del averagecoordinate['avg']\n",
    "del value['averagecoordinate']\n",
    "\n",
    "# join dataframes\n",
    "frame = frame.join(value.join(averagecoordinate))\n",
    "frame = frame.join(chi2PerDof)\n",
    "frame = frame.join(probChi2)\n",
    "frame = frame.join(errorcoordinates)\n",
    "frame = frame.join(nMeasurements)\n",
    "del frame['regionsNodesIds']\n",
    "del frame['error']\n",
    "del frame['type']"
   ]
  },
  {
   "cell_type": "code",
   "execution_count": 25,
   "metadata": {
    "collapsed": true
   },
   "outputs": [],
   "source": [
    "frame = frame.sort_values(by='measurementTimestamp')"
   ]
  },
  {
   "cell_type": "code",
   "execution_count": 26,
   "metadata": {
    "collapsed": false
   },
   "outputs": [
    {
     "data": {
      "text/html": [
       "<div>\n",
       "<table border=\"1\" class=\"dataframe\">\n",
       "  <thead>\n",
       "    <tr style=\"text-align: right;\">\n",
       "      <th></th>\n",
       "      <th>measurementTimestamp</th>\n",
       "      <th>processingTimestamp</th>\n",
       "      <th>sourceMac</th>\n",
       "      <th>coordinates</th>\n",
       "      <th>chi2PerDof</th>\n",
       "      <th>probChi2</th>\n",
       "      <th>x_error</th>\n",
       "      <th>y_error</th>\n",
       "      <th>nMeasurements</th>\n",
       "    </tr>\n",
       "  </thead>\n",
       "  <tbody>\n",
       "    <tr>\n",
       "      <th>73</th>\n",
       "      <td>1436047367297</td>\n",
       "      <td>1436047381262</td>\n",
       "      <td>62e72aeb-2c41-44ed-88a6-3423267c1cb5</td>\n",
       "      <td>[-7.459665, -75.723003, 0.0]</td>\n",
       "      <td>0.101141</td>\n",
       "      <td>0.750465</td>\n",
       "      <td>3.838867</td>\n",
       "      <td>0.298622</td>\n",
       "      <td>4</td>\n",
       "    </tr>\n",
       "    <tr>\n",
       "      <th>141</th>\n",
       "      <td>1436047367330</td>\n",
       "      <td>1436047381441</td>\n",
       "      <td>7c824b77-a38b-4c3d-bb6a-3e40f5373d97</td>\n",
       "      <td>[46.207027, -29.514564, 0.0]</td>\n",
       "      <td>1.323366</td>\n",
       "      <td>0.249989</td>\n",
       "      <td>3.778767</td>\n",
       "      <td>2.691939</td>\n",
       "      <td>4</td>\n",
       "    </tr>\n",
       "    <tr>\n",
       "      <th>149</th>\n",
       "      <td>1436047367683</td>\n",
       "      <td>1436047381455</td>\n",
       "      <td>4ff97883-b9e8-4e2e-8b22-9bd093cfa401</td>\n",
       "      <td>[-110.189892, -2.635529, 0.0]</td>\n",
       "      <td>3.053348</td>\n",
       "      <td>0.080571</td>\n",
       "      <td>5.761471</td>\n",
       "      <td>5.406795</td>\n",
       "      <td>4</td>\n",
       "    </tr>\n",
       "  </tbody>\n",
       "</table>\n",
       "</div>"
      ],
      "text/plain": [
       "     measurementTimestamp  processingTimestamp  \\\n",
       "73          1436047367297        1436047381262   \n",
       "141         1436047367330        1436047381441   \n",
       "149         1436047367683        1436047381455   \n",
       "\n",
       "                                sourceMac                    coordinates  \\\n",
       "73   62e72aeb-2c41-44ed-88a6-3423267c1cb5   [-7.459665, -75.723003, 0.0]   \n",
       "141  7c824b77-a38b-4c3d-bb6a-3e40f5373d97   [46.207027, -29.514564, 0.0]   \n",
       "149  4ff97883-b9e8-4e2e-8b22-9bd093cfa401  [-110.189892, -2.635529, 0.0]   \n",
       "\n",
       "     chi2PerDof  probChi2   x_error   y_error  nMeasurements  \n",
       "73     0.101141  0.750465  3.838867  0.298622              4  \n",
       "141    1.323366  0.249989  3.778767  2.691939              4  \n",
       "149    3.053348  0.080571  5.761471  5.406795              4  "
      ]
     },
     "execution_count": 26,
     "metadata": {},
     "output_type": "execute_result"
    }
   ],
   "source": [
    "frame[:3]"
   ]
  },
  {
   "cell_type": "code",
   "execution_count": 7,
   "metadata": {
    "collapsed": true
   },
   "outputs": [],
   "source": [
    "def movingWindow(k):\n",
    "    start = min(frame['measurementTimestamp']) + k * timestep\n",
    "    stop = start + interval\n",
    "\n",
    "    window = frame[(frame['measurementTimestamp'] >= start) & \n",
    "                       (frame['measurementTimestamp'] < stop)]\n",
    "\n",
    "    return window"
   ]
  },
  {
   "cell_type": "code",
   "execution_count": 8,
   "metadata": {
    "collapsed": true
   },
   "outputs": [],
   "source": [
    "def createHistograms(window):\n",
    "    grids = np.zeros((len(set(window['sourceMac'])), height,width))\n",
    "\n",
    "    # dictionary of histograms (with mac addresses as keys)\n",
    "    histos = dict(zip(set(window['sourceMac']), grids))\n",
    "    \n",
    "    # dictionary of normalization counts \n",
    "    norm_counts = dict( zip(set(window['sourceMac']), np.zeros(len(set(window['sourceMac'])))))\n",
    "    \n",
    "    return histos, norm_counts"
   ]
  },
  {
   "cell_type": "code",
   "execution_count": 9,
   "metadata": {
    "collapsed": true
   },
   "outputs": [],
   "source": [
    "def kernel(x, sigma): \n",
    "    return 1/(sqrt(2*pi) * sigma) * exp(-(x**2)/(2*sigma**2))"
   ]
  },
  {
   "cell_type": "code",
   "execution_count": 10,
   "metadata": {
    "collapsed": false
   },
   "outputs": [],
   "source": [
    "def smoothHistogram(window, i, xbin, ybin):\n",
    "    #### kernel density estimation #########################################\n",
    "\n",
    "    sigma_x = window['x_error'].values[i] / 3\n",
    "    sigma_y = window['y_error'].values[i] / 3\n",
    "    \n",
    "    smooth_bins = np.zeros((height, width))\n",
    "    \n",
    "    if sigma_x > 0.4 and sigma_y > 0.4:\n",
    "        for u in range(width):\n",
    "            for v in range(height):\n",
    "                smooth_bins[v][u] += kernel((u - xbin), sigma_x) \\\n",
    "                * kernel((v - ybin), sigma_y)\n",
    "    else:\n",
    "        smooth_bins[ybin][xbin] += 1\n",
    "    \n",
    "    '''\n",
    "    if sigma_x > 0.4 and sigma_y > 0.4:\n",
    "        var = multivariate_normal(mean=[xbin,ybin], cov=[[sigma_x**2,0],[0,sigma_y**2]])\n",
    "        for u in range(width):\n",
    "                for v in range(height):\n",
    "                    smooth_bins[v][u] += var.pdf([u,v])\n",
    "    \n",
    "    '''\n",
    "    #if i > 30 and i < 60:\n",
    "    #    print(sigma_x, sigma_y, smooth_bins.sum())\n",
    "\n",
    "    ######################################################################\n",
    "    \n",
    "    return smooth_bins"
   ]
  },
  {
   "cell_type": "code",
   "execution_count": 11,
   "metadata": {
    "collapsed": true
   },
   "outputs": [],
   "source": [
    "def updateHistograms(window, histos, norm_counts):\n",
    "    \n",
    "    for i in range(len(window)):\n",
    "        # bin positions\n",
    "        xbin = width/2  + floor(window['coordinates'].values[i][0] / 3)\n",
    "        ybin = height/2 + floor(window['coordinates'].values[i][1] / 3)\n",
    "\n",
    "        if xbin >= 0 and xbin < width and ybin >= 0 and ybin < height:\n",
    "            \n",
    "            smooth_bins = smoothHistogram(window, i, xbin, ybin)\n",
    "            \n",
    "            # update density histogram\n",
    "            histos[window['sourceMac'].values[i]] += smooth_bins\n",
    "            norm_counts[window['sourceMac'].values[i]] += 1\n",
    "            \n",
    "    return histos, norm_counts"
   ]
  },
  {
   "cell_type": "code",
   "execution_count": 31,
   "metadata": {
    "collapsed": true
   },
   "outputs": [],
   "source": [
    "def normalizeHistograms(histos, norm_counts):\n",
    "    # total density histogram per period\n",
    "    total_dens_histo = np.zeros((height, width))\n",
    "    print(len(histos))\n",
    "    \n",
    "    for mac in histos.keys():\n",
    "        if norm_counts[mac] > 0:\n",
    "            total_dens_histo += histos[mac] / norm_counts[mac]\n",
    "    return total_dens_histo"
   ]
  },
  {
   "cell_type": "code",
   "execution_count": 32,
   "metadata": {
    "collapsed": true
   },
   "outputs": [],
   "source": [
    "def runDataAnalysis():\n",
    "    \n",
    "    for k in range(periods):\n",
    "        window = movingWindow(k)\n",
    "        histos, norm_counts = createHistograms(window)\n",
    "        histos, norm_counts = updateHistograms(window, histos, norm_counts)\n",
    "        total_dens_histo = normalizeHistograms(histos, norm_counts)\n",
    "        \n",
    "        np.savetxt('output/test_dens_histo_%d.csv' %  k, total_dens_histo, delimiter=',')\n",
    "        #print('Time window:', k)\n",
    "       "
   ]
  },
  {
   "cell_type": "code",
   "execution_count": 33,
   "metadata": {
    "collapsed": false
   },
   "outputs": [
    {
     "name": "stderr",
     "output_type": "stream",
     "text": [
      "/Library/Frameworks/Python.framework/Versions/3.5/lib/python3.5/site-packages/ipykernel/__main__.py:14: DeprecationWarning: using a non-integer number instead of an integer will result in an error in the future\n"
     ]
    },
    {
     "name": "stdout",
     "output_type": "stream",
     "text": [
      "493\n",
      "560\n",
      "594\n",
      "672\n",
      "731\n",
      "743\n",
      "743\n",
      "721\n",
      "728\n",
      "756\n",
      "770\n",
      "787\n",
      "786\n",
      "800\n",
      "750\n",
      "722\n",
      "700\n",
      "670\n",
      "720\n",
      "772\n",
      "773\n",
      "802\n",
      "820\n",
      "807\n",
      "817\n",
      "826\n",
      "820\n",
      "817\n",
      "808\n",
      "810\n",
      "788\n",
      "783\n",
      "779\n",
      "722\n",
      "742\n",
      "708\n",
      "678\n",
      "660\n",
      "606\n",
      "604\n",
      "591\n",
      "604\n",
      "587\n",
      "521\n",
      "492\n",
      "467\n",
      "464\n",
      "524\n",
      "514\n",
      "523\n",
      "522\n",
      "520\n",
      "508\n",
      "503\n",
      "514\n",
      "492\n",
      "476\n",
      "476\n",
      "515\n",
      "507\n"
     ]
    }
   ],
   "source": [
    "from math import floor, ceil, sqrt, pi, exp\n",
    "import numpy as np\n",
    "from scipy.stats import multivariate_normal\n",
    "\n",
    "# size of binned region (number of bins 3x3m)\n",
    "width = 80; height = 60\n",
    "# numbers of time intervals\n",
    "periods = 60\n",
    "timestep = 30000\n",
    "interval = 120000\n",
    "\n",
    "runDataAnalysis()"
   ]
  },
  {
   "cell_type": "code",
   "execution_count": 19,
   "metadata": {
    "collapsed": false
   },
   "outputs": [],
   "source": [
    "from mpl_toolkits.mplot3d import Axes3D\n",
    "import matplotlib.pyplot as plt\n",
    "import numpy as np\n",
    "\n",
    "fig = plt.figure(figsize=(16,10))\n",
    "\n",
    "#col = ['r', 'y', 'c', 'k', 'c','r'] * height * width\n",
    "col = ['w','r','w','w','w','w'] * height * width\n",
    "# colors = np.random.choice(col, height*width)\n",
    "\n",
    "for k in range(periods):\n",
    "    \n",
    "    ax = fig.add_subplot(111, projection='3d')\n",
    "\n",
    "    x_data, y_data = np.meshgrid( np.arange(width),\n",
    "                                  np.arange(height)*(-1) )\n",
    "\n",
    "    x_data = x_data.flatten()\n",
    "    y_data = y_data.flatten()\n",
    "\n",
    "    z_data = np.loadtxt('output/test_dens_histo_%d.csv' % k, delimiter=',').flatten()\n",
    "    #z_data = total_dens_histos[k].flatten()\n",
    "    ax.set_zlim3d(0, 0.001)\n",
    "    ax.bar3d( x_data,\n",
    "              y_data,\n",
    "              np.zeros(len(z_data)),\n",
    "              1, 1, z_data, color=col) # \n",
    "    if k < 10:\n",
    "        number = '000' + str(k)\n",
    "    elif k > 9:\n",
    "        number = '00' + str(k)\n",
    "    elif k > 99:\n",
    "        number = '0' + str(k)\n",
    "    plt.savefig('output/smoothed-unity-histograms-2-%s.png' % number)\n",
    "\n",
    "#plt.show()"
   ]
  },
  {
   "cell_type": "code",
   "execution_count": null,
   "metadata": {
    "collapsed": true
   },
   "outputs": [],
   "source": []
  }
 ],
 "metadata": {
  "kernelspec": {
   "display_name": "Python 3",
   "language": "python",
   "name": "python3"
  },
  "language_info": {
   "codemirror_mode": {
    "name": "ipython",
    "version": 3
   },
   "file_extension": ".py",
   "mimetype": "text/x-python",
   "name": "python",
   "nbconvert_exporter": "python",
   "pygments_lexer": "ipython3",
   "version": "3.5.1"
  }
 },
 "nbformat": 4,
 "nbformat_minor": 0
}
